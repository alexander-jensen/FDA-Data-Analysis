{
 "cells": [
  {
   "cell_type": "markdown",
   "id": "d06051db",
   "metadata": {},
   "source": [
    "# Branded food data frame analysis"
   ]
  },
  {
   "cell_type": "code",
   "execution_count": 1,
   "id": "6b7bd60d",
   "metadata": {},
   "outputs": [],
   "source": [
    "import pandas as pd\n",
    "import numpy as np\n",
    "import seaborn as sns\n",
    "import os\n",
    "from scipy.stats import ks_2samp\n",
    "import nltk\n",
    "import regex"
   ]
  },
  {
   "cell_type": "code",
   "execution_count": 2,
   "id": "fa2f364f",
   "metadata": {},
   "outputs": [],
   "source": [
    "filepath = lambda x: os.path.join('data', x)"
   ]
  },
  {
   "cell_type": "code",
   "execution_count": 6,
   "id": "fb1b7108",
   "metadata": {
    "scrolled": true
   },
   "outputs": [
    {
     "name": "stderr",
     "output_type": "stream",
     "text": [
      "C:\\Users\\Alexander\\AppData\\Local\\Temp\\ipykernel_18976\\1118146348.py:1: DtypeWarning: Columns (6,9,12,17,18,19) have mixed types. Specify dtype option on import or set low_memory=False.\n",
      "  branded_food = pd.read_csv(filepath('branded_food.csv'), dtype={\n"
     ]
    },
    {
     "data": {
      "text/html": [
       "<div>\n",
       "<style scoped>\n",
       "    .dataframe tbody tr th:only-of-type {\n",
       "        vertical-align: middle;\n",
       "    }\n",
       "\n",
       "    .dataframe tbody tr th {\n",
       "        vertical-align: top;\n",
       "    }\n",
       "\n",
       "    .dataframe thead th {\n",
       "        text-align: right;\n",
       "    }\n",
       "</style>\n",
       "<table border=\"1\" class=\"dataframe\">\n",
       "  <thead>\n",
       "    <tr style=\"text-align: right;\">\n",
       "      <th></th>\n",
       "      <th>fdc_id</th>\n",
       "      <th>brand_owner</th>\n",
       "      <th>brand_name</th>\n",
       "      <th>subbrand_name</th>\n",
       "      <th>gtin_upc</th>\n",
       "      <th>ingredients</th>\n",
       "      <th>not_a_significant_source_of</th>\n",
       "      <th>serving_size</th>\n",
       "      <th>serving_size_unit</th>\n",
       "      <th>household_serving_fulltext</th>\n",
       "      <th>branded_food_category</th>\n",
       "      <th>data_source</th>\n",
       "      <th>package_weight</th>\n",
       "      <th>modified_date</th>\n",
       "      <th>available_date</th>\n",
       "      <th>market_country</th>\n",
       "      <th>discontinued_date</th>\n",
       "      <th>preparation_state_code</th>\n",
       "      <th>trade_channel</th>\n",
       "      <th>short_description</th>\n",
       "    </tr>\n",
       "  </thead>\n",
       "  <tbody>\n",
       "    <tr>\n",
       "      <th>0</th>\n",
       "      <td>1105904</td>\n",
       "      <td>Richardson Oilseed Products (US) Limited</td>\n",
       "      <td>NaN</td>\n",
       "      <td>NaN</td>\n",
       "      <td>00027000612323</td>\n",
       "      <td>Vegetable Oil</td>\n",
       "      <td>NaN</td>\n",
       "      <td>15.0</td>\n",
       "      <td>ml</td>\n",
       "      <td>NaN</td>\n",
       "      <td>Oils Edible</td>\n",
       "      <td>GDSN</td>\n",
       "      <td>NaN</td>\n",
       "      <td>2020-10-02</td>\n",
       "      <td>2020-11-13</td>\n",
       "      <td>United States</td>\n",
       "      <td>NaN</td>\n",
       "      <td>NaN</td>\n",
       "      <td>NaN</td>\n",
       "      <td>NaN</td>\n",
       "    </tr>\n",
       "    <tr>\n",
       "      <th>1</th>\n",
       "      <td>1105905</td>\n",
       "      <td>CAMPBELL SOUP COMPANY</td>\n",
       "      <td>NaN</td>\n",
       "      <td>NaN</td>\n",
       "      <td>00051000198808</td>\n",
       "      <td>INGREDIENTS: BEEF STOCK, CONTAINS LESS THAN 2%...</td>\n",
       "      <td>NaN</td>\n",
       "      <td>240.0</td>\n",
       "      <td>ml</td>\n",
       "      <td>NaN</td>\n",
       "      <td>Herbs/Spices/Extracts</td>\n",
       "      <td>GDSN</td>\n",
       "      <td>NaN</td>\n",
       "      <td>2020-09-12</td>\n",
       "      <td>2020-11-13</td>\n",
       "      <td>United States</td>\n",
       "      <td>NaN</td>\n",
       "      <td>NaN</td>\n",
       "      <td>NaN</td>\n",
       "      <td>NaN</td>\n",
       "    </tr>\n",
       "    <tr>\n",
       "      <th>2</th>\n",
       "      <td>1105906</td>\n",
       "      <td>CAMPBELL SOUP COMPANY</td>\n",
       "      <td>NaN</td>\n",
       "      <td>NaN</td>\n",
       "      <td>00051000213273</td>\n",
       "      <td>INGREDIENTS: CLAM STOCK, POTATOES, CLAMS, CREA...</td>\n",
       "      <td>NaN</td>\n",
       "      <td>440.0</td>\n",
       "      <td>g</td>\n",
       "      <td>NaN</td>\n",
       "      <td>Prepared Soups</td>\n",
       "      <td>GDSN</td>\n",
       "      <td>NaN</td>\n",
       "      <td>2020-09-01</td>\n",
       "      <td>2020-11-13</td>\n",
       "      <td>United States</td>\n",
       "      <td>NaN</td>\n",
       "      <td>NaN</td>\n",
       "      <td>NaN</td>\n",
       "      <td>NaN</td>\n",
       "    </tr>\n",
       "    <tr>\n",
       "      <th>3</th>\n",
       "      <td>1105907</td>\n",
       "      <td>CAMPBELL SOUP COMPANY</td>\n",
       "      <td>NaN</td>\n",
       "      <td>NaN</td>\n",
       "      <td>00051000213303</td>\n",
       "      <td>INGREDIENTS: WATER, CREAM, BROCCOLI, CELERY, V...</td>\n",
       "      <td>NaN</td>\n",
       "      <td>440.0</td>\n",
       "      <td>g</td>\n",
       "      <td>NaN</td>\n",
       "      <td>Prepared Soups</td>\n",
       "      <td>GDSN</td>\n",
       "      <td>NaN</td>\n",
       "      <td>2020-09-01</td>\n",
       "      <td>2020-11-13</td>\n",
       "      <td>United States</td>\n",
       "      <td>NaN</td>\n",
       "      <td>NaN</td>\n",
       "      <td>NaN</td>\n",
       "      <td>NaN</td>\n",
       "    </tr>\n",
       "    <tr>\n",
       "      <th>4</th>\n",
       "      <td>1105908</td>\n",
       "      <td>CAMPBELL SOUP COMPANY</td>\n",
       "      <td>NaN</td>\n",
       "      <td>NaN</td>\n",
       "      <td>00051000224637</td>\n",
       "      <td>INGREDIENTS: CHICKEN STOCK, CONTAINS LESS THAN...</td>\n",
       "      <td>NaN</td>\n",
       "      <td>240.0</td>\n",
       "      <td>ml</td>\n",
       "      <td>NaN</td>\n",
       "      <td>Herbs/Spices/Extracts</td>\n",
       "      <td>GDSN</td>\n",
       "      <td>NaN</td>\n",
       "      <td>2020-10-03</td>\n",
       "      <td>2020-11-13</td>\n",
       "      <td>United States</td>\n",
       "      <td>NaN</td>\n",
       "      <td>NaN</td>\n",
       "      <td>NaN</td>\n",
       "      <td>NaN</td>\n",
       "    </tr>\n",
       "  </tbody>\n",
       "</table>\n",
       "</div>"
      ],
      "text/plain": [
       "    fdc_id                               brand_owner brand_name subbrand_name  \\\n",
       "0  1105904  Richardson Oilseed Products (US) Limited        NaN           NaN   \n",
       "1  1105905                     CAMPBELL SOUP COMPANY        NaN           NaN   \n",
       "2  1105906                     CAMPBELL SOUP COMPANY        NaN           NaN   \n",
       "3  1105907                     CAMPBELL SOUP COMPANY        NaN           NaN   \n",
       "4  1105908                     CAMPBELL SOUP COMPANY        NaN           NaN   \n",
       "\n",
       "         gtin_upc                                        ingredients  \\\n",
       "0  00027000612323                                      Vegetable Oil   \n",
       "1  00051000198808  INGREDIENTS: BEEF STOCK, CONTAINS LESS THAN 2%...   \n",
       "2  00051000213273  INGREDIENTS: CLAM STOCK, POTATOES, CLAMS, CREA...   \n",
       "3  00051000213303  INGREDIENTS: WATER, CREAM, BROCCOLI, CELERY, V...   \n",
       "4  00051000224637  INGREDIENTS: CHICKEN STOCK, CONTAINS LESS THAN...   \n",
       "\n",
       "  not_a_significant_source_of  serving_size serving_size_unit  \\\n",
       "0                         NaN          15.0                ml   \n",
       "1                         NaN         240.0                ml   \n",
       "2                         NaN         440.0                 g   \n",
       "3                         NaN         440.0                 g   \n",
       "4                         NaN         240.0                ml   \n",
       "\n",
       "  household_serving_fulltext  branded_food_category data_source  \\\n",
       "0                        NaN            Oils Edible        GDSN   \n",
       "1                        NaN  Herbs/Spices/Extracts        GDSN   \n",
       "2                        NaN         Prepared Soups        GDSN   \n",
       "3                        NaN         Prepared Soups        GDSN   \n",
       "4                        NaN  Herbs/Spices/Extracts        GDSN   \n",
       "\n",
       "  package_weight modified_date available_date market_country  \\\n",
       "0            NaN    2020-10-02     2020-11-13  United States   \n",
       "1            NaN    2020-09-12     2020-11-13  United States   \n",
       "2            NaN    2020-09-01     2020-11-13  United States   \n",
       "3            NaN    2020-09-01     2020-11-13  United States   \n",
       "4            NaN    2020-10-03     2020-11-13  United States   \n",
       "\n",
       "   discontinued_date preparation_state_code trade_channel short_description  \n",
       "0                NaN                    NaN           NaN               NaN  \n",
       "1                NaN                    NaN           NaN               NaN  \n",
       "2                NaN                    NaN           NaN               NaN  \n",
       "3                NaN                    NaN           NaN               NaN  \n",
       "4                NaN                    NaN           NaN               NaN  "
      ]
     },
     "execution_count": 6,
     "metadata": {},
     "output_type": "execute_result"
    }
   ],
   "source": [
    "branded_food = pd.read_csv(filepath('branded_food.csv'), dtype={\n",
    "    'brand_owner':str,\n",
    "    'brand_name':str,\n",
    "    'subbrand_name':str,\n",
    "    'gtin_upc':str})\n",
    "branded_food.head()"
   ]
  },
  {
   "cell_type": "markdown",
   "id": "b7ef626a",
   "metadata": {},
   "source": [
    "Because fdc_id is unique, we will set that as our index:"
   ]
  },
  {
   "cell_type": "code",
   "execution_count": 7,
   "id": "c8b051c0",
   "metadata": {},
   "outputs": [],
   "source": [
    "branded_food.fdc_id = branded_food.fdc_id.astype(np.int32)\n",
    "branded_food = branded_food.set_index('fdc_id')"
   ]
  },
  {
   "cell_type": "code",
   "execution_count": 8,
   "id": "fb75e48f",
   "metadata": {
    "scrolled": true
   },
   "outputs": [
    {
     "data": {
      "text/plain": [
       "2.259462907"
      ]
     },
     "execution_count": 8,
     "metadata": {},
     "output_type": "execute_result"
    }
   ],
   "source": [
    "branded_food.memory_usage(deep=True).sum() / 1e9 # Total gigabyte size"
   ]
  },
  {
   "cell_type": "markdown",
   "id": "48ff6390",
   "metadata": {},
   "source": [
    "Going through the initial inspection of the dataset:\n",
    "\n",
    "- Missingness/null values (done)\n",
    "- incorrect dtypes (done)\n",
    "- Reducing of columns/memory if possible (done)\n",
    "- Validation of data (outlier searching and correction of incorrect values)"
   ]
  },
  {
   "cell_type": "markdown",
   "id": "82075ff5",
   "metadata": {},
   "source": [
    "## Initial Missingness check"
   ]
  },
  {
   "cell_type": "code",
   "execution_count": 9,
   "id": "cfb56680",
   "metadata": {},
   "outputs": [
    {
     "data": {
      "text/plain": [
       "brand_owner                    0.007813\n",
       "brand_name                     0.296762\n",
       "subbrand_name                  0.952827\n",
       "gtin_upc                       0.000000\n",
       "ingredients                    0.002923\n",
       "not_a_significant_source_of    0.960171\n",
       "serving_size                   0.005842\n",
       "serving_size_unit              0.010312\n",
       "household_serving_fulltext     0.585086\n",
       "branded_food_category          0.005729\n",
       "data_source                    0.000000\n",
       "package_weight                 0.617388\n",
       "modified_date                  0.000011\n",
       "available_date                 0.000000\n",
       "market_country                 0.000000\n",
       "discontinued_date              1.000000\n",
       "preparation_state_code         0.978783\n",
       "trade_channel                  0.991557\n",
       "short_description              0.978720\n",
       "dtype: float64"
      ]
     },
     "execution_count": 9,
     "metadata": {},
     "output_type": "execute_result"
    }
   ],
   "source": [
    "branded_food.isnull().mean()"
   ]
  },
  {
   "cell_type": "markdown",
   "id": "660fad8e",
   "metadata": {},
   "source": [
    "We see that there are some columns with missing data, mainly towards the end, including discontinued_date, preparation_state_code, trade_channel, and short_description, which we will take a look through non-null examples and drop if necessary to preserve memory."
   ]
  },
  {
   "cell_type": "markdown",
   "id": "fd256994",
   "metadata": {},
   "source": [
    "# Preparation_state_code\n",
    "Preparation state code seems to be a code stating the state of a food in terms of readiness to consumption. There are ready to eat/drink options, unprepared options, prepared options, as well as what is possibly needed to consume the item. There however seems to be some inconsistency in what qualifies as unprepared and prepared however; cereals are both prepared and unprepared."
   ]
  },
  {
   "cell_type": "code",
   "execution_count": 28,
   "id": "1af68a80",
   "metadata": {},
   "outputs": [
    {
     "data": {
      "text/html": [
       "<div>\n",
       "<style scoped>\n",
       "    .dataframe tbody tr th:only-of-type {\n",
       "        vertical-align: middle;\n",
       "    }\n",
       "\n",
       "    .dataframe tbody tr th {\n",
       "        vertical-align: top;\n",
       "    }\n",
       "\n",
       "    .dataframe thead th {\n",
       "        text-align: right;\n",
       "    }\n",
       "</style>\n",
       "<table border=\"1\" class=\"dataframe\">\n",
       "  <thead>\n",
       "    <tr style=\"text-align: right;\">\n",
       "      <th></th>\n",
       "      <th>brand_owner</th>\n",
       "      <th>brand_name</th>\n",
       "      <th>subbrand_name</th>\n",
       "      <th>preparation_state_code</th>\n",
       "      <th>short_description</th>\n",
       "    </tr>\n",
       "    <tr>\n",
       "      <th>fdc_id</th>\n",
       "      <th></th>\n",
       "      <th></th>\n",
       "      <th></th>\n",
       "      <th></th>\n",
       "      <th></th>\n",
       "    </tr>\n",
       "  </thead>\n",
       "  <tbody>\n",
       "    <tr>\n",
       "      <th>2219410</th>\n",
       "      <td>Cargill Incorporated/Honeysuckle White</td>\n",
       "      <td>HONEYSUCKLE WHITE</td>\n",
       "      <td>NaN</td>\n",
       "      <td>UNPREPARED</td>\n",
       "      <td>HSW Fh 93% Grd Tky Chub 12/1</td>\n",
       "    </tr>\n",
       "    <tr>\n",
       "      <th>2219411</th>\n",
       "      <td>Cargill Incorporated/Honeysuckle White</td>\n",
       "      <td>Honeysuckle White</td>\n",
       "      <td>NaN</td>\n",
       "      <td>UNPREPARED</td>\n",
       "      <td>HSW Fh Gr WhtDry Ex Wt 6/1.25#</td>\n",
       "    </tr>\n",
       "    <tr>\n",
       "      <th>2219412</th>\n",
       "      <td>Cargill Incorporated/Honeysuckle White</td>\n",
       "      <td>HONEYSUCKLE WHITE</td>\n",
       "      <td>NaN</td>\n",
       "      <td>UNPREPARED</td>\n",
       "      <td>HSW Fh 85/15 Gr tky Ex Wt 6/1.25</td>\n",
       "    </tr>\n",
       "    <tr>\n",
       "      <th>2219413</th>\n",
       "      <td>Kellogg Company US</td>\n",
       "      <td>Kellogg's Pop-Tarts</td>\n",
       "      <td>NaN</td>\n",
       "      <td>UNPREPARED</td>\n",
       "      <td>Pop-Tarts</td>\n",
       "    </tr>\n",
       "    <tr>\n",
       "      <th>2219414</th>\n",
       "      <td>Kellogg Company US</td>\n",
       "      <td>Kellogg's Cheez It</td>\n",
       "      <td>NaN</td>\n",
       "      <td>UNPREPARED</td>\n",
       "      <td>Gripz Crackers</td>\n",
       "    </tr>\n",
       "    <tr>\n",
       "      <th>2219415</th>\n",
       "      <td>Kellogg Company US</td>\n",
       "      <td>Kellogg's Cheez It</td>\n",
       "      <td>NaN</td>\n",
       "      <td>UNPREPARED</td>\n",
       "      <td>Cheez-It Crackers</td>\n",
       "    </tr>\n",
       "    <tr>\n",
       "      <th>2219416</th>\n",
       "      <td>Kellogg Company US</td>\n",
       "      <td>Kellogg's</td>\n",
       "      <td>NaN</td>\n",
       "      <td>PREPARED</td>\n",
       "      <td>Froot Loops Cereal</td>\n",
       "    </tr>\n",
       "    <tr>\n",
       "      <th>2219417</th>\n",
       "      <td>Kellogg Company US</td>\n",
       "      <td>Kellogg's Eggo</td>\n",
       "      <td>NaN</td>\n",
       "      <td>UNPREPARED</td>\n",
       "      <td>Pancakes</td>\n",
       "    </tr>\n",
       "    <tr>\n",
       "      <th>2219418</th>\n",
       "      <td>Kellogg Company US</td>\n",
       "      <td>Kellogg's</td>\n",
       "      <td>NaN</td>\n",
       "      <td>UNPREPARED</td>\n",
       "      <td>Kellogg Cracker Brand</td>\n",
       "    </tr>\n",
       "    <tr>\n",
       "      <th>2219419</th>\n",
       "      <td>Kellogg Company US</td>\n",
       "      <td>Kellogg's</td>\n",
       "      <td>NaN</td>\n",
       "      <td>PREPARED</td>\n",
       "      <td>Cinnabon Cereal</td>\n",
       "    </tr>\n",
       "  </tbody>\n",
       "</table>\n",
       "</div>"
      ],
      "text/plain": [
       "                                    brand_owner           brand_name  \\\n",
       "fdc_id                                                                 \n",
       "2219410  Cargill Incorporated/Honeysuckle White    HONEYSUCKLE WHITE   \n",
       "2219411  Cargill Incorporated/Honeysuckle White    Honeysuckle White   \n",
       "2219412  Cargill Incorporated/Honeysuckle White    HONEYSUCKLE WHITE   \n",
       "2219413                      Kellogg Company US  Kellogg's Pop-Tarts   \n",
       "2219414                      Kellogg Company US   Kellogg's Cheez It   \n",
       "2219415                      Kellogg Company US   Kellogg's Cheez It   \n",
       "2219416                      Kellogg Company US            Kellogg's   \n",
       "2219417                      Kellogg Company US       Kellogg's Eggo   \n",
       "2219418                      Kellogg Company US            Kellogg's   \n",
       "2219419                      Kellogg Company US            Kellogg's   \n",
       "\n",
       "        subbrand_name preparation_state_code                 short_description  \n",
       "fdc_id                                                                          \n",
       "2219410           NaN             UNPREPARED      HSW Fh 93% Grd Tky Chub 12/1  \n",
       "2219411           NaN             UNPREPARED    HSW Fh Gr WhtDry Ex Wt 6/1.25#  \n",
       "2219412           NaN             UNPREPARED  HSW Fh 85/15 Gr tky Ex Wt 6/1.25  \n",
       "2219413           NaN             UNPREPARED                         Pop-Tarts  \n",
       "2219414           NaN             UNPREPARED                    Gripz Crackers  \n",
       "2219415           NaN             UNPREPARED                 Cheez-It Crackers  \n",
       "2219416           NaN               PREPARED                Froot Loops Cereal  \n",
       "2219417           NaN             UNPREPARED                          Pancakes  \n",
       "2219418           NaN             UNPREPARED             Kellogg Cracker Brand  \n",
       "2219419           NaN               PREPARED                   Cinnabon Cereal  "
      ]
     },
     "execution_count": 28,
     "metadata": {},
     "output_type": "execute_result"
    }
   ],
   "source": [
    "has_prep_code = branded_food[branded_food.preparation_state_code.notnull()][['brand_owner', 'brand_name', 'subbrand_name', 'preparation_state_code', 'short_description']]\n",
    "has_prep_code.head(10)"
   ]
  },
  {
   "cell_type": "markdown",
   "id": "f35135b6",
   "metadata": {},
   "source": [
    "In addition, we see that while subbrand name is empty, short description may have a better description of what exact product the food is."
   ]
  },
  {
   "cell_type": "code",
   "execution_count": 27,
   "id": "469ad768",
   "metadata": {},
   "outputs": [
    {
     "data": {
      "text/html": [
       "<div>\n",
       "<style scoped>\n",
       "    .dataframe tbody tr th:only-of-type {\n",
       "        vertical-align: middle;\n",
       "    }\n",
       "\n",
       "    .dataframe tbody tr th {\n",
       "        vertical-align: top;\n",
       "    }\n",
       "\n",
       "    .dataframe thead th {\n",
       "        text-align: right;\n",
       "    }\n",
       "</style>\n",
       "<table border=\"1\" class=\"dataframe\">\n",
       "  <thead>\n",
       "    <tr style=\"text-align: right;\">\n",
       "      <th></th>\n",
       "      <th>brand_owner</th>\n",
       "      <th>brand_name</th>\n",
       "      <th>subbrand_name</th>\n",
       "      <th>preparation_state_code</th>\n",
       "      <th>short_description</th>\n",
       "    </tr>\n",
       "    <tr>\n",
       "      <th>fdc_id</th>\n",
       "      <th></th>\n",
       "      <th></th>\n",
       "      <th></th>\n",
       "      <th></th>\n",
       "      <th></th>\n",
       "    </tr>\n",
       "  </thead>\n",
       "  <tbody>\n",
       "    <tr>\n",
       "      <th>2219416</th>\n",
       "      <td>Kellogg Company US</td>\n",
       "      <td>Kellogg's</td>\n",
       "      <td>NaN</td>\n",
       "      <td>PREPARED</td>\n",
       "      <td>Froot Loops Cereal</td>\n",
       "    </tr>\n",
       "    <tr>\n",
       "      <th>2219419</th>\n",
       "      <td>Kellogg Company US</td>\n",
       "      <td>Kellogg's</td>\n",
       "      <td>NaN</td>\n",
       "      <td>PREPARED</td>\n",
       "      <td>Cinnabon Cereal</td>\n",
       "    </tr>\n",
       "    <tr>\n",
       "      <th>2219428</th>\n",
       "      <td>Kellogg Company US</td>\n",
       "      <td>Kellogg's</td>\n",
       "      <td>NaN</td>\n",
       "      <td>UNPREPARED</td>\n",
       "      <td>All Bran Cereal</td>\n",
       "    </tr>\n",
       "    <tr>\n",
       "      <th>2219432</th>\n",
       "      <td>Kellogg Company US</td>\n",
       "      <td>Kellogg's</td>\n",
       "      <td>NaN</td>\n",
       "      <td>PREPARED</td>\n",
       "      <td>Corn Pops Cereal</td>\n",
       "    </tr>\n",
       "    <tr>\n",
       "      <th>2219433</th>\n",
       "      <td>Kellogg Company US</td>\n",
       "      <td>Kellogg's</td>\n",
       "      <td>NaN</td>\n",
       "      <td>PREPARED</td>\n",
       "      <td>Corn Pops Cereal</td>\n",
       "    </tr>\n",
       "    <tr>\n",
       "      <th>2219434</th>\n",
       "      <td>Kellogg Company US</td>\n",
       "      <td>Kellogg's</td>\n",
       "      <td>NaN</td>\n",
       "      <td>PREPARED</td>\n",
       "      <td>Corn Pops Cereal</td>\n",
       "    </tr>\n",
       "    <tr>\n",
       "      <th>2219435</th>\n",
       "      <td>Kashi US</td>\n",
       "      <td>Bear Naked</td>\n",
       "      <td>NaN</td>\n",
       "      <td>UNPREPARED</td>\n",
       "      <td>Cereal</td>\n",
       "    </tr>\n",
       "    <tr>\n",
       "      <th>2219444</th>\n",
       "      <td>Kellogg Company US</td>\n",
       "      <td>Kellogg's</td>\n",
       "      <td>NaN</td>\n",
       "      <td>PREPARED</td>\n",
       "      <td>All Bran Cereal</td>\n",
       "    </tr>\n",
       "    <tr>\n",
       "      <th>2219445</th>\n",
       "      <td>Kellogg Company US</td>\n",
       "      <td>Kellogg's</td>\n",
       "      <td>NaN</td>\n",
       "      <td>PREPARED</td>\n",
       "      <td>Apple Jacks Cereal</td>\n",
       "    </tr>\n",
       "    <tr>\n",
       "      <th>2219449</th>\n",
       "      <td>Kellogg Company US</td>\n",
       "      <td>Kellogg's</td>\n",
       "      <td>NaN</td>\n",
       "      <td>PREPARED</td>\n",
       "      <td>Froot Loops Cereal</td>\n",
       "    </tr>\n",
       "  </tbody>\n",
       "</table>\n",
       "</div>"
      ],
      "text/plain": [
       "                brand_owner  brand_name subbrand_name preparation_state_code  \\\n",
       "fdc_id                                                                         \n",
       "2219416  Kellogg Company US   Kellogg's           NaN               PREPARED   \n",
       "2219419  Kellogg Company US   Kellogg's           NaN               PREPARED   \n",
       "2219428  Kellogg Company US   Kellogg's           NaN             UNPREPARED   \n",
       "2219432  Kellogg Company US   Kellogg's           NaN               PREPARED   \n",
       "2219433  Kellogg Company US   Kellogg's           NaN               PREPARED   \n",
       "2219434  Kellogg Company US   Kellogg's           NaN               PREPARED   \n",
       "2219435            Kashi US  Bear Naked           NaN             UNPREPARED   \n",
       "2219444  Kellogg Company US   Kellogg's           NaN               PREPARED   \n",
       "2219445  Kellogg Company US   Kellogg's           NaN               PREPARED   \n",
       "2219449  Kellogg Company US   Kellogg's           NaN               PREPARED   \n",
       "\n",
       "          short_description  \n",
       "fdc_id                       \n",
       "2219416  Froot Loops Cereal  \n",
       "2219419     Cinnabon Cereal  \n",
       "2219428     All Bran Cereal  \n",
       "2219432    Corn Pops Cereal  \n",
       "2219433    Corn Pops Cereal  \n",
       "2219434    Corn Pops Cereal  \n",
       "2219435              Cereal  \n",
       "2219444     All Bran Cereal  \n",
       "2219445  Apple Jacks Cereal  \n",
       "2219449  Froot Loops Cereal  "
      ]
     },
     "execution_count": 27,
     "metadata": {},
     "output_type": "execute_result"
    }
   ],
   "source": [
    "cereals = has_prep_code[has_prep_code.short_description.str.lower().str.contains('cereal').fillna(False)]\n",
    "cereals.head(10)"
   ]
  },
  {
   "cell_type": "code",
   "execution_count": 26,
   "id": "5ae8471e",
   "metadata": {},
   "outputs": [
    {
     "data": {
      "text/plain": [
       "UNPREPARED      959\n",
       "PREPARED        615\n",
       "READY_TO_EAT      1\n",
       "Name: preparation_state_code, dtype: int64"
      ]
     },
     "execution_count": 26,
     "metadata": {},
     "output_type": "execute_result"
    }
   ],
   "source": [
    "cereals.preparation_state_code.value_counts()"
   ]
  },
  {
   "cell_type": "code",
   "execution_count": 16,
   "id": "84e8087a",
   "metadata": {},
   "outputs": [
    {
     "data": {
      "text/html": [
       "<div>\n",
       "<style scoped>\n",
       "    .dataframe tbody tr th:only-of-type {\n",
       "        vertical-align: middle;\n",
       "    }\n",
       "\n",
       "    .dataframe tbody tr th {\n",
       "        vertical-align: top;\n",
       "    }\n",
       "\n",
       "    .dataframe thead th {\n",
       "        text-align: right;\n",
       "    }\n",
       "</style>\n",
       "<table border=\"1\" class=\"dataframe\">\n",
       "  <thead>\n",
       "    <tr style=\"text-align: right;\">\n",
       "      <th></th>\n",
       "      <th>brand_owner</th>\n",
       "      <th>brand_name</th>\n",
       "      <th>subbrand_name</th>\n",
       "      <th>short_description</th>\n",
       "    </tr>\n",
       "    <tr>\n",
       "      <th>fdc_id</th>\n",
       "      <th></th>\n",
       "      <th></th>\n",
       "      <th></th>\n",
       "      <th></th>\n",
       "    </tr>\n",
       "  </thead>\n",
       "  <tbody>\n",
       "    <tr>\n",
       "      <th>2219410</th>\n",
       "      <td>Cargill Incorporated/Honeysuckle White</td>\n",
       "      <td>HONEYSUCKLE WHITE</td>\n",
       "      <td>NaN</td>\n",
       "      <td>HSW Fh 93% Grd Tky Chub 12/1</td>\n",
       "    </tr>\n",
       "    <tr>\n",
       "      <th>2219411</th>\n",
       "      <td>Cargill Incorporated/Honeysuckle White</td>\n",
       "      <td>Honeysuckle White</td>\n",
       "      <td>NaN</td>\n",
       "      <td>HSW Fh Gr WhtDry Ex Wt 6/1.25#</td>\n",
       "    </tr>\n",
       "    <tr>\n",
       "      <th>2219412</th>\n",
       "      <td>Cargill Incorporated/Honeysuckle White</td>\n",
       "      <td>HONEYSUCKLE WHITE</td>\n",
       "      <td>NaN</td>\n",
       "      <td>HSW Fh 85/15 Gr tky Ex Wt 6/1.25</td>\n",
       "    </tr>\n",
       "    <tr>\n",
       "      <th>2219413</th>\n",
       "      <td>Kellogg Company US</td>\n",
       "      <td>Kellogg's Pop-Tarts</td>\n",
       "      <td>NaN</td>\n",
       "      <td>Pop-Tarts</td>\n",
       "    </tr>\n",
       "    <tr>\n",
       "      <th>2219414</th>\n",
       "      <td>Kellogg Company US</td>\n",
       "      <td>Kellogg's Cheez It</td>\n",
       "      <td>NaN</td>\n",
       "      <td>Gripz Crackers</td>\n",
       "    </tr>\n",
       "    <tr>\n",
       "      <th>...</th>\n",
       "      <td>...</td>\n",
       "      <td>...</td>\n",
       "      <td>...</td>\n",
       "      <td>...</td>\n",
       "    </tr>\n",
       "    <tr>\n",
       "      <th>2551347</th>\n",
       "      <td>Del Mar Food Products Corp.</td>\n",
       "      <td>Del Mar Food Products Corp.</td>\n",
       "      <td>NaN</td>\n",
       "      <td>Strawberry, Sliced, Frozen 30 lbs.</td>\n",
       "    </tr>\n",
       "    <tr>\n",
       "      <th>2551348</th>\n",
       "      <td>Kraft Foods Inc.</td>\n",
       "      <td>KRAFT</td>\n",
       "      <td>NaN</td>\n",
       "      <td>500LB MM VANILLA 1 CS</td>\n",
       "    </tr>\n",
       "    <tr>\n",
       "      <th>2551349</th>\n",
       "      <td>Bake Crafters Food Company</td>\n",
       "      <td>Bake Crafters</td>\n",
       "      <td>NaN</td>\n",
       "      <td>Biscuits, Btrmlk, Sl, 3\", Premium</td>\n",
       "    </tr>\n",
       "    <tr>\n",
       "      <th>2551350</th>\n",
       "      <td>Homefree</td>\n",
       "      <td>Homefree</td>\n",
       "      <td>NaN</td>\n",
       "      <td>CKIES,ORG GINGER SNAP,MINI,GF,G&amp;G</td>\n",
       "    </tr>\n",
       "    <tr>\n",
       "      <th>2551351</th>\n",
       "      <td>Kellogg Company US</td>\n",
       "      <td>Morningstar Farms</td>\n",
       "      <td>NaN</td>\n",
       "      <td>Poultry</td>\n",
       "    </tr>\n",
       "  </tbody>\n",
       "</table>\n",
       "<p>39267 rows × 4 columns</p>\n",
       "</div>"
      ],
      "text/plain": [
       "                                    brand_owner                   brand_name  \\\n",
       "fdc_id                                                                         \n",
       "2219410  Cargill Incorporated/Honeysuckle White            HONEYSUCKLE WHITE   \n",
       "2219411  Cargill Incorporated/Honeysuckle White            Honeysuckle White   \n",
       "2219412  Cargill Incorporated/Honeysuckle White            HONEYSUCKLE WHITE   \n",
       "2219413                      Kellogg Company US          Kellogg's Pop-Tarts   \n",
       "2219414                      Kellogg Company US           Kellogg's Cheez It   \n",
       "...                                         ...                          ...   \n",
       "2551347             Del Mar Food Products Corp.  Del Mar Food Products Corp.   \n",
       "2551348                        Kraft Foods Inc.                        KRAFT   \n",
       "2551349              Bake Crafters Food Company                Bake Crafters   \n",
       "2551350                                Homefree                     Homefree   \n",
       "2551351                      Kellogg Company US            Morningstar Farms   \n",
       "\n",
       "        subbrand_name                   short_description  \n",
       "fdc_id                                                     \n",
       "2219410           NaN        HSW Fh 93% Grd Tky Chub 12/1  \n",
       "2219411           NaN      HSW Fh Gr WhtDry Ex Wt 6/1.25#  \n",
       "2219412           NaN    HSW Fh 85/15 Gr tky Ex Wt 6/1.25  \n",
       "2219413           NaN                           Pop-Tarts  \n",
       "2219414           NaN                      Gripz Crackers  \n",
       "...               ...                                 ...  \n",
       "2551347           NaN  Strawberry, Sliced, Frozen 30 lbs.  \n",
       "2551348           NaN               500LB MM VANILLA 1 CS  \n",
       "2551349           NaN   Biscuits, Btrmlk, Sl, 3\", Premium  \n",
       "2551350           NaN   CKIES,ORG GINGER SNAP,MINI,GF,G&G  \n",
       "2551351           NaN                             Poultry  \n",
       "\n",
       "[39267 rows x 4 columns]"
      ]
     },
     "execution_count": 16,
     "metadata": {},
     "output_type": "execute_result"
    }
   ],
   "source": [
    "branded_food[branded_food.short_description.notna()][['brand_owner', 'brand_name', 'subbrand_name', 'short_description']]"
   ]
  },
  {
   "cell_type": "code",
   "execution_count": 34,
   "id": "57ad0e22",
   "metadata": {
    "scrolled": true
   },
   "outputs": [
    {
     "data": {
      "text/plain": [
       "NaN               1806146\n",
       "UNPREPARED          26631\n",
       "PREPARED             5676\n",
       "READY_TO_EAT         2830\n",
       "READY_TO_DRINK       2677\n",
       "BAKE                  603\n",
       "HEAT_AND_SERVE        272\n",
       "THAW                  147\n",
       "FREEZE                 97\n",
       "GRILL                  95\n",
       "CONVECTION             36\n",
       "UNSPECIFIED            22\n",
       "FRY                    15\n",
       "STEAM                  12\n",
       "DEEP_FRY               12\n",
       "ROAST                  11\n",
       "BOIL                    7\n",
       "MICROWAVE               4\n",
       "STIR_FRY                4\n",
       "Name: preparation_state_code, dtype: int64"
      ]
     },
     "execution_count": 34,
     "metadata": {},
     "output_type": "execute_result"
    }
   ],
   "source": [
    "branded_food.preparation_state_code.value_counts(dropna=False)"
   ]
  },
  {
   "cell_type": "markdown",
   "id": "1fa3ca7d",
   "metadata": {},
   "source": [
    "We see that many of these are with respect to how to prepare the food for consumption, many of which are simply labeled \"unprepared\" or prepared. We also see that many of these preparation codes are disambiguous, as unprepared does contain also foods that would be considered ready to eat, such as Pop-Tarts or Cheez-its. Because of this, it may be hard to categorize food into explicitly \"prepared\" and \"unprepared\" categories. We do see that this column is fairly well defined, as there are not many unique values."
   ]
  },
  {
   "cell_type": "code",
   "execution_count": 35,
   "id": "6af118e9",
   "metadata": {},
   "outputs": [],
   "source": [
    "branded_food = branded_food.drop(columns=['discontinued_date', 'trade_channel'])"
   ]
  },
  {
   "cell_type": "markdown",
   "id": "d8fd5201",
   "metadata": {},
   "source": [
    "## Replacing short description with subbrand_name\n",
    "Replaces it with short description only if the food is short description."
   ]
  },
  {
   "cell_type": "code",
   "execution_count": 36,
   "id": "e81a262a",
   "metadata": {},
   "outputs": [],
   "source": [
    "branded_food['subbrand_name'] = branded_food.subbrand_name.fillna(branded_food.short_description)"
   ]
  },
  {
   "cell_type": "markdown",
   "id": "9cfbd2f4",
   "metadata": {},
   "source": [
    "## GTIN UPC cleaning \n",
    "\n",
    "GTIN UPC is a common format/code used in many different PoS stores, which is extended to any item that has a barcode associated with it. On further looking at the data, we had to specify that the upc is stored as a string, as there are many examples where there are leading 0's as shown. Further looking shows that there are sometimes dashes or spaces, which we will remove to make the string more standardized."
   ]
  },
  {
   "cell_type": "code",
   "execution_count": 11,
   "id": "2ec79414",
   "metadata": {},
   "outputs": [],
   "source": [
    "branded_food.gtin_upc = branded_food.gtin_upc.str.replace('-', '').str.replace(' ', '')"
   ]
  },
  {
   "cell_type": "code",
   "execution_count": 12,
   "id": "7d0f39ef",
   "metadata": {},
   "outputs": [
    {
     "data": {
      "text/plain": [
       "fdc_id\n",
       "539755        NIELSENUK0002\n",
       "573164         84279810254X\n",
       "949336      OldCountryStore\n",
       "950368       6005207001298>\n",
       "1041929     OldCountryStore\n",
       "1042843      6005207001298>\n",
       "1044611        01541801360X\n",
       "1048721       028000428501`\n",
       "1063921           JARLSBERG\n",
       "1065873               BOOST\n",
       "1081623    HAPPYKIDORGANICS\n",
       "1082317        0441154.3042\n",
       "Name: gtin_upc, dtype: object"
      ]
     },
     "execution_count": 12,
     "metadata": {},
     "output_type": "execute_result"
    }
   ],
   "source": [
    "branded_food[~branded_food.gtin_upc.str.isdigit()].gtin_upc"
   ]
  },
  {
   "cell_type": "markdown",
   "id": "c11ccefe",
   "metadata": {},
   "source": [
    "There are also some ids that simply do not correct gtin_upcs. Given how few there are that follow this irregularity, we may be able to simply drop these, although they probably do not need to be dropped."
   ]
  },
  {
   "cell_type": "markdown",
   "id": "bfb25453",
   "metadata": {},
   "source": [
    "## Serving sizes"
   ]
  },
  {
   "cell_type": "markdown",
   "id": "f1c57867",
   "metadata": {},
   "source": [
    "We see that there are several options. We will look up what these units exactly mean (unabbreviated), and possibly merge any containing the same amount. We can also visualize the distributions of respective foods.\n",
    "\n",
    "- g (gram)\n",
    "- ml (mililiter, most likely for fluids)\n",
    "- grm - unknown, will compare to gram's distribution for differences\n",
    "- mlt - most likely another mililiter, but these have different distributions\n",
    "- MG - possibly a milligram distribution\n",
    "- IU - international units, similar to mililiters\n",
    "- GM - possible alias for gram as well\n",
    "- MC - unknown currently"
   ]
  },
  {
   "cell_type": "code",
   "execution_count": 13,
   "id": "7053e5ca",
   "metadata": {},
   "outputs": [
    {
     "data": {
      "text/plain": [
       "g      1522350\n",
       "ml      243399\n",
       "GRM      40597\n",
       "MLT       8288\n",
       "MG        7555\n",
       "IU        3671\n",
       "GM         346\n",
       "MC          63\n",
       "Name: serving_size_unit, dtype: int64"
      ]
     },
     "execution_count": 13,
     "metadata": {},
     "output_type": "execute_result"
    }
   ],
   "source": [
    "branded_food.serving_size_unit.value_counts()"
   ]
  },
  {
   "cell_type": "markdown",
   "id": "2804b147",
   "metadata": {},
   "source": [
    "If we only look at these examples, we would consider them as conventionally the same. However, they may not be the same exactly. One way we can possibly further reinforce this idea is through a permutation test; if we assume that they're from the same distribution, then the two distributions should be similar to each other. We can do this through the scipy ks_2samp test function, which determines whether the distributions are different enough:"
   ]
  },
  {
   "cell_type": "markdown",
   "id": "1e80f735",
   "metadata": {},
   "source": [
    "## Unit permutation tests\n",
    "\n",
    "Because the amount of foods there are between the two, we will instead choose to sample the distributions to about 10,000 for each distribution. We will also eliminate some of the outliers, as we noticed from the descriptive statistics (mainly the max) of g foods."
   ]
  },
  {
   "cell_type": "code",
   "execution_count": 14,
   "id": "f48da6e3",
   "metadata": {},
   "outputs": [],
   "source": [
    "# Perform permutation for all serving_size units based on serving size measured\n",
    "test_stat = lambda x, y: ks_2samp(x, y, alternative='two-sided').pvalue # permutation test\n",
    "get_serving_sizes = lambda x: branded_food[branded_food.serving_size_unit == x].serving_size\n",
    "serving_units = branded_food.serving_size_unit.dropna().unique()\n",
    "\n",
    "same_dist = []\n",
    "for u_1 in serving_units:\n",
    "    u_1_dist = get_serving_sizes(u_1)\n",
    "    for u_2 in serving_units:\n",
    "        if u_1 == u_2: \n",
    "            continue # no need\n",
    "            \n",
    "        u_2_dist = get_serving_sizes(u_2)\n",
    "        # Perform ks_2samp test\n",
    "        p_val = test_stat(\n",
    "            u_1_dist,\n",
    "            u_2_dist\n",
    "        )\n",
    "        \n",
    "        if p_val > .05:\n",
    "            print(u_1, u_2)\n",
    "            same_dist.append((u1, u2))"
   ]
  },
  {
   "cell_type": "code",
   "execution_count": 15,
   "id": "f0110288",
   "metadata": {},
   "outputs": [
    {
     "data": {
      "text/plain": [
       "[]"
      ]
     },
     "execution_count": 15,
     "metadata": {},
     "output_type": "execute_result"
    }
   ],
   "source": [
    "same_dist"
   ]
  },
  {
   "cell_type": "markdown",
   "id": "090e14cd",
   "metadata": {},
   "source": [
    "We see that all units are completely different distributions from each other, including grm and g, as well as ml and mlt, which we may have expected to have the same distribution."
   ]
  },
  {
   "cell_type": "markdown",
   "id": "9aecd0bf",
   "metadata": {},
   "source": [
    "## Further memory reducing\n",
    "\n",
    "If we want to be able to reduce the amount of memory required to hold the entire data frame. We will do this be attempting to reduce redundant information even further."
   ]
  },
  {
   "cell_type": "code",
   "execution_count": 37,
   "id": "54d21e77",
   "metadata": {},
   "outputs": [
    {
     "data": {
      "text/plain": [
       "Index                           14762376\n",
       "brand_owner                    142327530\n",
       "brand_name                     105382109\n",
       "subbrand_name                   63845613\n",
       "gtin_upc                       127463305\n",
       "ingredients                    623353099\n",
       "not_a_significant_source_of     68469344\n",
       "serving_size                    14762376\n",
       "serving_size_unit              106885302\n",
       "household_serving_fulltext      84136047\n",
       "branded_food_category          143595828\n",
       "data_source                    109068029\n",
       "package_weight                  84714471\n",
       "modified_date                  123634199\n",
       "available_date                 123634899\n",
       "market_country                 129168556\n",
       "preparation_state_code          60420254\n",
       "short_description               60965509\n",
       "dtype: int64"
      ]
     },
     "execution_count": 37,
     "metadata": {},
     "output_type": "execute_result"
    }
   ],
   "source": [
    "branded_food.memory_usage(deep=True)"
   ]
  },
  {
   "cell_type": "markdown",
   "id": "bc47ef57",
   "metadata": {},
   "source": [
    "We can look at many string based columns to see if there is a better way to possibly reduce memory, as strings are usually unique, immutable, and take a lot of memory. "
   ]
  },
  {
   "cell_type": "code",
   "execution_count": 18,
   "id": "5821dc38",
   "metadata": {},
   "outputs": [
    {
     "data": {
      "text/plain": [
       "United States    1844180\n",
       "New Zealand         1117\n",
       "Name: market_country, dtype: int64"
      ]
     },
     "execution_count": 18,
     "metadata": {},
     "output_type": "execute_result"
    }
   ],
   "source": [
    "branded_food.market_country.value_counts(dropna=False)"
   ]
  },
  {
   "cell_type": "code",
   "execution_count": 46,
   "id": "847fd0ee",
   "metadata": {},
   "outputs": [
    {
     "data": {
      "text/html": [
       "<div>\n",
       "<style scoped>\n",
       "    .dataframe tbody tr th:only-of-type {\n",
       "        vertical-align: middle;\n",
       "    }\n",
       "\n",
       "    .dataframe tbody tr th {\n",
       "        vertical-align: top;\n",
       "    }\n",
       "\n",
       "    .dataframe thead th {\n",
       "        text-align: right;\n",
       "    }\n",
       "</style>\n",
       "<table border=\"1\" class=\"dataframe\">\n",
       "  <thead>\n",
       "    <tr style=\"text-align: right;\">\n",
       "      <th></th>\n",
       "      <th>index</th>\n",
       "      <th>branded_food_category</th>\n",
       "    </tr>\n",
       "  </thead>\n",
       "  <tbody>\n",
       "    <tr>\n",
       "      <th>0</th>\n",
       "      <td>Frozen Fish/Seafood</td>\n",
       "      <td>104</td>\n",
       "    </tr>\n",
       "    <tr>\n",
       "      <th>1</th>\n",
       "      <td>Confectionery</td>\n",
       "      <td>86</td>\n",
       "    </tr>\n",
       "    <tr>\n",
       "      <th>2</th>\n",
       "      <td>Spreads</td>\n",
       "      <td>66</td>\n",
       "    </tr>\n",
       "    <tr>\n",
       "      <th>3</th>\n",
       "      <td>Canned Fish and Meat</td>\n",
       "      <td>61</td>\n",
       "    </tr>\n",
       "    <tr>\n",
       "      <th>4</th>\n",
       "      <td>Prepared Meals</td>\n",
       "      <td>51</td>\n",
       "    </tr>\n",
       "    <tr>\n",
       "      <th>...</th>\n",
       "      <td>...</td>\n",
       "      <td>...</td>\n",
       "    </tr>\n",
       "    <tr>\n",
       "      <th>94</th>\n",
       "      <td>Fresh Fruit and Vegetables</td>\n",
       "      <td>1</td>\n",
       "    </tr>\n",
       "    <tr>\n",
       "      <th>95</th>\n",
       "      <td>S/O Fresh Fish Fillets/Steaks</td>\n",
       "      <td>1</td>\n",
       "    </tr>\n",
       "    <tr>\n",
       "      <th>96</th>\n",
       "      <td>Noodles</td>\n",
       "      <td>1</td>\n",
       "    </tr>\n",
       "    <tr>\n",
       "      <th>97</th>\n",
       "      <td>Fresh Chicken - Whole</td>\n",
       "      <td>1</td>\n",
       "    </tr>\n",
       "    <tr>\n",
       "      <th>98</th>\n",
       "      <td>Mussels</td>\n",
       "      <td>1</td>\n",
       "    </tr>\n",
       "  </tbody>\n",
       "</table>\n",
       "<p>99 rows × 2 columns</p>\n",
       "</div>"
      ],
      "text/plain": [
       "                            index  branded_food_category\n",
       "0             Frozen Fish/Seafood                    104\n",
       "1                   Confectionery                     86\n",
       "2                         Spreads                     66\n",
       "3            Canned Fish and Meat                     61\n",
       "4                  Prepared Meals                     51\n",
       "..                            ...                    ...\n",
       "94     Fresh Fruit and Vegetables                      1\n",
       "95  S/O Fresh Fish Fillets/Steaks                      1\n",
       "96                        Noodles                      1\n",
       "97          Fresh Chicken - Whole                      1\n",
       "98                        Mussels                      1\n",
       "\n",
       "[99 rows x 2 columns]"
      ]
     },
     "execution_count": 46,
     "metadata": {},
     "output_type": "execute_result"
    }
   ],
   "source": [
    "new_zealand_foods"
   ]
  },
  {
   "cell_type": "code",
   "execution_count": 52,
   "id": "8744f80f",
   "metadata": {},
   "outputs": [],
   "source": [
    "import plotly.express as px"
   ]
  },
  {
   "cell_type": "code",
   "execution_count": 54,
   "id": "22e40ca8",
   "metadata": {},
   "outputs": [
    {
     "data": {
      "application/vnd.plotly.v1+json": {
       "config": {
        "plotlyServerURL": "https://plot.ly"
       },
       "data": [
        {
         "alignmentgroup": "True",
         "hovertemplate": "food_category=%{x}<br>num_foods=%{y}<extra></extra>",
         "legendgroup": "",
         "marker": {
          "color": "#636efa",
          "pattern": {
           "shape": ""
          }
         },
         "name": "",
         "offsetgroup": "",
         "orientation": "v",
         "showlegend": false,
         "textposition": "auto",
         "type": "bar",
         "x": [
          "Frozen Fish/Seafood",
          "Confectionery",
          "Spreads",
          "Canned Fish and Meat",
          "Prepared Meals",
          "Sauces",
          "Seafood Miscellaneous",
          "Dairy Foods/Yoghurts",
          "Breakfast Cereals - Hot And Cold",
          "Snack Foods - Other",
          "Cheese - Speciality ",
          "Baking Needs",
          "Drinks - Juices, Drinks and Cordials",
          "Sausages/Smallgoods",
          "Frozen Chicken - Processed",
          "Frozen Meals",
          "Bread - Incl. Buns And Rolls",
          "Sugar And Flour",
          "Ice-Cream Take Home",
          "Snack Foods - Chips",
          "Bacon",
          "Biscuits Cracker",
          "Dips/Hummus/Pate",
          "Frozen Meat",
          "Canned/Dried Veges",
          "Cheese - Block",
          "Milk/Cream - Shelf Stable",
          "Biscuits Chocolate",
          "Drinks - Soft Drinks",
          "Frozen Fruit",
          "Salad Dressings",
          "Vegetarian",
          "Smoked fish",
          "Herbs And Spices",
          "Health Supplements and Vitamins",
          "Cakes and Slices",
          "Wrapped Snacks - Muesli Bars",
          "Salads",
          "Snack Foods - Cereal Snacks",
          "Pickles, Relishes and Vinegar",
          "Sauces- Cooking",
          "Desserts & Custard",
          "Taco Shells",
          "Snack Foods - Nuts",
          "Frozen Vegetables",
          "Salami / Cured Meat",
          "Frozen Foods",
          "Wrapped Snacks - Nut Bars",
          "Biscuits Plain/Sweet",
          "Pastries/Pies/Pizzas",
          "Fresh Meat",
          "Sports and Weight Management",
          "Puddings and desserts",
          "Cooking Oils and Fats",
          "Frozen Potato",
          "Milk/Cream",
          "Drinks - Powdered",
          "Ham/Cold Meats",
          "Frozen Pies/Savouries",
          "Ice-Cream/Ice-Block Multi Pack",
          "Eggs",
          "Fresh Chicken - Processed",
          "Fruit",
          "Frozen Chicken - Portions",
          "Vegetables",
          "Wrapped Snacks - Cereal",
          "Rice & Grains",
          "Frozen Desserts",
          "Pasta",
          "Pasta - Instant Meals",
          "Antipasto",
          "Ready To Drink",
          "Dips - Shelf Stable",
          "Tea - Bags, Loose Leaf, Speciality",
          "Coffee - Instant, Roast and Ground",
          "Deli and Chilled Foods",
          "Frozen Snack",
          "Drinks - Energy Drinks",
          "Snack Foods - Corn Chips",
          "Beer",
          "Margarine/Butter",
          "Fresh Pasta",
          "Snack Foods - Dried Fruit",
          "Biscuits Kids",
          "Snack Foods - Multi Packs",
          "Fresh Meat, Poultry and Seafood",
          "Potato - Instant Meals",
          "Infant Formula",
          "Ice-Cream/Block Single",
          "Pastry",
          "Tofu",
          "Cakes/Slices/Biscuits",
          "Wrapped Snacks - Fruit Bars",
          "Fresh Chicken - Portions",
          "Fresh Fruit and Vegetables",
          "S/O Fresh Fish Fillets/Steaks",
          "Noodles",
          "Fresh Chicken - Whole",
          "Mussels"
         ],
         "xaxis": "x",
         "y": [
          104,
          86,
          66,
          61,
          51,
          38,
          38,
          34,
          32,
          31,
          27,
          26,
          26,
          21,
          17,
          17,
          16,
          15,
          15,
          15,
          13,
          12,
          12,
          12,
          11,
          11,
          11,
          10,
          10,
          10,
          10,
          10,
          9,
          9,
          9,
          8,
          8,
          8,
          8,
          7,
          7,
          7,
          7,
          7,
          7,
          7,
          7,
          6,
          6,
          6,
          6,
          5,
          5,
          5,
          5,
          4,
          4,
          4,
          4,
          4,
          4,
          4,
          3,
          3,
          3,
          3,
          3,
          3,
          3,
          2,
          2,
          2,
          2,
          2,
          2,
          2,
          2,
          2,
          2,
          2,
          1,
          1,
          1,
          1,
          1,
          1,
          1,
          1,
          1,
          1,
          1,
          1,
          1,
          1,
          1,
          1,
          1,
          1,
          1
         ],
         "yaxis": "y"
        }
       ],
       "layout": {
        "barmode": "relative",
        "legend": {
         "tracegroupgap": 0
        },
        "template": {
         "data": {
          "bar": [
           {
            "error_x": {
             "color": "#2a3f5f"
            },
            "error_y": {
             "color": "#2a3f5f"
            },
            "marker": {
             "line": {
              "color": "#E5ECF6",
              "width": 0.5
             },
             "pattern": {
              "fillmode": "overlay",
              "size": 10,
              "solidity": 0.2
             }
            },
            "type": "bar"
           }
          ],
          "barpolar": [
           {
            "marker": {
             "line": {
              "color": "#E5ECF6",
              "width": 0.5
             },
             "pattern": {
              "fillmode": "overlay",
              "size": 10,
              "solidity": 0.2
             }
            },
            "type": "barpolar"
           }
          ],
          "carpet": [
           {
            "aaxis": {
             "endlinecolor": "#2a3f5f",
             "gridcolor": "white",
             "linecolor": "white",
             "minorgridcolor": "white",
             "startlinecolor": "#2a3f5f"
            },
            "baxis": {
             "endlinecolor": "#2a3f5f",
             "gridcolor": "white",
             "linecolor": "white",
             "minorgridcolor": "white",
             "startlinecolor": "#2a3f5f"
            },
            "type": "carpet"
           }
          ],
          "choropleth": [
           {
            "colorbar": {
             "outlinewidth": 0,
             "ticks": ""
            },
            "type": "choropleth"
           }
          ],
          "contour": [
           {
            "colorbar": {
             "outlinewidth": 0,
             "ticks": ""
            },
            "colorscale": [
             [
              0,
              "#0d0887"
             ],
             [
              0.1111111111111111,
              "#46039f"
             ],
             [
              0.2222222222222222,
              "#7201a8"
             ],
             [
              0.3333333333333333,
              "#9c179e"
             ],
             [
              0.4444444444444444,
              "#bd3786"
             ],
             [
              0.5555555555555556,
              "#d8576b"
             ],
             [
              0.6666666666666666,
              "#ed7953"
             ],
             [
              0.7777777777777778,
              "#fb9f3a"
             ],
             [
              0.8888888888888888,
              "#fdca26"
             ],
             [
              1,
              "#f0f921"
             ]
            ],
            "type": "contour"
           }
          ],
          "contourcarpet": [
           {
            "colorbar": {
             "outlinewidth": 0,
             "ticks": ""
            },
            "type": "contourcarpet"
           }
          ],
          "heatmap": [
           {
            "colorbar": {
             "outlinewidth": 0,
             "ticks": ""
            },
            "colorscale": [
             [
              0,
              "#0d0887"
             ],
             [
              0.1111111111111111,
              "#46039f"
             ],
             [
              0.2222222222222222,
              "#7201a8"
             ],
             [
              0.3333333333333333,
              "#9c179e"
             ],
             [
              0.4444444444444444,
              "#bd3786"
             ],
             [
              0.5555555555555556,
              "#d8576b"
             ],
             [
              0.6666666666666666,
              "#ed7953"
             ],
             [
              0.7777777777777778,
              "#fb9f3a"
             ],
             [
              0.8888888888888888,
              "#fdca26"
             ],
             [
              1,
              "#f0f921"
             ]
            ],
            "type": "heatmap"
           }
          ],
          "heatmapgl": [
           {
            "colorbar": {
             "outlinewidth": 0,
             "ticks": ""
            },
            "colorscale": [
             [
              0,
              "#0d0887"
             ],
             [
              0.1111111111111111,
              "#46039f"
             ],
             [
              0.2222222222222222,
              "#7201a8"
             ],
             [
              0.3333333333333333,
              "#9c179e"
             ],
             [
              0.4444444444444444,
              "#bd3786"
             ],
             [
              0.5555555555555556,
              "#d8576b"
             ],
             [
              0.6666666666666666,
              "#ed7953"
             ],
             [
              0.7777777777777778,
              "#fb9f3a"
             ],
             [
              0.8888888888888888,
              "#fdca26"
             ],
             [
              1,
              "#f0f921"
             ]
            ],
            "type": "heatmapgl"
           }
          ],
          "histogram": [
           {
            "marker": {
             "pattern": {
              "fillmode": "overlay",
              "size": 10,
              "solidity": 0.2
             }
            },
            "type": "histogram"
           }
          ],
          "histogram2d": [
           {
            "colorbar": {
             "outlinewidth": 0,
             "ticks": ""
            },
            "colorscale": [
             [
              0,
              "#0d0887"
             ],
             [
              0.1111111111111111,
              "#46039f"
             ],
             [
              0.2222222222222222,
              "#7201a8"
             ],
             [
              0.3333333333333333,
              "#9c179e"
             ],
             [
              0.4444444444444444,
              "#bd3786"
             ],
             [
              0.5555555555555556,
              "#d8576b"
             ],
             [
              0.6666666666666666,
              "#ed7953"
             ],
             [
              0.7777777777777778,
              "#fb9f3a"
             ],
             [
              0.8888888888888888,
              "#fdca26"
             ],
             [
              1,
              "#f0f921"
             ]
            ],
            "type": "histogram2d"
           }
          ],
          "histogram2dcontour": [
           {
            "colorbar": {
             "outlinewidth": 0,
             "ticks": ""
            },
            "colorscale": [
             [
              0,
              "#0d0887"
             ],
             [
              0.1111111111111111,
              "#46039f"
             ],
             [
              0.2222222222222222,
              "#7201a8"
             ],
             [
              0.3333333333333333,
              "#9c179e"
             ],
             [
              0.4444444444444444,
              "#bd3786"
             ],
             [
              0.5555555555555556,
              "#d8576b"
             ],
             [
              0.6666666666666666,
              "#ed7953"
             ],
             [
              0.7777777777777778,
              "#fb9f3a"
             ],
             [
              0.8888888888888888,
              "#fdca26"
             ],
             [
              1,
              "#f0f921"
             ]
            ],
            "type": "histogram2dcontour"
           }
          ],
          "mesh3d": [
           {
            "colorbar": {
             "outlinewidth": 0,
             "ticks": ""
            },
            "type": "mesh3d"
           }
          ],
          "parcoords": [
           {
            "line": {
             "colorbar": {
              "outlinewidth": 0,
              "ticks": ""
             }
            },
            "type": "parcoords"
           }
          ],
          "pie": [
           {
            "automargin": true,
            "type": "pie"
           }
          ],
          "scatter": [
           {
            "fillpattern": {
             "fillmode": "overlay",
             "size": 10,
             "solidity": 0.2
            },
            "type": "scatter"
           }
          ],
          "scatter3d": [
           {
            "line": {
             "colorbar": {
              "outlinewidth": 0,
              "ticks": ""
             }
            },
            "marker": {
             "colorbar": {
              "outlinewidth": 0,
              "ticks": ""
             }
            },
            "type": "scatter3d"
           }
          ],
          "scattercarpet": [
           {
            "marker": {
             "colorbar": {
              "outlinewidth": 0,
              "ticks": ""
             }
            },
            "type": "scattercarpet"
           }
          ],
          "scattergeo": [
           {
            "marker": {
             "colorbar": {
              "outlinewidth": 0,
              "ticks": ""
             }
            },
            "type": "scattergeo"
           }
          ],
          "scattergl": [
           {
            "marker": {
             "colorbar": {
              "outlinewidth": 0,
              "ticks": ""
             }
            },
            "type": "scattergl"
           }
          ],
          "scattermapbox": [
           {
            "marker": {
             "colorbar": {
              "outlinewidth": 0,
              "ticks": ""
             }
            },
            "type": "scattermapbox"
           }
          ],
          "scatterpolar": [
           {
            "marker": {
             "colorbar": {
              "outlinewidth": 0,
              "ticks": ""
             }
            },
            "type": "scatterpolar"
           }
          ],
          "scatterpolargl": [
           {
            "marker": {
             "colorbar": {
              "outlinewidth": 0,
              "ticks": ""
             }
            },
            "type": "scatterpolargl"
           }
          ],
          "scatterternary": [
           {
            "marker": {
             "colorbar": {
              "outlinewidth": 0,
              "ticks": ""
             }
            },
            "type": "scatterternary"
           }
          ],
          "surface": [
           {
            "colorbar": {
             "outlinewidth": 0,
             "ticks": ""
            },
            "colorscale": [
             [
              0,
              "#0d0887"
             ],
             [
              0.1111111111111111,
              "#46039f"
             ],
             [
              0.2222222222222222,
              "#7201a8"
             ],
             [
              0.3333333333333333,
              "#9c179e"
             ],
             [
              0.4444444444444444,
              "#bd3786"
             ],
             [
              0.5555555555555556,
              "#d8576b"
             ],
             [
              0.6666666666666666,
              "#ed7953"
             ],
             [
              0.7777777777777778,
              "#fb9f3a"
             ],
             [
              0.8888888888888888,
              "#fdca26"
             ],
             [
              1,
              "#f0f921"
             ]
            ],
            "type": "surface"
           }
          ],
          "table": [
           {
            "cells": {
             "fill": {
              "color": "#EBF0F8"
             },
             "line": {
              "color": "white"
             }
            },
            "header": {
             "fill": {
              "color": "#C8D4E3"
             },
             "line": {
              "color": "white"
             }
            },
            "type": "table"
           }
          ]
         },
         "layout": {
          "annotationdefaults": {
           "arrowcolor": "#2a3f5f",
           "arrowhead": 0,
           "arrowwidth": 1
          },
          "autotypenumbers": "strict",
          "coloraxis": {
           "colorbar": {
            "outlinewidth": 0,
            "ticks": ""
           }
          },
          "colorscale": {
           "diverging": [
            [
             0,
             "#8e0152"
            ],
            [
             0.1,
             "#c51b7d"
            ],
            [
             0.2,
             "#de77ae"
            ],
            [
             0.3,
             "#f1b6da"
            ],
            [
             0.4,
             "#fde0ef"
            ],
            [
             0.5,
             "#f7f7f7"
            ],
            [
             0.6,
             "#e6f5d0"
            ],
            [
             0.7,
             "#b8e186"
            ],
            [
             0.8,
             "#7fbc41"
            ],
            [
             0.9,
             "#4d9221"
            ],
            [
             1,
             "#276419"
            ]
           ],
           "sequential": [
            [
             0,
             "#0d0887"
            ],
            [
             0.1111111111111111,
             "#46039f"
            ],
            [
             0.2222222222222222,
             "#7201a8"
            ],
            [
             0.3333333333333333,
             "#9c179e"
            ],
            [
             0.4444444444444444,
             "#bd3786"
            ],
            [
             0.5555555555555556,
             "#d8576b"
            ],
            [
             0.6666666666666666,
             "#ed7953"
            ],
            [
             0.7777777777777778,
             "#fb9f3a"
            ],
            [
             0.8888888888888888,
             "#fdca26"
            ],
            [
             1,
             "#f0f921"
            ]
           ],
           "sequentialminus": [
            [
             0,
             "#0d0887"
            ],
            [
             0.1111111111111111,
             "#46039f"
            ],
            [
             0.2222222222222222,
             "#7201a8"
            ],
            [
             0.3333333333333333,
             "#9c179e"
            ],
            [
             0.4444444444444444,
             "#bd3786"
            ],
            [
             0.5555555555555556,
             "#d8576b"
            ],
            [
             0.6666666666666666,
             "#ed7953"
            ],
            [
             0.7777777777777778,
             "#fb9f3a"
            ],
            [
             0.8888888888888888,
             "#fdca26"
            ],
            [
             1,
             "#f0f921"
            ]
           ]
          },
          "colorway": [
           "#636efa",
           "#EF553B",
           "#00cc96",
           "#ab63fa",
           "#FFA15A",
           "#19d3f3",
           "#FF6692",
           "#B6E880",
           "#FF97FF",
           "#FECB52"
          ],
          "font": {
           "color": "#2a3f5f"
          },
          "geo": {
           "bgcolor": "white",
           "lakecolor": "white",
           "landcolor": "#E5ECF6",
           "showlakes": true,
           "showland": true,
           "subunitcolor": "white"
          },
          "hoverlabel": {
           "align": "left"
          },
          "hovermode": "closest",
          "mapbox": {
           "style": "light"
          },
          "paper_bgcolor": "white",
          "plot_bgcolor": "#E5ECF6",
          "polar": {
           "angularaxis": {
            "gridcolor": "white",
            "linecolor": "white",
            "ticks": ""
           },
           "bgcolor": "#E5ECF6",
           "radialaxis": {
            "gridcolor": "white",
            "linecolor": "white",
            "ticks": ""
           }
          },
          "scene": {
           "xaxis": {
            "backgroundcolor": "#E5ECF6",
            "gridcolor": "white",
            "gridwidth": 2,
            "linecolor": "white",
            "showbackground": true,
            "ticks": "",
            "zerolinecolor": "white"
           },
           "yaxis": {
            "backgroundcolor": "#E5ECF6",
            "gridcolor": "white",
            "gridwidth": 2,
            "linecolor": "white",
            "showbackground": true,
            "ticks": "",
            "zerolinecolor": "white"
           },
           "zaxis": {
            "backgroundcolor": "#E5ECF6",
            "gridcolor": "white",
            "gridwidth": 2,
            "linecolor": "white",
            "showbackground": true,
            "ticks": "",
            "zerolinecolor": "white"
           }
          },
          "shapedefaults": {
           "line": {
            "color": "#2a3f5f"
           }
          },
          "ternary": {
           "aaxis": {
            "gridcolor": "white",
            "linecolor": "white",
            "ticks": ""
           },
           "baxis": {
            "gridcolor": "white",
            "linecolor": "white",
            "ticks": ""
           },
           "bgcolor": "#E5ECF6",
           "caxis": {
            "gridcolor": "white",
            "linecolor": "white",
            "ticks": ""
           }
          },
          "title": {
           "x": 0.05
          },
          "xaxis": {
           "automargin": true,
           "gridcolor": "white",
           "linecolor": "white",
           "ticks": "",
           "title": {
            "standoff": 15
           },
           "zerolinecolor": "white",
           "zerolinewidth": 2
          },
          "yaxis": {
           "automargin": true,
           "gridcolor": "white",
           "linecolor": "white",
           "ticks": "",
           "title": {
            "standoff": 15
           },
           "zerolinecolor": "white",
           "zerolinewidth": 2
          }
         }
        },
        "title": {
         "text": "Food Categories To New Zealand"
        },
        "xaxis": {
         "anchor": "y",
         "domain": [
          0,
          1
         ],
         "title": {
          "text": "food_category"
         }
        },
        "yaxis": {
         "anchor": "x",
         "domain": [
          0,
          1
         ],
         "title": {
          "text": "num_foods"
         }
        }
       }
      },
      "text/html": [
       "<div>                            <div id=\"93ace2c3-3e5d-44fa-b098-c7319600a080\" class=\"plotly-graph-div\" style=\"height:525px; width:100%;\"></div>            <script type=\"text/javascript\">                require([\"plotly\"], function(Plotly) {                    window.PLOTLYENV=window.PLOTLYENV || {};                                    if (document.getElementById(\"93ace2c3-3e5d-44fa-b098-c7319600a080\")) {                    Plotly.newPlot(                        \"93ace2c3-3e5d-44fa-b098-c7319600a080\",                        [{\"alignmentgroup\":\"True\",\"hovertemplate\":\"food_category=%{x}<br>num_foods=%{y}<extra></extra>\",\"legendgroup\":\"\",\"marker\":{\"color\":\"#636efa\",\"pattern\":{\"shape\":\"\"}},\"name\":\"\",\"offsetgroup\":\"\",\"orientation\":\"v\",\"showlegend\":false,\"textposition\":\"auto\",\"x\":[\"Frozen Fish/Seafood\",\"Confectionery\",\"Spreads\",\"Canned Fish and Meat\",\"Prepared Meals\",\"Sauces\",\"Seafood Miscellaneous\",\"Dairy Foods/Yoghurts\",\"Breakfast Cereals - Hot And Cold\",\"Snack Foods - Other\",\"Cheese - Speciality \",\"Baking Needs\",\"Drinks - Juices, Drinks and Cordials\",\"Sausages/Smallgoods\",\"Frozen Chicken - Processed\",\"Frozen Meals\",\"Bread - Incl. Buns And Rolls\",\"Sugar And Flour\",\"Ice-Cream Take Home\",\"Snack Foods - Chips\",\"Bacon\",\"Biscuits Cracker\",\"Dips/Hummus/Pate\",\"Frozen Meat\",\"Canned/Dried Veges\",\"Cheese - Block\",\"Milk/Cream - Shelf Stable\",\"Biscuits Chocolate\",\"Drinks - Soft Drinks\",\"Frozen Fruit\",\"Salad Dressings\",\"Vegetarian\",\"Smoked fish\",\"Herbs And Spices\",\"Health Supplements and Vitamins\",\"Cakes and Slices\",\"Wrapped Snacks - Muesli Bars\",\"Salads\",\"Snack Foods - Cereal Snacks\",\"Pickles, Relishes and Vinegar\",\"Sauces- Cooking\",\"Desserts & Custard\",\"Taco Shells\",\"Snack Foods - Nuts\",\"Frozen Vegetables\",\"Salami / Cured Meat\",\"Frozen Foods\",\"Wrapped Snacks - Nut Bars\",\"Biscuits Plain/Sweet\",\"Pastries/Pies/Pizzas\",\"Fresh Meat\",\"Sports and Weight Management\",\"Puddings and desserts\",\"Cooking Oils and Fats\",\"Frozen Potato\",\"Milk/Cream\",\"Drinks - Powdered\",\"Ham/Cold Meats\",\"Frozen Pies/Savouries\",\"Ice-Cream/Ice-Block Multi Pack\",\"Eggs\",\"Fresh Chicken - Processed\",\"Fruit\",\"Frozen Chicken - Portions\",\"Vegetables\",\"Wrapped Snacks - Cereal\",\"Rice & Grains\",\"Frozen Desserts\",\"Pasta\",\"Pasta - Instant Meals\",\"Antipasto\",\"Ready To Drink\",\"Dips - Shelf Stable\",\"Tea - Bags, Loose Leaf, Speciality\",\"Coffee - Instant, Roast and Ground\",\"Deli and Chilled Foods\",\"Frozen Snack\",\"Drinks - Energy Drinks\",\"Snack Foods - Corn Chips\",\"Beer\",\"Margarine/Butter\",\"Fresh Pasta\",\"Snack Foods - Dried Fruit\",\"Biscuits Kids\",\"Snack Foods - Multi Packs\",\"Fresh Meat, Poultry and Seafood\",\"Potato - Instant Meals\",\"Infant Formula\",\"Ice-Cream/Block Single\",\"Pastry\",\"Tofu\",\"Cakes/Slices/Biscuits\",\"Wrapped Snacks - Fruit Bars\",\"Fresh Chicken - Portions\",\"Fresh Fruit and Vegetables\",\"S/O Fresh Fish Fillets/Steaks\",\"Noodles\",\"Fresh Chicken - Whole\",\"Mussels\"],\"xaxis\":\"x\",\"y\":[104,86,66,61,51,38,38,34,32,31,27,26,26,21,17,17,16,15,15,15,13,12,12,12,11,11,11,10,10,10,10,10,9,9,9,8,8,8,8,7,7,7,7,7,7,7,7,6,6,6,6,5,5,5,5,4,4,4,4,4,4,4,3,3,3,3,3,3,3,2,2,2,2,2,2,2,2,2,2,2,1,1,1,1,1,1,1,1,1,1,1,1,1,1,1,1,1,1,1],\"yaxis\":\"y\",\"type\":\"bar\"}],                        {\"template\":{\"data\":{\"histogram2dcontour\":[{\"type\":\"histogram2dcontour\",\"colorbar\":{\"outlinewidth\":0,\"ticks\":\"\"},\"colorscale\":[[0.0,\"#0d0887\"],[0.1111111111111111,\"#46039f\"],[0.2222222222222222,\"#7201a8\"],[0.3333333333333333,\"#9c179e\"],[0.4444444444444444,\"#bd3786\"],[0.5555555555555556,\"#d8576b\"],[0.6666666666666666,\"#ed7953\"],[0.7777777777777778,\"#fb9f3a\"],[0.8888888888888888,\"#fdca26\"],[1.0,\"#f0f921\"]]}],\"choropleth\":[{\"type\":\"choropleth\",\"colorbar\":{\"outlinewidth\":0,\"ticks\":\"\"}}],\"histogram2d\":[{\"type\":\"histogram2d\",\"colorbar\":{\"outlinewidth\":0,\"ticks\":\"\"},\"colorscale\":[[0.0,\"#0d0887\"],[0.1111111111111111,\"#46039f\"],[0.2222222222222222,\"#7201a8\"],[0.3333333333333333,\"#9c179e\"],[0.4444444444444444,\"#bd3786\"],[0.5555555555555556,\"#d8576b\"],[0.6666666666666666,\"#ed7953\"],[0.7777777777777778,\"#fb9f3a\"],[0.8888888888888888,\"#fdca26\"],[1.0,\"#f0f921\"]]}],\"heatmap\":[{\"type\":\"heatmap\",\"colorbar\":{\"outlinewidth\":0,\"ticks\":\"\"},\"colorscale\":[[0.0,\"#0d0887\"],[0.1111111111111111,\"#46039f\"],[0.2222222222222222,\"#7201a8\"],[0.3333333333333333,\"#9c179e\"],[0.4444444444444444,\"#bd3786\"],[0.5555555555555556,\"#d8576b\"],[0.6666666666666666,\"#ed7953\"],[0.7777777777777778,\"#fb9f3a\"],[0.8888888888888888,\"#fdca26\"],[1.0,\"#f0f921\"]]}],\"heatmapgl\":[{\"type\":\"heatmapgl\",\"colorbar\":{\"outlinewidth\":0,\"ticks\":\"\"},\"colorscale\":[[0.0,\"#0d0887\"],[0.1111111111111111,\"#46039f\"],[0.2222222222222222,\"#7201a8\"],[0.3333333333333333,\"#9c179e\"],[0.4444444444444444,\"#bd3786\"],[0.5555555555555556,\"#d8576b\"],[0.6666666666666666,\"#ed7953\"],[0.7777777777777778,\"#fb9f3a\"],[0.8888888888888888,\"#fdca26\"],[1.0,\"#f0f921\"]]}],\"contourcarpet\":[{\"type\":\"contourcarpet\",\"colorbar\":{\"outlinewidth\":0,\"ticks\":\"\"}}],\"contour\":[{\"type\":\"contour\",\"colorbar\":{\"outlinewidth\":0,\"ticks\":\"\"},\"colorscale\":[[0.0,\"#0d0887\"],[0.1111111111111111,\"#46039f\"],[0.2222222222222222,\"#7201a8\"],[0.3333333333333333,\"#9c179e\"],[0.4444444444444444,\"#bd3786\"],[0.5555555555555556,\"#d8576b\"],[0.6666666666666666,\"#ed7953\"],[0.7777777777777778,\"#fb9f3a\"],[0.8888888888888888,\"#fdca26\"],[1.0,\"#f0f921\"]]}],\"surface\":[{\"type\":\"surface\",\"colorbar\":{\"outlinewidth\":0,\"ticks\":\"\"},\"colorscale\":[[0.0,\"#0d0887\"],[0.1111111111111111,\"#46039f\"],[0.2222222222222222,\"#7201a8\"],[0.3333333333333333,\"#9c179e\"],[0.4444444444444444,\"#bd3786\"],[0.5555555555555556,\"#d8576b\"],[0.6666666666666666,\"#ed7953\"],[0.7777777777777778,\"#fb9f3a\"],[0.8888888888888888,\"#fdca26\"],[1.0,\"#f0f921\"]]}],\"mesh3d\":[{\"type\":\"mesh3d\",\"colorbar\":{\"outlinewidth\":0,\"ticks\":\"\"}}],\"scatter\":[{\"fillpattern\":{\"fillmode\":\"overlay\",\"size\":10,\"solidity\":0.2},\"type\":\"scatter\"}],\"parcoords\":[{\"type\":\"parcoords\",\"line\":{\"colorbar\":{\"outlinewidth\":0,\"ticks\":\"\"}}}],\"scatterpolargl\":[{\"type\":\"scatterpolargl\",\"marker\":{\"colorbar\":{\"outlinewidth\":0,\"ticks\":\"\"}}}],\"bar\":[{\"error_x\":{\"color\":\"#2a3f5f\"},\"error_y\":{\"color\":\"#2a3f5f\"},\"marker\":{\"line\":{\"color\":\"#E5ECF6\",\"width\":0.5},\"pattern\":{\"fillmode\":\"overlay\",\"size\":10,\"solidity\":0.2}},\"type\":\"bar\"}],\"scattergeo\":[{\"type\":\"scattergeo\",\"marker\":{\"colorbar\":{\"outlinewidth\":0,\"ticks\":\"\"}}}],\"scatterpolar\":[{\"type\":\"scatterpolar\",\"marker\":{\"colorbar\":{\"outlinewidth\":0,\"ticks\":\"\"}}}],\"histogram\":[{\"marker\":{\"pattern\":{\"fillmode\":\"overlay\",\"size\":10,\"solidity\":0.2}},\"type\":\"histogram\"}],\"scattergl\":[{\"type\":\"scattergl\",\"marker\":{\"colorbar\":{\"outlinewidth\":0,\"ticks\":\"\"}}}],\"scatter3d\":[{\"type\":\"scatter3d\",\"line\":{\"colorbar\":{\"outlinewidth\":0,\"ticks\":\"\"}},\"marker\":{\"colorbar\":{\"outlinewidth\":0,\"ticks\":\"\"}}}],\"scattermapbox\":[{\"type\":\"scattermapbox\",\"marker\":{\"colorbar\":{\"outlinewidth\":0,\"ticks\":\"\"}}}],\"scatterternary\":[{\"type\":\"scatterternary\",\"marker\":{\"colorbar\":{\"outlinewidth\":0,\"ticks\":\"\"}}}],\"scattercarpet\":[{\"type\":\"scattercarpet\",\"marker\":{\"colorbar\":{\"outlinewidth\":0,\"ticks\":\"\"}}}],\"carpet\":[{\"aaxis\":{\"endlinecolor\":\"#2a3f5f\",\"gridcolor\":\"white\",\"linecolor\":\"white\",\"minorgridcolor\":\"white\",\"startlinecolor\":\"#2a3f5f\"},\"baxis\":{\"endlinecolor\":\"#2a3f5f\",\"gridcolor\":\"white\",\"linecolor\":\"white\",\"minorgridcolor\":\"white\",\"startlinecolor\":\"#2a3f5f\"},\"type\":\"carpet\"}],\"table\":[{\"cells\":{\"fill\":{\"color\":\"#EBF0F8\"},\"line\":{\"color\":\"white\"}},\"header\":{\"fill\":{\"color\":\"#C8D4E3\"},\"line\":{\"color\":\"white\"}},\"type\":\"table\"}],\"barpolar\":[{\"marker\":{\"line\":{\"color\":\"#E5ECF6\",\"width\":0.5},\"pattern\":{\"fillmode\":\"overlay\",\"size\":10,\"solidity\":0.2}},\"type\":\"barpolar\"}],\"pie\":[{\"automargin\":true,\"type\":\"pie\"}]},\"layout\":{\"autotypenumbers\":\"strict\",\"colorway\":[\"#636efa\",\"#EF553B\",\"#00cc96\",\"#ab63fa\",\"#FFA15A\",\"#19d3f3\",\"#FF6692\",\"#B6E880\",\"#FF97FF\",\"#FECB52\"],\"font\":{\"color\":\"#2a3f5f\"},\"hovermode\":\"closest\",\"hoverlabel\":{\"align\":\"left\"},\"paper_bgcolor\":\"white\",\"plot_bgcolor\":\"#E5ECF6\",\"polar\":{\"bgcolor\":\"#E5ECF6\",\"angularaxis\":{\"gridcolor\":\"white\",\"linecolor\":\"white\",\"ticks\":\"\"},\"radialaxis\":{\"gridcolor\":\"white\",\"linecolor\":\"white\",\"ticks\":\"\"}},\"ternary\":{\"bgcolor\":\"#E5ECF6\",\"aaxis\":{\"gridcolor\":\"white\",\"linecolor\":\"white\",\"ticks\":\"\"},\"baxis\":{\"gridcolor\":\"white\",\"linecolor\":\"white\",\"ticks\":\"\"},\"caxis\":{\"gridcolor\":\"white\",\"linecolor\":\"white\",\"ticks\":\"\"}},\"coloraxis\":{\"colorbar\":{\"outlinewidth\":0,\"ticks\":\"\"}},\"colorscale\":{\"sequential\":[[0.0,\"#0d0887\"],[0.1111111111111111,\"#46039f\"],[0.2222222222222222,\"#7201a8\"],[0.3333333333333333,\"#9c179e\"],[0.4444444444444444,\"#bd3786\"],[0.5555555555555556,\"#d8576b\"],[0.6666666666666666,\"#ed7953\"],[0.7777777777777778,\"#fb9f3a\"],[0.8888888888888888,\"#fdca26\"],[1.0,\"#f0f921\"]],\"sequentialminus\":[[0.0,\"#0d0887\"],[0.1111111111111111,\"#46039f\"],[0.2222222222222222,\"#7201a8\"],[0.3333333333333333,\"#9c179e\"],[0.4444444444444444,\"#bd3786\"],[0.5555555555555556,\"#d8576b\"],[0.6666666666666666,\"#ed7953\"],[0.7777777777777778,\"#fb9f3a\"],[0.8888888888888888,\"#fdca26\"],[1.0,\"#f0f921\"]],\"diverging\":[[0,\"#8e0152\"],[0.1,\"#c51b7d\"],[0.2,\"#de77ae\"],[0.3,\"#f1b6da\"],[0.4,\"#fde0ef\"],[0.5,\"#f7f7f7\"],[0.6,\"#e6f5d0\"],[0.7,\"#b8e186\"],[0.8,\"#7fbc41\"],[0.9,\"#4d9221\"],[1,\"#276419\"]]},\"xaxis\":{\"gridcolor\":\"white\",\"linecolor\":\"white\",\"ticks\":\"\",\"title\":{\"standoff\":15},\"zerolinecolor\":\"white\",\"automargin\":true,\"zerolinewidth\":2},\"yaxis\":{\"gridcolor\":\"white\",\"linecolor\":\"white\",\"ticks\":\"\",\"title\":{\"standoff\":15},\"zerolinecolor\":\"white\",\"automargin\":true,\"zerolinewidth\":2},\"scene\":{\"xaxis\":{\"backgroundcolor\":\"#E5ECF6\",\"gridcolor\":\"white\",\"linecolor\":\"white\",\"showbackground\":true,\"ticks\":\"\",\"zerolinecolor\":\"white\",\"gridwidth\":2},\"yaxis\":{\"backgroundcolor\":\"#E5ECF6\",\"gridcolor\":\"white\",\"linecolor\":\"white\",\"showbackground\":true,\"ticks\":\"\",\"zerolinecolor\":\"white\",\"gridwidth\":2},\"zaxis\":{\"backgroundcolor\":\"#E5ECF6\",\"gridcolor\":\"white\",\"linecolor\":\"white\",\"showbackground\":true,\"ticks\":\"\",\"zerolinecolor\":\"white\",\"gridwidth\":2}},\"shapedefaults\":{\"line\":{\"color\":\"#2a3f5f\"}},\"annotationdefaults\":{\"arrowcolor\":\"#2a3f5f\",\"arrowhead\":0,\"arrowwidth\":1},\"geo\":{\"bgcolor\":\"white\",\"landcolor\":\"#E5ECF6\",\"subunitcolor\":\"white\",\"showland\":true,\"showlakes\":true,\"lakecolor\":\"white\"},\"title\":{\"x\":0.05},\"mapbox\":{\"style\":\"light\"}}},\"xaxis\":{\"anchor\":\"y\",\"domain\":[0.0,1.0],\"title\":{\"text\":\"food_category\"}},\"yaxis\":{\"anchor\":\"x\",\"domain\":[0.0,1.0],\"title\":{\"text\":\"num_foods\"}},\"legend\":{\"tracegroupgap\":0},\"title\":{\"text\":\"Food Categories To New Zealand\"},\"barmode\":\"relative\"},                        {\"responsive\": true}                    ).then(function(){\n",
       "                            \n",
       "var gd = document.getElementById('93ace2c3-3e5d-44fa-b098-c7319600a080');\n",
       "var x = new MutationObserver(function (mutations, observer) {{\n",
       "        var display = window.getComputedStyle(gd).display;\n",
       "        if (!display || display === 'none') {{\n",
       "            console.log([gd, 'removed!']);\n",
       "            Plotly.purge(gd);\n",
       "            observer.disconnect();\n",
       "        }}\n",
       "}});\n",
       "\n",
       "// Listen for the removal of the full notebook cells\n",
       "var notebookContainer = gd.closest('#notebook-container');\n",
       "if (notebookContainer) {{\n",
       "    x.observe(notebookContainer, {childList: true});\n",
       "}}\n",
       "\n",
       "// Listen for the clearing of the current output cell\n",
       "var outputEl = gd.closest('.output');\n",
       "if (outputEl) {{\n",
       "    x.observe(outputEl, {childList: true});\n",
       "}}\n",
       "\n",
       "                        })                };                });            </script>        </div>"
      ]
     },
     "metadata": {},
     "output_type": "display_data"
    }
   ],
   "source": [
    "new_zealand_foods = (\n",
    "    branded_food[branded_food.market_country == 'New Zealand']\n",
    "    .branded_food_category.value_counts().reset_index()\n",
    "    .rename(columns={'index':'food_category', 'branded_food_category': 'num_foods'})\n",
    ")\n",
    "\n",
    "px.bar(new_zealand_foods, x='food_category', y='num_foods', title='Food Categories To New Zealand')"
   ]
  },
  {
   "cell_type": "markdown",
   "id": "5ae4b8be",
   "metadata": {},
   "source": [
    "The market country column shows that many entries repeat United States, when a better approach may just be to one-hot encode whether the food is from the us or not. Since there are only two options, we can mark whether the food is for the american market with a 1, or for the new zealand market with a 0. This reduces memory usage from over 120 million bytes to simply 1 million bytes!\n",
    "\n",
    "However, because we can simply ignore this column with little to no consequence, we will most likely drop it. We may look into it to see how different this subsection is compared to the dataset."
   ]
  },
  {
   "cell_type": "code",
   "execution_count": 39,
   "id": "96807706",
   "metadata": {},
   "outputs": [],
   "source": [
    "# Can be used, but will most likely drop.\n",
    "# branded_food.market_country = (branded_food.market_country == 'United States').astype(np.int8)\n",
    "#branded_food.market_country.memory_usage(deep=True)"
   ]
  },
  {
   "cell_type": "markdown",
   "id": "8ea23fa2",
   "metadata": {},
   "source": [
    "Other memory optimizations is the conversion of the modified_date and available_date columns to datetime, which converts the issue of strings to simply individual objects, which reduces the bytes used tremendously as well; the byte count shrinks about 10x for both columns."
   ]
  },
  {
   "cell_type": "code",
   "execution_count": 21,
   "id": "f20aee00",
   "metadata": {},
   "outputs": [
    {
     "data": {
      "text/plain": [
       "0.138396575"
      ]
     },
     "execution_count": 21,
     "metadata": {},
     "output_type": "execute_result"
    }
   ],
   "source": [
    "branded_food.modified_date.memory_usage(deep=True) / 1e9 # Before datetime"
   ]
  },
  {
   "cell_type": "code",
   "execution_count": 22,
   "id": "6f28d80f",
   "metadata": {},
   "outputs": [],
   "source": [
    "branded_food.modified_date = pd.to_datetime(branded_food.modified_date)\n",
    "branded_food.available_date = pd.to_datetime(branded_food.available_date)"
   ]
  },
  {
   "cell_type": "code",
   "execution_count": 23,
   "id": "2b087ca1",
   "metadata": {},
   "outputs": [
    {
     "data": {
      "text/plain": [
       "0.029524752"
      ]
     },
     "execution_count": 23,
     "metadata": {},
     "output_type": "execute_result"
    }
   ],
   "source": [
    "branded_food.modified_date.memory_usage(deep=True) / 1e9 # After datetime"
   ]
  },
  {
   "cell_type": "code",
   "execution_count": 24,
   "id": "73efa88f",
   "metadata": {},
   "outputs": [
    {
     "data": {
      "text/plain": [
       "brand_owner                            object\n",
       "brand_name                             object\n",
       "subbrand_name                          object\n",
       "gtin_upc                               object\n",
       "ingredients                            object\n",
       "not_a_significant_source_of            object\n",
       "serving_size                          float64\n",
       "serving_size_unit                      object\n",
       "household_serving_fulltext             object\n",
       "branded_food_category                  object\n",
       "data_source                            object\n",
       "package_weight                         object\n",
       "modified_date                  datetime64[ns]\n",
       "available_date                 datetime64[ns]\n",
       "market_country                           int8\n",
       "preparation_state_code                 object\n",
       "dtype: object"
      ]
     },
     "execution_count": 24,
     "metadata": {},
     "output_type": "execute_result"
    }
   ],
   "source": [
    "branded_food.dtypes"
   ]
  },
  {
   "cell_type": "code",
   "execution_count": 25,
   "id": "739f9408",
   "metadata": {},
   "outputs": [
    {
     "data": {
      "text/plain": [
       "123830405"
      ]
     },
     "execution_count": 25,
     "metadata": {},
     "output_type": "execute_result"
    }
   ],
   "source": [
    "branded_food.data_source.memory_usage(deep=True)"
   ]
  },
  {
   "cell_type": "code",
   "execution_count": 26,
   "id": "5cace20a",
   "metadata": {},
   "outputs": [
    {
     "data": {
      "text/plain": [
       "LI        1748661\n",
       "GDSN        95519\n",
       "NZGDSN       1117\n",
       "Name: data_source, dtype: int64"
      ]
     },
     "execution_count": 26,
     "metadata": {},
     "output_type": "execute_result"
    }
   ],
   "source": [
    "branded_food.data_source.value_counts() # Easily one-hot encodeable into possibly three different categories"
   ]
  },
  {
   "cell_type": "code",
   "execution_count": 27,
   "id": "ae5df12f",
   "metadata": {},
   "outputs": [
    {
     "data": {
      "text/html": [
       "<div>\n",
       "<style scoped>\n",
       "    .dataframe tbody tr th:only-of-type {\n",
       "        vertical-align: middle;\n",
       "    }\n",
       "\n",
       "    .dataframe tbody tr th {\n",
       "        vertical-align: top;\n",
       "    }\n",
       "\n",
       "    .dataframe thead th {\n",
       "        text-align: right;\n",
       "    }\n",
       "</style>\n",
       "<table border=\"1\" class=\"dataframe\">\n",
       "  <thead>\n",
       "    <tr style=\"text-align: right;\">\n",
       "      <th></th>\n",
       "      <th>GDSN</th>\n",
       "      <th>LI</th>\n",
       "      <th>NZGDSN</th>\n",
       "    </tr>\n",
       "    <tr>\n",
       "      <th>fdc_id</th>\n",
       "      <th></th>\n",
       "      <th></th>\n",
       "      <th></th>\n",
       "    </tr>\n",
       "  </thead>\n",
       "  <tbody>\n",
       "    <tr>\n",
       "      <th>1105904</th>\n",
       "      <td>1</td>\n",
       "      <td>0</td>\n",
       "      <td>0</td>\n",
       "    </tr>\n",
       "    <tr>\n",
       "      <th>1105905</th>\n",
       "      <td>1</td>\n",
       "      <td>0</td>\n",
       "      <td>0</td>\n",
       "    </tr>\n",
       "    <tr>\n",
       "      <th>1105906</th>\n",
       "      <td>1</td>\n",
       "      <td>0</td>\n",
       "      <td>0</td>\n",
       "    </tr>\n",
       "    <tr>\n",
       "      <th>1105907</th>\n",
       "      <td>1</td>\n",
       "      <td>0</td>\n",
       "      <td>0</td>\n",
       "    </tr>\n",
       "    <tr>\n",
       "      <th>1105908</th>\n",
       "      <td>1</td>\n",
       "      <td>0</td>\n",
       "      <td>0</td>\n",
       "    </tr>\n",
       "    <tr>\n",
       "      <th>...</th>\n",
       "      <td>...</td>\n",
       "      <td>...</td>\n",
       "      <td>...</td>\n",
       "    </tr>\n",
       "    <tr>\n",
       "      <th>2554910</th>\n",
       "      <td>0</td>\n",
       "      <td>1</td>\n",
       "      <td>0</td>\n",
       "    </tr>\n",
       "    <tr>\n",
       "      <th>2554911</th>\n",
       "      <td>0</td>\n",
       "      <td>1</td>\n",
       "      <td>0</td>\n",
       "    </tr>\n",
       "    <tr>\n",
       "      <th>2554912</th>\n",
       "      <td>0</td>\n",
       "      <td>1</td>\n",
       "      <td>0</td>\n",
       "    </tr>\n",
       "    <tr>\n",
       "      <th>2554913</th>\n",
       "      <td>0</td>\n",
       "      <td>1</td>\n",
       "      <td>0</td>\n",
       "    </tr>\n",
       "    <tr>\n",
       "      <th>2554914</th>\n",
       "      <td>0</td>\n",
       "      <td>1</td>\n",
       "      <td>0</td>\n",
       "    </tr>\n",
       "  </tbody>\n",
       "</table>\n",
       "<p>1845297 rows × 3 columns</p>\n",
       "</div>"
      ],
      "text/plain": [
       "         GDSN  LI  NZGDSN\n",
       "fdc_id                   \n",
       "1105904     1   0       0\n",
       "1105905     1   0       0\n",
       "1105906     1   0       0\n",
       "1105907     1   0       0\n",
       "1105908     1   0       0\n",
       "...       ...  ..     ...\n",
       "2554910     0   1       0\n",
       "2554911     0   1       0\n",
       "2554912     0   1       0\n",
       "2554913     0   1       0\n",
       "2554914     0   1       0\n",
       "\n",
       "[1845297 rows x 3 columns]"
      ]
     },
     "execution_count": 27,
     "metadata": {},
     "output_type": "execute_result"
    }
   ],
   "source": [
    "pd.get_dummies(branded_food.data_source) # One hot encodes easily"
   ]
  },
  {
   "cell_type": "code",
   "execution_count": 28,
   "id": "38176697",
   "metadata": {
    "scrolled": true
   },
   "outputs": [
    {
     "data": {
      "text/html": [
       "<div>\n",
       "<style scoped>\n",
       "    .dataframe tbody tr th:only-of-type {\n",
       "        vertical-align: middle;\n",
       "    }\n",
       "\n",
       "    .dataframe tbody tr th {\n",
       "        vertical-align: top;\n",
       "    }\n",
       "\n",
       "    .dataframe thead th {\n",
       "        text-align: right;\n",
       "    }\n",
       "</style>\n",
       "<table border=\"1\" class=\"dataframe\">\n",
       "  <thead>\n",
       "    <tr style=\"text-align: right;\">\n",
       "      <th></th>\n",
       "      <th>brand_owner</th>\n",
       "      <th>brand_name</th>\n",
       "      <th>subbrand_name</th>\n",
       "      <th>gtin_upc</th>\n",
       "      <th>ingredients</th>\n",
       "      <th>not_a_significant_source_of</th>\n",
       "      <th>serving_size</th>\n",
       "      <th>serving_size_unit</th>\n",
       "      <th>household_serving_fulltext</th>\n",
       "      <th>branded_food_category</th>\n",
       "      <th>data_source</th>\n",
       "      <th>package_weight</th>\n",
       "      <th>modified_date</th>\n",
       "      <th>available_date</th>\n",
       "      <th>market_country</th>\n",
       "      <th>preparation_state_code</th>\n",
       "      <th>GDSN</th>\n",
       "      <th>LI</th>\n",
       "      <th>NZGDSN</th>\n",
       "    </tr>\n",
       "    <tr>\n",
       "      <th>fdc_id</th>\n",
       "      <th></th>\n",
       "      <th></th>\n",
       "      <th></th>\n",
       "      <th></th>\n",
       "      <th></th>\n",
       "      <th></th>\n",
       "      <th></th>\n",
       "      <th></th>\n",
       "      <th></th>\n",
       "      <th></th>\n",
       "      <th></th>\n",
       "      <th></th>\n",
       "      <th></th>\n",
       "      <th></th>\n",
       "      <th></th>\n",
       "      <th></th>\n",
       "      <th></th>\n",
       "      <th></th>\n",
       "      <th></th>\n",
       "    </tr>\n",
       "  </thead>\n",
       "  <tbody>\n",
       "    <tr>\n",
       "      <th>1105904</th>\n",
       "      <td>Richardson Oilseed Products (US) Limited</td>\n",
       "      <td>NaN</td>\n",
       "      <td>NaN</td>\n",
       "      <td>00027000612323</td>\n",
       "      <td>Vegetable Oil</td>\n",
       "      <td>NaN</td>\n",
       "      <td>15.0</td>\n",
       "      <td>ml</td>\n",
       "      <td>NaN</td>\n",
       "      <td>Oils Edible</td>\n",
       "      <td>GDSN</td>\n",
       "      <td>NaN</td>\n",
       "      <td>2020-10-02</td>\n",
       "      <td>2020-11-13</td>\n",
       "      <td>1</td>\n",
       "      <td>NaN</td>\n",
       "      <td>1</td>\n",
       "      <td>0</td>\n",
       "      <td>0</td>\n",
       "    </tr>\n",
       "    <tr>\n",
       "      <th>1105905</th>\n",
       "      <td>CAMPBELL SOUP COMPANY</td>\n",
       "      <td>NaN</td>\n",
       "      <td>NaN</td>\n",
       "      <td>00051000198808</td>\n",
       "      <td>INGREDIENTS: BEEF STOCK, CONTAINS LESS THAN 2%...</td>\n",
       "      <td>NaN</td>\n",
       "      <td>240.0</td>\n",
       "      <td>ml</td>\n",
       "      <td>NaN</td>\n",
       "      <td>Herbs/Spices/Extracts</td>\n",
       "      <td>GDSN</td>\n",
       "      <td>NaN</td>\n",
       "      <td>2020-09-12</td>\n",
       "      <td>2020-11-13</td>\n",
       "      <td>1</td>\n",
       "      <td>NaN</td>\n",
       "      <td>1</td>\n",
       "      <td>0</td>\n",
       "      <td>0</td>\n",
       "    </tr>\n",
       "    <tr>\n",
       "      <th>1105906</th>\n",
       "      <td>CAMPBELL SOUP COMPANY</td>\n",
       "      <td>NaN</td>\n",
       "      <td>NaN</td>\n",
       "      <td>00051000213273</td>\n",
       "      <td>INGREDIENTS: CLAM STOCK, POTATOES, CLAMS, CREA...</td>\n",
       "      <td>NaN</td>\n",
       "      <td>440.0</td>\n",
       "      <td>g</td>\n",
       "      <td>NaN</td>\n",
       "      <td>Prepared Soups</td>\n",
       "      <td>GDSN</td>\n",
       "      <td>NaN</td>\n",
       "      <td>2020-09-01</td>\n",
       "      <td>2020-11-13</td>\n",
       "      <td>1</td>\n",
       "      <td>NaN</td>\n",
       "      <td>1</td>\n",
       "      <td>0</td>\n",
       "      <td>0</td>\n",
       "    </tr>\n",
       "    <tr>\n",
       "      <th>1105907</th>\n",
       "      <td>CAMPBELL SOUP COMPANY</td>\n",
       "      <td>NaN</td>\n",
       "      <td>NaN</td>\n",
       "      <td>00051000213303</td>\n",
       "      <td>INGREDIENTS: WATER, CREAM, BROCCOLI, CELERY, V...</td>\n",
       "      <td>NaN</td>\n",
       "      <td>440.0</td>\n",
       "      <td>g</td>\n",
       "      <td>NaN</td>\n",
       "      <td>Prepared Soups</td>\n",
       "      <td>GDSN</td>\n",
       "      <td>NaN</td>\n",
       "      <td>2020-09-01</td>\n",
       "      <td>2020-11-13</td>\n",
       "      <td>1</td>\n",
       "      <td>NaN</td>\n",
       "      <td>1</td>\n",
       "      <td>0</td>\n",
       "      <td>0</td>\n",
       "    </tr>\n",
       "    <tr>\n",
       "      <th>1105908</th>\n",
       "      <td>CAMPBELL SOUP COMPANY</td>\n",
       "      <td>NaN</td>\n",
       "      <td>NaN</td>\n",
       "      <td>00051000224637</td>\n",
       "      <td>INGREDIENTS: CHICKEN STOCK, CONTAINS LESS THAN...</td>\n",
       "      <td>NaN</td>\n",
       "      <td>240.0</td>\n",
       "      <td>ml</td>\n",
       "      <td>NaN</td>\n",
       "      <td>Herbs/Spices/Extracts</td>\n",
       "      <td>GDSN</td>\n",
       "      <td>NaN</td>\n",
       "      <td>2020-10-03</td>\n",
       "      <td>2020-11-13</td>\n",
       "      <td>1</td>\n",
       "      <td>NaN</td>\n",
       "      <td>1</td>\n",
       "      <td>0</td>\n",
       "      <td>0</td>\n",
       "    </tr>\n",
       "  </tbody>\n",
       "</table>\n",
       "</div>"
      ],
      "text/plain": [
       "                                      brand_owner brand_name subbrand_name  \\\n",
       "fdc_id                                                                       \n",
       "1105904  Richardson Oilseed Products (US) Limited        NaN           NaN   \n",
       "1105905                     CAMPBELL SOUP COMPANY        NaN           NaN   \n",
       "1105906                     CAMPBELL SOUP COMPANY        NaN           NaN   \n",
       "1105907                     CAMPBELL SOUP COMPANY        NaN           NaN   \n",
       "1105908                     CAMPBELL SOUP COMPANY        NaN           NaN   \n",
       "\n",
       "               gtin_upc                                        ingredients  \\\n",
       "fdc_id                                                                       \n",
       "1105904  00027000612323                                      Vegetable Oil   \n",
       "1105905  00051000198808  INGREDIENTS: BEEF STOCK, CONTAINS LESS THAN 2%...   \n",
       "1105906  00051000213273  INGREDIENTS: CLAM STOCK, POTATOES, CLAMS, CREA...   \n",
       "1105907  00051000213303  INGREDIENTS: WATER, CREAM, BROCCOLI, CELERY, V...   \n",
       "1105908  00051000224637  INGREDIENTS: CHICKEN STOCK, CONTAINS LESS THAN...   \n",
       "\n",
       "        not_a_significant_source_of  serving_size serving_size_unit  \\\n",
       "fdc_id                                                                \n",
       "1105904                         NaN          15.0                ml   \n",
       "1105905                         NaN         240.0                ml   \n",
       "1105906                         NaN         440.0                 g   \n",
       "1105907                         NaN         440.0                 g   \n",
       "1105908                         NaN         240.0                ml   \n",
       "\n",
       "        household_serving_fulltext  branded_food_category data_source  \\\n",
       "fdc_id                                                                  \n",
       "1105904                        NaN            Oils Edible        GDSN   \n",
       "1105905                        NaN  Herbs/Spices/Extracts        GDSN   \n",
       "1105906                        NaN         Prepared Soups        GDSN   \n",
       "1105907                        NaN         Prepared Soups        GDSN   \n",
       "1105908                        NaN  Herbs/Spices/Extracts        GDSN   \n",
       "\n",
       "        package_weight modified_date available_date  market_country  \\\n",
       "fdc_id                                                                \n",
       "1105904            NaN    2020-10-02     2020-11-13               1   \n",
       "1105905            NaN    2020-09-12     2020-11-13               1   \n",
       "1105906            NaN    2020-09-01     2020-11-13               1   \n",
       "1105907            NaN    2020-09-01     2020-11-13               1   \n",
       "1105908            NaN    2020-10-03     2020-11-13               1   \n",
       "\n",
       "        preparation_state_code  GDSN  LI  NZGDSN  \n",
       "fdc_id                                            \n",
       "1105904                    NaN     1   0       0  \n",
       "1105905                    NaN     1   0       0  \n",
       "1105906                    NaN     1   0       0  \n",
       "1105907                    NaN     1   0       0  \n",
       "1105908                    NaN     1   0       0  "
      ]
     },
     "execution_count": 28,
     "metadata": {},
     "output_type": "execute_result"
    }
   ],
   "source": [
    "branded_food = pd.concat([branded_food, pd.get_dummies(branded_food.data_source)], axis=1) # One hot encodes the data source column\n",
    "branded_food.head()"
   ]
  },
  {
   "cell_type": "markdown",
   "id": "af040d62",
   "metadata": {},
   "source": [
    "## Insignificant sources\n",
    "There is a lot of redundancy in this column, as many repeat the same insignificant sources, as many of them are simply nutritional value-related."
   ]
  },
  {
   "cell_type": "code",
   "execution_count": 29,
   "id": "774cef94",
   "metadata": {},
   "outputs": [
    {
     "data": {
      "text/plain": [
       "0.039828818883897825"
      ]
     },
     "execution_count": 29,
     "metadata": {},
     "output_type": "execute_result"
    }
   ],
   "source": [
    "branded_food.not_a_significant_source_of.notna().mean()"
   ]
  },
  {
   "cell_type": "code",
   "execution_count": 30,
   "id": "cd3bf5b8",
   "metadata": {},
   "outputs": [],
   "source": [
    "# Get process insignificant sources (a lot more processing for a more standard convention)\n",
    "insignificant_processed = (\n",
    "    branded_food.not_a_significant_source_of\n",
    "    .str.lower()\n",
    "    # Cut off repetition (not a significant source)\n",
    "    .str.replace(r'^not ?a? ?significant ?source ?of:? ?', '', regex=True)\n",
    "    # Fix comma spacing\n",
    "    .str.replace('&', 'and', regex=False)\n",
    "    .str.replace(',? ?and,?', ',', regex=True)\n",
    "    .str.replace('\\s*,\\s*', ',', regex=True)\n",
    "    # Remove any periods\n",
    "    .str.replace('.', '', regex=False)\n",
    "    # Fix spelling errors/inconsistency\n",
    "    .str.replace(r'form', 'from')\n",
    "    .str.replace('potass?(ium)?', 'potassium', regex=True)\n",
    "    .str.replace('cholest(erol)?', 'cholesterol', regex=True)\n",
    "    .str.replace(r'sat(urated)?\\s*fat', 'satured fat', regex=True)\n",
    "    .str.replace(r'trans ?fat', 'trans fat', regex=True)\n",
    "    .str.replace(r'dietary ?fiber', 'dietary fiber', regex=True)\n",
    "    .str.replace(r'\\W+or\\W+', ',', regex=True)\n",
    "    .str.replace(r'total ?sugars', 'total sugars', regex=True)\n",
    "    # Fix vitamin entries (sometimes have only the letter, abbreviated forms, missing spaces, etc)\n",
    "    .str.replace(r'vit(amin)?\\s?(\\w)', r'vitamin \\2', regex=True)\n",
    ")#.str.split(',')"
   ]
  },
  {
   "cell_type": "code",
   "execution_count": 31,
   "id": "d04a8627",
   "metadata": {
    "scrolled": false
   },
   "outputs": [
    {
     "data": {
      "text/plain": [
       "iron                 57121\n",
       "calcium              55694\n",
       "cholesterol          50576\n",
       "dietary fiber        49898\n",
       "trans fat            49215\n",
       "satured fat          43592\n",
       "vitamin d            41752\n",
       "potassium            31664\n",
       "vitamin a            19474\n",
       "vitamin c            17712\n",
       "added sugars         13770\n",
       "total sugars         10602\n",
       "calories from fat     8198\n",
       "sugars                6169\n",
       "fiber                 4686\n",
       "other nutrients       1820\n",
       "addedsugars            964\n",
       "protein                944\n",
       "fat cal                830\n",
       "sugar                  505\n",
       "Name: not_a_significant_source_of, dtype: int64"
      ]
     },
     "execution_count": 31,
     "metadata": {},
     "output_type": "execute_result"
    }
   ],
   "source": [
    "# Get more common insignificant sources\n",
    "insignificant_sources_freq = insignificant_processed.str.split(',').explode().value_counts()\n",
    "insignificant_sources_freq.head(20)"
   ]
  },
  {
   "cell_type": "markdown",
   "id": "96bce71c",
   "metadata": {},
   "source": [
    "We see that while there are many with some errors (the c is alone sometimes due to writing conventions, ex. vitamin a, c, d), we have captured most insignificant sources from the foods. We will simply consider any insignificant nutrients that occur more than 1000 times as \"important\" in order to one hot encode these."
   ]
  },
  {
   "cell_type": "code",
   "execution_count": 32,
   "id": "a4759a46",
   "metadata": {},
   "outputs": [
    {
     "data": {
      "text/plain": [
       "Index(['iron', 'calcium', 'cholesterol', 'dietary fiber', 'trans fat',\n",
       "       'satured fat', 'vitamin d', 'potassium', 'vitamin a', 'vitamin c',\n",
       "       'added sugars', 'total sugars', 'calories from fat', 'sugars', 'fiber',\n",
       "       'other nutrients'],\n",
       "      dtype='object')"
      ]
     },
     "execution_count": 32,
     "metadata": {},
     "output_type": "execute_result"
    }
   ],
   "source": [
    "insignificant_sources = insignificant_sources_freq[insignificant_sources_freq > 1000].index\n",
    "insignificant_sources"
   ]
  },
  {
   "cell_type": "code",
   "execution_count": 33,
   "id": "961836e5",
   "metadata": {},
   "outputs": [
    {
     "data": {
      "text/plain": [
       "fdc_id\n",
       "1849687     True\n",
       "1849735     True\n",
       "1849762     True\n",
       "1849763     True\n",
       "1849769    False\n",
       "           ...  \n",
       "2554894     True\n",
       "2554895     True\n",
       "2554903    False\n",
       "2554907    False\n",
       "2554909    False\n",
       "Name: not_a_significant_source_of, Length: 73496, dtype: bool"
      ]
     },
     "execution_count": 33,
     "metadata": {},
     "output_type": "execute_result"
    }
   ],
   "source": [
    "insignificant_processed[insignificant_processed.notna()].str.contains('dietary fiber')"
   ]
  },
  {
   "cell_type": "code",
   "execution_count": 34,
   "id": "aa9947f1",
   "metadata": {},
   "outputs": [
    {
     "data": {
      "text/plain": [
       "50688"
      ]
     },
     "execution_count": 34,
     "metadata": {},
     "output_type": "execute_result"
    }
   ],
   "source": [
    "# Populate dictionary for inserting into dataset\n",
    "new_source_columns = dict()\n",
    "for source in insignificant_sources:\n",
    "    # Create series telling whether the food lists nutrient or not\n",
    "    source_series = insignificant_processed.str.contains(source, regex=False).fillna(False).astype(np.int8)\n",
    "    new_source_columns[source] = source_series\n",
    "    \n",
    "new_source_columns['dietary fiber'].sum()"
   ]
  },
  {
   "cell_type": "code",
   "execution_count": 35,
   "id": "5d1c5371",
   "metadata": {},
   "outputs": [],
   "source": [
    "# Populate the branded_food dataframe\n",
    "for source, series in new_source_columns.items():\n",
    "    # Format source name to be underlined and not spaced\n",
    "    source = 'insig_' + source.replace(' ', '_')\n",
    "    # Populate dataset\n",
    "    branded_food[source] = series"
   ]
  },
  {
   "cell_type": "code",
   "execution_count": 36,
   "id": "94c45e39",
   "metadata": {},
   "outputs": [
    {
     "data": {
      "text/plain": [
       "29524752"
      ]
     },
     "execution_count": 36,
     "metadata": {},
     "output_type": "execute_result"
    }
   ],
   "source": [
    "branded_food.memory_usage(deep=True)['insig_iron'] * len(new_source_columns) # New memory usage"
   ]
  },
  {
   "cell_type": "code",
   "execution_count": 37,
   "id": "97f788a6",
   "metadata": {},
   "outputs": [
    {
     "data": {
      "text/plain": [
       "68469344"
      ]
     },
     "execution_count": 37,
     "metadata": {},
     "output_type": "execute_result"
    }
   ],
   "source": [
    "branded_food.memory_usage(deep=True)['not_a_significant_source_of'] # Old memory usage"
   ]
  },
  {
   "cell_type": "markdown",
   "id": "29dcd38a",
   "metadata": {},
   "source": [
    "From this, we have seen that we have reduced the memory of the insignificant sources by half, and obtained new data that can be looked into further."
   ]
  },
  {
   "cell_type": "code",
   "execution_count": 38,
   "id": "d28ef374",
   "metadata": {},
   "outputs": [
    {
     "data": {
      "text/plain": [
       "brand_owner                            object\n",
       "brand_name                             object\n",
       "subbrand_name                          object\n",
       "gtin_upc                               object\n",
       "ingredients                            object\n",
       "not_a_significant_source_of            object\n",
       "serving_size                          float64\n",
       "serving_size_unit                      object\n",
       "household_serving_fulltext             object\n",
       "branded_food_category                  object\n",
       "data_source                            object\n",
       "package_weight                         object\n",
       "modified_date                  datetime64[ns]\n",
       "available_date                 datetime64[ns]\n",
       "market_country                           int8\n",
       "preparation_state_code                 object\n",
       "GDSN                                    uint8\n",
       "LI                                      uint8\n",
       "NZGDSN                                  uint8\n",
       "insig_iron                               int8\n",
       "insig_calcium                            int8\n",
       "insig_cholesterol                        int8\n",
       "insig_dietary_fiber                      int8\n",
       "insig_trans_fat                          int8\n",
       "insig_satured_fat                        int8\n",
       "insig_vitamin_d                          int8\n",
       "insig_potassium                          int8\n",
       "insig_vitamin_a                          int8\n",
       "insig_vitamin_c                          int8\n",
       "insig_added_sugars                       int8\n",
       "insig_total_sugars                       int8\n",
       "insig_calories_from_fat                  int8\n",
       "insig_sugars                             int8\n",
       "insig_fiber                              int8\n",
       "insig_other_nutrients                    int8\n",
       "dtype: object"
      ]
     },
     "execution_count": 38,
     "metadata": {},
     "output_type": "execute_result"
    }
   ],
   "source": [
    "branded_food.dtypes"
   ]
  },
  {
   "cell_type": "markdown",
   "id": "066c01d2",
   "metadata": {},
   "source": [
    "Many other objects, however, cannot exactly be further condensed."
   ]
  },
  {
   "cell_type": "code",
   "execution_count": 39,
   "id": "8e09c6ab",
   "metadata": {},
   "outputs": [],
   "source": [
    "def fraction_to_number(frac):\n",
    "    \"\"\" Convert fraction to number. \"\"\"\n",
    "    assert '/' in frac\n",
    "    \n",
    "    num, denom = frac.split('/')\n",
    "    \n",
    "    num = '1' if len(num) == 0 else num\n",
    "    denom = '1' if len(denom) == 0 else denom\n",
    "    return float(num) / float(denom)"
   ]
  },
  {
   "cell_type": "code",
   "execution_count": 40,
   "id": "389546e8",
   "metadata": {},
   "outputs": [],
   "source": [
    "def to_decimal(num_str):\n",
    "    \"\"\" Converts num_str to float. \"\"\"\n",
    "    \n",
    "    # Return if null\n",
    "    if pd.isna(num_str): return num_str\n",
    "    \n",
    "    # Attempt to return anything that is simply one number\n",
    "    try:\n",
    "        if '/' not in num_str: return float(num_str)\n",
    "    except:\n",
    "        # There are some entries that have the format \"\\d \\d\" that should be divided\n",
    "        #print(num_str)\n",
    "        pass\n",
    "    \n",
    "    num_str = num_str.strip()\n",
    "    # Special case for if there is a number followed by a fraction \n",
    "    # (can also be two numbers, which is assumed to be missing a fraction)\n",
    "    if ' ' in num_str:\n",
    "        groupings = num_str.split(' ')\n",
    "        #print(num_str)\n",
    "        if '/' in num_str:\n",
    "            total = float(groupings[0]) + fraction_to_number(groupings[1])\n",
    "        else:\n",
    "            total = float(groupings[0]) / float(groupings[1])\n",
    "    else:\n",
    "        total = fraction_to_number(num_str)\n",
    "    \n",
    "    return total"
   ]
  },
  {
   "cell_type": "code",
   "execution_count": 41,
   "id": "be0cd310",
   "metadata": {},
   "outputs": [
    {
     "data": {
      "text/html": [
       "<div>\n",
       "<style scoped>\n",
       "    .dataframe tbody tr th:only-of-type {\n",
       "        vertical-align: middle;\n",
       "    }\n",
       "\n",
       "    .dataframe tbody tr th {\n",
       "        vertical-align: top;\n",
       "    }\n",
       "\n",
       "    .dataframe thead th {\n",
       "        text-align: right;\n",
       "    }\n",
       "</style>\n",
       "<table border=\"1\" class=\"dataframe\">\n",
       "  <thead>\n",
       "    <tr style=\"text-align: right;\">\n",
       "      <th></th>\n",
       "      <th>household_serving_amount</th>\n",
       "      <th>household_serving_unit</th>\n",
       "      <th>household_serving_converted</th>\n",
       "    </tr>\n",
       "    <tr>\n",
       "      <th>fdc_id</th>\n",
       "      <th></th>\n",
       "      <th></th>\n",
       "      <th></th>\n",
       "    </tr>\n",
       "  </thead>\n",
       "  <tbody>\n",
       "    <tr>\n",
       "      <th>1105904</th>\n",
       "      <td>NaN</td>\n",
       "      <td>NaN</td>\n",
       "      <td>NaN</td>\n",
       "    </tr>\n",
       "    <tr>\n",
       "      <th>1105905</th>\n",
       "      <td>NaN</td>\n",
       "      <td>NaN</td>\n",
       "      <td>NaN</td>\n",
       "    </tr>\n",
       "    <tr>\n",
       "      <th>1105906</th>\n",
       "      <td>NaN</td>\n",
       "      <td>NaN</td>\n",
       "      <td>NaN</td>\n",
       "    </tr>\n",
       "    <tr>\n",
       "      <th>1105907</th>\n",
       "      <td>NaN</td>\n",
       "      <td>NaN</td>\n",
       "      <td>NaN</td>\n",
       "    </tr>\n",
       "    <tr>\n",
       "      <th>1105908</th>\n",
       "      <td>NaN</td>\n",
       "      <td>NaN</td>\n",
       "      <td>NaN</td>\n",
       "    </tr>\n",
       "    <tr>\n",
       "      <th>...</th>\n",
       "      <td>...</td>\n",
       "      <td>...</td>\n",
       "      <td>...</td>\n",
       "    </tr>\n",
       "    <tr>\n",
       "      <th>2554910</th>\n",
       "      <td>NaN</td>\n",
       "      <td>NaN</td>\n",
       "      <td>NaN</td>\n",
       "    </tr>\n",
       "    <tr>\n",
       "      <th>2554911</th>\n",
       "      <td>8</td>\n",
       "      <td>fl oz</td>\n",
       "      <td>8.0</td>\n",
       "    </tr>\n",
       "    <tr>\n",
       "      <th>2554912</th>\n",
       "      <td>1</td>\n",
       "      <td>cup</td>\n",
       "      <td>1.0</td>\n",
       "    </tr>\n",
       "    <tr>\n",
       "      <th>2554913</th>\n",
       "      <td>1</td>\n",
       "      <td>pc</td>\n",
       "      <td>1.0</td>\n",
       "    </tr>\n",
       "    <tr>\n",
       "      <th>2554914</th>\n",
       "      <td>2</td>\n",
       "      <td>tbsp</td>\n",
       "      <td>2.0</td>\n",
       "    </tr>\n",
       "  </tbody>\n",
       "</table>\n",
       "<p>1845297 rows × 3 columns</p>\n",
       "</div>"
      ],
      "text/plain": [
       "        household_serving_amount household_serving_unit  \\\n",
       "fdc_id                                                    \n",
       "1105904                      NaN                    NaN   \n",
       "1105905                      NaN                    NaN   \n",
       "1105906                      NaN                    NaN   \n",
       "1105907                      NaN                    NaN   \n",
       "1105908                      NaN                    NaN   \n",
       "...                          ...                    ...   \n",
       "2554910                      NaN                    NaN   \n",
       "2554911                        8                  fl oz   \n",
       "2554912                        1                    cup   \n",
       "2554913                        1                     pc   \n",
       "2554914                        2                   tbsp   \n",
       "\n",
       "         household_serving_converted  \n",
       "fdc_id                                \n",
       "1105904                          NaN  \n",
       "1105905                          NaN  \n",
       "1105906                          NaN  \n",
       "1105907                          NaN  \n",
       "1105908                          NaN  \n",
       "...                              ...  \n",
       "2554910                          NaN  \n",
       "2554911                          8.0  \n",
       "2554912                          1.0  \n",
       "2554913                          1.0  \n",
       "2554914                          2.0  \n",
       "\n",
       "[1845297 rows x 3 columns]"
      ]
     },
     "execution_count": 41,
     "metadata": {},
     "output_type": "execute_result"
    }
   ],
   "source": [
    "household_servings = branded_food.household_serving_fulltext.str.lower().str.extract(r'(\\d* ?\\d+\\.?/?\\d*?) ([\\w*\\s*]+)')\n",
    "household_servings.columns = ('household_serving_amount', 'household_serving_unit')\n",
    "household_servings['household_serving_converted'] = household_servings['household_serving_amount'].apply(to_decimal)\n",
    "household_servings"
   ]
  },
  {
   "cell_type": "code",
   "execution_count": 42,
   "id": "12ad62d9",
   "metadata": {
    "scrolled": false
   },
   "outputs": [
    {
     "data": {
      "text/plain": [
       "cup        161296\n",
       "onz        102813\n",
       "tbsp        84379\n",
       "oza         39133\n",
       "pieces      29061\n",
       "tsp         24550\n",
       "bar         20507\n",
       "grm         15075\n",
       "package     13446\n",
       "slice       12182\n",
       "Name: household_serving_unit, dtype: int64"
      ]
     },
     "execution_count": 42,
     "metadata": {},
     "output_type": "execute_result"
    }
   ],
   "source": [
    "household_servings.household_serving_unit.value_counts().head(10)"
   ]
  },
  {
   "cell_type": "markdown",
   "id": "780b73b3",
   "metadata": {},
   "source": [
    "One thing to note is that many of these are very unique and applicable to their respective food (eg. crackers), which is simply a representation of a piece. We have the choice of correcting some of these to simply a \"piece\" or \"unit\", but it is hard to do so with there being many different options, so we will simply leave the unit alone. In addition, we may be able to identify more specific foods with the serving unit."
   ]
  },
  {
   "cell_type": "code",
   "execution_count": 43,
   "id": "41fdd816",
   "metadata": {},
   "outputs": [
    {
     "data": {
      "text/plain": [
       "Index                       14762376\n",
       "household_serving_amount    14762376\n",
       "household_serving_unit      81177930\n",
       "dtype: int64"
      ]
     },
     "execution_count": 43,
     "metadata": {},
     "output_type": "execute_result"
    }
   ],
   "source": [
    "branded_food[['household_serving_amount', 'household_serving_unit']] = household_servings[['household_serving_converted', 'household_serving_unit']]\n",
    "branded_food[['household_serving_amount', 'household_serving_unit']].memory_usage(deep=True)"
   ]
  },
  {
   "cell_type": "code",
   "execution_count": 44,
   "id": "968af149",
   "metadata": {},
   "outputs": [
    {
     "data": {
      "text/plain": [
       "98898423"
      ]
     },
     "execution_count": 44,
     "metadata": {},
     "output_type": "execute_result"
    }
   ],
   "source": [
    "branded_food.household_serving_fulltext.memory_usage(deep=True)"
   ]
  },
  {
   "cell_type": "markdown",
   "id": "217c6f8d",
   "metadata": {},
   "source": [
    "While we have almost all columns processed, we can finally drop all columns we have converted, including:\n",
    " - not_a_significant_source_of\n",
    " - household_serving_fulltext\n",
    " - data_source\n",
    " \n",
    "We are also now able to analyze these previously unanalyzable data sources as well."
   ]
  },
  {
   "cell_type": "code",
   "execution_count": 45,
   "id": "2db30e3f",
   "metadata": {},
   "outputs": [
    {
     "data": {
      "text/plain": [
       "1909829625"
      ]
     },
     "execution_count": 45,
     "metadata": {},
     "output_type": "execute_result"
    }
   ],
   "source": [
    "branded_food.memory_usage(deep=True).sum() # Data is almost reduced by about .75GB"
   ]
  },
  {
   "cell_type": "code",
   "execution_count": 46,
   "id": "eba072ef",
   "metadata": {},
   "outputs": [
    {
     "data": {
      "text/plain": [
       "Popcorn, Peanuts, Seeds & Related Snacks    87691\n",
       "Candy                                       83993\n",
       "Cheese                                      76229\n",
       "Ice Cream & Frozen Yogurt                   58400\n",
       "Cookies & Biscuits                          50615\n",
       "Name: branded_food_category, dtype: int64"
      ]
     },
     "execution_count": 46,
     "metadata": {},
     "output_type": "execute_result"
    }
   ],
   "source": [
    "categories = branded_food.branded_food_category.value_counts()\n",
    "categories.head()"
   ]
  },
  {
   "cell_type": "markdown",
   "id": "5696f99a",
   "metadata": {},
   "source": [
    "We will consider any categories with less than 100 categories as being null/insignificant, as the more rare categories are too specific at times."
   ]
  },
  {
   "cell_type": "code",
   "execution_count": 47,
   "id": "b7652665",
   "metadata": {},
   "outputs": [
    {
     "data": {
      "text/plain": [
       "Popcorn, Peanuts, Seeds & Related Snacks                    87691\n",
       "Candy                                                       83993\n",
       "Cheese                                                      76229\n",
       "Ice Cream & Frozen Yogurt                                   58400\n",
       "Cookies & Biscuits                                          50615\n",
       "                                                            ...  \n",
       "Butter/Butter Substitutes                                     118\n",
       "Chicken - Prepared/Processed                                  114\n",
       "Meat/Poultry/Other Animals Sausages – Prepared/Processed      112\n",
       "Baking                                                        106\n",
       "Frozen Fish/Seafood                                           104\n",
       "Name: branded_food_category, Length: 183, dtype: int64"
      ]
     },
     "execution_count": 47,
     "metadata": {},
     "output_type": "execute_result"
    }
   ],
   "source": [
    "categories[categories > 100]"
   ]
  },
  {
   "cell_type": "code",
   "execution_count": 48,
   "id": "e859c82e",
   "metadata": {},
   "outputs": [
    {
     "data": {
      "text/html": [
       "<div>\n",
       "<style scoped>\n",
       "    .dataframe tbody tr th:only-of-type {\n",
       "        vertical-align: middle;\n",
       "    }\n",
       "\n",
       "    .dataframe tbody tr th {\n",
       "        vertical-align: top;\n",
       "    }\n",
       "\n",
       "    .dataframe thead th {\n",
       "        text-align: right;\n",
       "    }\n",
       "</style>\n",
       "<table border=\"1\" class=\"dataframe\">\n",
       "  <thead>\n",
       "    <tr style=\"text-align: right;\">\n",
       "      <th></th>\n",
       "      <th>category</th>\n",
       "      <th>category_id</th>\n",
       "    </tr>\n",
       "  </thead>\n",
       "  <tbody>\n",
       "    <tr>\n",
       "      <th>0</th>\n",
       "      <td>Popcorn, Peanuts, Seeds &amp; Related Snacks</td>\n",
       "      <td>0</td>\n",
       "    </tr>\n",
       "    <tr>\n",
       "      <th>1</th>\n",
       "      <td>Candy</td>\n",
       "      <td>1</td>\n",
       "    </tr>\n",
       "    <tr>\n",
       "      <th>2</th>\n",
       "      <td>Cheese</td>\n",
       "      <td>2</td>\n",
       "    </tr>\n",
       "    <tr>\n",
       "      <th>3</th>\n",
       "      <td>Ice Cream &amp; Frozen Yogurt</td>\n",
       "      <td>3</td>\n",
       "    </tr>\n",
       "    <tr>\n",
       "      <th>4</th>\n",
       "      <td>Cookies &amp; Biscuits</td>\n",
       "      <td>4</td>\n",
       "    </tr>\n",
       "    <tr>\n",
       "      <th>...</th>\n",
       "      <td>...</td>\n",
       "      <td>...</td>\n",
       "    </tr>\n",
       "    <tr>\n",
       "      <th>178</th>\n",
       "      <td>Butter/Butter Substitutes</td>\n",
       "      <td>178</td>\n",
       "    </tr>\n",
       "    <tr>\n",
       "      <th>179</th>\n",
       "      <td>Chicken - Prepared/Processed</td>\n",
       "      <td>179</td>\n",
       "    </tr>\n",
       "    <tr>\n",
       "      <th>180</th>\n",
       "      <td>Meat/Poultry/Other Animals Sausages – Prepared...</td>\n",
       "      <td>180</td>\n",
       "    </tr>\n",
       "    <tr>\n",
       "      <th>181</th>\n",
       "      <td>Baking</td>\n",
       "      <td>181</td>\n",
       "    </tr>\n",
       "    <tr>\n",
       "      <th>182</th>\n",
       "      <td>Frozen Fish/Seafood</td>\n",
       "      <td>182</td>\n",
       "    </tr>\n",
       "  </tbody>\n",
       "</table>\n",
       "<p>183 rows × 2 columns</p>\n",
       "</div>"
      ],
      "text/plain": [
       "                                              category  category_id\n",
       "0             Popcorn, Peanuts, Seeds & Related Snacks            0\n",
       "1                                                Candy            1\n",
       "2                                               Cheese            2\n",
       "3                            Ice Cream & Frozen Yogurt            3\n",
       "4                                   Cookies & Biscuits            4\n",
       "..                                                 ...          ...\n",
       "178                          Butter/Butter Substitutes          178\n",
       "179                       Chicken - Prepared/Processed          179\n",
       "180  Meat/Poultry/Other Animals Sausages – Prepared...          180\n",
       "181                                             Baking          181\n",
       "182                                Frozen Fish/Seafood          182\n",
       "\n",
       "[183 rows x 2 columns]"
      ]
     },
     "execution_count": 48,
     "metadata": {},
     "output_type": "execute_result"
    }
   ],
   "source": [
    "cat_df = pd.DataFrame(categories[categories>100].index)\n",
    "cat_df.columns = ['category']\n",
    "cat_df['category_id'] = cat_df.index\n",
    "cat_df"
   ]
  },
  {
   "cell_type": "code",
   "execution_count": 49,
   "id": "e6e74a70",
   "metadata": {},
   "outputs": [
    {
     "data": {
      "text/html": [
       "<div>\n",
       "<style scoped>\n",
       "    .dataframe tbody tr th:only-of-type {\n",
       "        vertical-align: middle;\n",
       "    }\n",
       "\n",
       "    .dataframe tbody tr th {\n",
       "        vertical-align: top;\n",
       "    }\n",
       "\n",
       "    .dataframe thead th {\n",
       "        text-align: right;\n",
       "    }\n",
       "</style>\n",
       "<table border=\"1\" class=\"dataframe\">\n",
       "  <thead>\n",
       "    <tr style=\"text-align: right;\">\n",
       "      <th></th>\n",
       "      <th>brand_owner</th>\n",
       "      <th>brand_name</th>\n",
       "      <th>subbrand_name</th>\n",
       "      <th>gtin_upc</th>\n",
       "      <th>ingredients</th>\n",
       "      <th>not_a_significant_source_of</th>\n",
       "      <th>serving_size</th>\n",
       "      <th>serving_size_unit</th>\n",
       "      <th>household_serving_fulltext</th>\n",
       "      <th>data_source</th>\n",
       "      <th>...</th>\n",
       "      <th>insig_vitamin_c</th>\n",
       "      <th>insig_added_sugars</th>\n",
       "      <th>insig_total_sugars</th>\n",
       "      <th>insig_calories_from_fat</th>\n",
       "      <th>insig_sugars</th>\n",
       "      <th>insig_fiber</th>\n",
       "      <th>insig_other_nutrients</th>\n",
       "      <th>household_serving_amount</th>\n",
       "      <th>household_serving_unit</th>\n",
       "      <th>category_id</th>\n",
       "    </tr>\n",
       "  </thead>\n",
       "  <tbody>\n",
       "    <tr>\n",
       "      <th>0</th>\n",
       "      <td>Richardson Oilseed Products (US) Limited</td>\n",
       "      <td>NaN</td>\n",
       "      <td>NaN</td>\n",
       "      <td>00027000612323</td>\n",
       "      <td>Vegetable Oil</td>\n",
       "      <td>NaN</td>\n",
       "      <td>15.00</td>\n",
       "      <td>ml</td>\n",
       "      <td>NaN</td>\n",
       "      <td>GDSN</td>\n",
       "      <td>...</td>\n",
       "      <td>0</td>\n",
       "      <td>0</td>\n",
       "      <td>0</td>\n",
       "      <td>0</td>\n",
       "      <td>0</td>\n",
       "      <td>0</td>\n",
       "      <td>0</td>\n",
       "      <td>NaN</td>\n",
       "      <td>NaN</td>\n",
       "      <td>164</td>\n",
       "    </tr>\n",
       "    <tr>\n",
       "      <th>1</th>\n",
       "      <td>Conagra Brands</td>\n",
       "      <td>NaN</td>\n",
       "      <td>NaN</td>\n",
       "      <td>00027000690260</td>\n",
       "      <td>Canola Oil</td>\n",
       "      <td>NaN</td>\n",
       "      <td>15.00</td>\n",
       "      <td>ml</td>\n",
       "      <td>1 tbsp (15ml)</td>\n",
       "      <td>GDSN</td>\n",
       "      <td>...</td>\n",
       "      <td>0</td>\n",
       "      <td>0</td>\n",
       "      <td>0</td>\n",
       "      <td>0</td>\n",
       "      <td>0</td>\n",
       "      <td>0</td>\n",
       "      <td>0</td>\n",
       "      <td>1.00</td>\n",
       "      <td>tbsp</td>\n",
       "      <td>164</td>\n",
       "    </tr>\n",
       "    <tr>\n",
       "      <th>2</th>\n",
       "      <td>Conagra Brands</td>\n",
       "      <td>NaN</td>\n",
       "      <td>NaN</td>\n",
       "      <td>00064144555550</td>\n",
       "      <td>Canola Oil*, Palm Oil*, Coconut Oil*, Lecithin...</td>\n",
       "      <td>NaN</td>\n",
       "      <td>0.25</td>\n",
       "      <td>g</td>\n",
       "      <td>1/4 Second Spray (0.25g)</td>\n",
       "      <td>GDSN</td>\n",
       "      <td>...</td>\n",
       "      <td>0</td>\n",
       "      <td>0</td>\n",
       "      <td>0</td>\n",
       "      <td>0</td>\n",
       "      <td>0</td>\n",
       "      <td>0</td>\n",
       "      <td>0</td>\n",
       "      <td>0.25</td>\n",
       "      <td>second spray</td>\n",
       "      <td>164</td>\n",
       "    </tr>\n",
       "    <tr>\n",
       "      <th>3</th>\n",
       "      <td>Conagra Brands</td>\n",
       "      <td>NaN</td>\n",
       "      <td>NaN</td>\n",
       "      <td>00064144033164</td>\n",
       "      <td>Canola Oil*, Coconut Oil*, Palm Oil*, Soy Leci...</td>\n",
       "      <td>NaN</td>\n",
       "      <td>0.25</td>\n",
       "      <td>g</td>\n",
       "      <td>1/4 second spray (0.25g)</td>\n",
       "      <td>GDSN</td>\n",
       "      <td>...</td>\n",
       "      <td>0</td>\n",
       "      <td>0</td>\n",
       "      <td>0</td>\n",
       "      <td>0</td>\n",
       "      <td>0</td>\n",
       "      <td>0</td>\n",
       "      <td>0</td>\n",
       "      <td>0.25</td>\n",
       "      <td>second spray</td>\n",
       "      <td>164</td>\n",
       "    </tr>\n",
       "    <tr>\n",
       "      <th>4</th>\n",
       "      <td>Conagra Brands</td>\n",
       "      <td>NaN</td>\n",
       "      <td>NaN</td>\n",
       "      <td>00064144048502</td>\n",
       "      <td>Extra Virgin Olive Oil*, Lecithin from Soybean...</td>\n",
       "      <td>NaN</td>\n",
       "      <td>0.25</td>\n",
       "      <td>g</td>\n",
       "      <td>1/4 Second Spray (.25g)</td>\n",
       "      <td>GDSN</td>\n",
       "      <td>...</td>\n",
       "      <td>0</td>\n",
       "      <td>0</td>\n",
       "      <td>0</td>\n",
       "      <td>0</td>\n",
       "      <td>0</td>\n",
       "      <td>0</td>\n",
       "      <td>0</td>\n",
       "      <td>0.25</td>\n",
       "      <td>second spray</td>\n",
       "      <td>164</td>\n",
       "    </tr>\n",
       "  </tbody>\n",
       "</table>\n",
       "<p>5 rows × 37 columns</p>\n",
       "</div>"
      ],
      "text/plain": [
       "                                brand_owner brand_name subbrand_name  \\\n",
       "0  Richardson Oilseed Products (US) Limited        NaN           NaN   \n",
       "1                            Conagra Brands        NaN           NaN   \n",
       "2                            Conagra Brands        NaN           NaN   \n",
       "3                            Conagra Brands        NaN           NaN   \n",
       "4                            Conagra Brands        NaN           NaN   \n",
       "\n",
       "         gtin_upc                                        ingredients  \\\n",
       "0  00027000612323                                      Vegetable Oil   \n",
       "1  00027000690260                                         Canola Oil   \n",
       "2  00064144555550  Canola Oil*, Palm Oil*, Coconut Oil*, Lecithin...   \n",
       "3  00064144033164  Canola Oil*, Coconut Oil*, Palm Oil*, Soy Leci...   \n",
       "4  00064144048502  Extra Virgin Olive Oil*, Lecithin from Soybean...   \n",
       "\n",
       "  not_a_significant_source_of  serving_size serving_size_unit  \\\n",
       "0                         NaN         15.00                ml   \n",
       "1                         NaN         15.00                ml   \n",
       "2                         NaN          0.25                 g   \n",
       "3                         NaN          0.25                 g   \n",
       "4                         NaN          0.25                 g   \n",
       "\n",
       "  household_serving_fulltext data_source  ... insig_vitamin_c  \\\n",
       "0                        NaN        GDSN  ...               0   \n",
       "1              1 tbsp (15ml)        GDSN  ...               0   \n",
       "2   1/4 Second Spray (0.25g)        GDSN  ...               0   \n",
       "3   1/4 second spray (0.25g)        GDSN  ...               0   \n",
       "4    1/4 Second Spray (.25g)        GDSN  ...               0   \n",
       "\n",
       "  insig_added_sugars insig_total_sugars  insig_calories_from_fat insig_sugars  \\\n",
       "0                  0                  0                        0            0   \n",
       "1                  0                  0                        0            0   \n",
       "2                  0                  0                        0            0   \n",
       "3                  0                  0                        0            0   \n",
       "4                  0                  0                        0            0   \n",
       "\n",
       "   insig_fiber  insig_other_nutrients  household_serving_amount  \\\n",
       "0            0                      0                       NaN   \n",
       "1            0                      0                      1.00   \n",
       "2            0                      0                      0.25   \n",
       "3            0                      0                      0.25   \n",
       "4            0                      0                      0.25   \n",
       "\n",
       "   household_serving_unit  category_id  \n",
       "0                     NaN          164  \n",
       "1                   tbsp           164  \n",
       "2           second spray           164  \n",
       "3           second spray           164  \n",
       "4           second spray           164  \n",
       "\n",
       "[5 rows x 37 columns]"
      ]
     },
     "execution_count": 49,
     "metadata": {},
     "output_type": "execute_result"
    }
   ],
   "source": [
    "branded_food = branded_food.merge(\n",
    "    cat_df, \n",
    "    left_on='branded_food_category', \n",
    "    right_on='category').drop(columns=['branded_food_category', 'category'])\n",
    "branded_food.head()"
   ]
  },
  {
   "cell_type": "code",
   "execution_count": 50,
   "id": "f9cc774b",
   "metadata": {},
   "outputs": [
    {
     "data": {
      "text/plain": [
       "1.766589131"
      ]
     },
     "execution_count": 50,
     "metadata": {},
     "output_type": "execute_result"
    }
   ],
   "source": [
    "branded_food.memory_usage(deep=True).sum() / 1e9"
   ]
  },
  {
   "cell_type": "markdown",
   "id": "7ab1a751",
   "metadata": {},
   "source": [
    "## Brand Owners and Names normalization\n",
    "\n",
    "We have many different brand_owners, so we can choose to offload this until we need it."
   ]
  },
  {
   "cell_type": "code",
   "execution_count": 111,
   "id": "2f7c1c18",
   "metadata": {},
   "outputs": [],
   "source": [
    "def create_normalized_df(df, col):\n",
    "    # Creates a new dataframe to be joined \n",
    "    # to the original dataframe(normalized)\n",
    "    new_df = pd.DataFrame(\n",
    "        data={col:(\n",
    "            branded_food[col]\n",
    "              .dropna().unique()\n",
    "        )}\n",
    "    )\n",
    "    new_df[col + '_id'] = new_df.index\n",
    "    return new_df\n",
    "    \n",
    "    \n",
    "def write_df_to_csv(df, path):\n",
    "    if os.path.exists(path):\n",
    "        # Delete file\n",
    "        os.remove(path)\n",
    "    with open(path, 'w', encoding='utf-8') as to_write:\n",
    "        to_write.write(df.to_csv())"
   ]
  },
  {
   "cell_type": "code",
   "execution_count": 112,
   "id": "c70e0a00",
   "metadata": {},
   "outputs": [
    {
     "data": {
      "text/html": [
       "<div>\n",
       "<style scoped>\n",
       "    .dataframe tbody tr th:only-of-type {\n",
       "        vertical-align: middle;\n",
       "    }\n",
       "\n",
       "    .dataframe tbody tr th {\n",
       "        vertical-align: top;\n",
       "    }\n",
       "\n",
       "    .dataframe thead th {\n",
       "        text-align: right;\n",
       "    }\n",
       "</style>\n",
       "<table border=\"1\" class=\"dataframe\">\n",
       "  <thead>\n",
       "    <tr style=\"text-align: right;\">\n",
       "      <th></th>\n",
       "      <th>brand_owner</th>\n",
       "      <th>brand_owner_id</th>\n",
       "    </tr>\n",
       "  </thead>\n",
       "  <tbody>\n",
       "    <tr>\n",
       "      <th>0</th>\n",
       "      <td>Richardson Oilseed Products (US) Limited</td>\n",
       "      <td>0</td>\n",
       "    </tr>\n",
       "    <tr>\n",
       "      <th>1</th>\n",
       "      <td>Conagra Brands</td>\n",
       "      <td>1</td>\n",
       "    </tr>\n",
       "    <tr>\n",
       "      <th>2</th>\n",
       "      <td>Conagra Brands Inc</td>\n",
       "      <td>2</td>\n",
       "    </tr>\n",
       "    <tr>\n",
       "      <th>3</th>\n",
       "      <td>Incobrasa Industries, Ltd.</td>\n",
       "      <td>3</td>\n",
       "    </tr>\n",
       "    <tr>\n",
       "      <th>4</th>\n",
       "      <td>CAMPBELL SOUP COMPANY</td>\n",
       "      <td>4</td>\n",
       "    </tr>\n",
       "    <tr>\n",
       "      <th>...</th>\n",
       "      <td>...</td>\n",
       "      <td>...</td>\n",
       "    </tr>\n",
       "    <tr>\n",
       "      <th>36268</th>\n",
       "      <td>Cape May Foods</td>\n",
       "      <td>36268</td>\n",
       "    </tr>\n",
       "    <tr>\n",
       "      <th>36269</th>\n",
       "      <td>Pacific Coral Seafood</td>\n",
       "      <td>36269</td>\n",
       "    </tr>\n",
       "    <tr>\n",
       "      <th>36270</th>\n",
       "      <td>Tampa Bay Fisheries Inc</td>\n",
       "      <td>36270</td>\n",
       "    </tr>\n",
       "    <tr>\n",
       "      <th>36271</th>\n",
       "      <td>SEALORD GROUP LIMITED</td>\n",
       "      <td>36271</td>\n",
       "    </tr>\n",
       "    <tr>\n",
       "      <th>36272</th>\n",
       "      <td>LEADER PRODUCTS LIMITED</td>\n",
       "      <td>36272</td>\n",
       "    </tr>\n",
       "  </tbody>\n",
       "</table>\n",
       "<p>36273 rows × 2 columns</p>\n",
       "</div>"
      ],
      "text/plain": [
       "                                    brand_owner  brand_owner_id\n",
       "0      Richardson Oilseed Products (US) Limited               0\n",
       "1                                Conagra Brands               1\n",
       "2                            Conagra Brands Inc               2\n",
       "3                    Incobrasa Industries, Ltd.               3\n",
       "4                         CAMPBELL SOUP COMPANY               4\n",
       "...                                         ...             ...\n",
       "36268                            Cape May Foods           36268\n",
       "36269                     Pacific Coral Seafood           36269\n",
       "36270                   Tampa Bay Fisheries Inc           36270\n",
       "36271                     SEALORD GROUP LIMITED           36271\n",
       "36272                   LEADER PRODUCTS LIMITED           36272\n",
       "\n",
       "[36273 rows x 2 columns]"
      ]
     },
     "execution_count": 112,
     "metadata": {},
     "output_type": "execute_result"
    }
   ],
   "source": [
    "brand_owners = create_normalized_df(branded_food, 'brand_owner')\n",
    "brand_owners"
   ]
  },
  {
   "cell_type": "code",
   "execution_count": 113,
   "id": "ae03023e",
   "metadata": {},
   "outputs": [
    {
     "data": {
      "text/html": [
       "<div>\n",
       "<style scoped>\n",
       "    .dataframe tbody tr th:only-of-type {\n",
       "        vertical-align: middle;\n",
       "    }\n",
       "\n",
       "    .dataframe tbody tr th {\n",
       "        vertical-align: top;\n",
       "    }\n",
       "\n",
       "    .dataframe thead th {\n",
       "        text-align: right;\n",
       "    }\n",
       "</style>\n",
       "<table border=\"1\" class=\"dataframe\">\n",
       "  <thead>\n",
       "    <tr style=\"text-align: right;\">\n",
       "      <th></th>\n",
       "      <th>brand_name</th>\n",
       "      <th>brand_name_id</th>\n",
       "    </tr>\n",
       "  </thead>\n",
       "  <tbody>\n",
       "    <tr>\n",
       "      <th>0</th>\n",
       "      <td>Wesson</td>\n",
       "      <td>0</td>\n",
       "    </tr>\n",
       "    <tr>\n",
       "      <th>1</th>\n",
       "      <td>PAM</td>\n",
       "      <td>1</td>\n",
       "    </tr>\n",
       "    <tr>\n",
       "      <th>2</th>\n",
       "      <td>Orville Redenbacher's</td>\n",
       "      <td>2</td>\n",
       "    </tr>\n",
       "    <tr>\n",
       "      <th>3</th>\n",
       "      <td>Long Life</td>\n",
       "      <td>3</td>\n",
       "    </tr>\n",
       "    <tr>\n",
       "      <th>4</th>\n",
       "      <td>SWANSON</td>\n",
       "      <td>4</td>\n",
       "    </tr>\n",
       "    <tr>\n",
       "      <th>...</th>\n",
       "      <td>...</td>\n",
       "      <td>...</td>\n",
       "    </tr>\n",
       "    <tr>\n",
       "      <th>34226</th>\n",
       "      <td>Figo</td>\n",
       "      <td>34226</td>\n",
       "    </tr>\n",
       "    <tr>\n",
       "      <th>34227</th>\n",
       "      <td>Angel Gold</td>\n",
       "      <td>34227</td>\n",
       "    </tr>\n",
       "    <tr>\n",
       "      <th>34228</th>\n",
       "      <td>Kho Muc</td>\n",
       "      <td>34228</td>\n",
       "    </tr>\n",
       "    <tr>\n",
       "      <th>34229</th>\n",
       "      <td>Deep Cove</td>\n",
       "      <td>34229</td>\n",
       "    </tr>\n",
       "    <tr>\n",
       "      <th>34230</th>\n",
       "      <td>Sealord</td>\n",
       "      <td>34230</td>\n",
       "    </tr>\n",
       "  </tbody>\n",
       "</table>\n",
       "<p>34231 rows × 2 columns</p>\n",
       "</div>"
      ],
      "text/plain": [
       "                  brand_name  brand_name_id\n",
       "0                     Wesson              0\n",
       "1                        PAM              1\n",
       "2      Orville Redenbacher's              2\n",
       "3                  Long Life              3\n",
       "4                    SWANSON              4\n",
       "...                      ...            ...\n",
       "34226                   Figo          34226\n",
       "34227             Angel Gold          34227\n",
       "34228                Kho Muc          34228\n",
       "34229              Deep Cove          34229\n",
       "34230                Sealord          34230\n",
       "\n",
       "[34231 rows x 2 columns]"
      ]
     },
     "execution_count": 113,
     "metadata": {},
     "output_type": "execute_result"
    }
   ],
   "source": [
    "brand_names = create_normalized_df(branded_food, 'brand_name')\n",
    "brand_names"
   ]
  },
  {
   "cell_type": "code",
   "execution_count": 114,
   "id": "b6aefbd4",
   "metadata": {},
   "outputs": [],
   "source": [
    "# Save brand name and owner for later\n",
    "clean_dir = 'cleaned'\n",
    "if not os.path.exists(clean_dir):\n",
    "    os.mkdir(clean_dir)\n",
    "\n",
    "write_df_to_csv(brand_owners, os.path.join('cleaned', 'brand_owners.csv'))\n",
    "write_df_to_csv(brand_names, os.path.join('cleaned', 'brand_names.csv'))\n",
    "    \n",
    "del brand_owners\n",
    "del brand_names"
   ]
  },
  {
   "cell_type": "code",
   "execution_count": 78,
   "id": "a0ed076b",
   "metadata": {},
   "outputs": [],
   "source": [
    "# Create ingredients list for every item\n",
    "ingredients = (branded_food.ingredients.str.lower()\n",
    "    .str.replace('[\\.\\*]', '', regex=True)\n",
    "    .str.replace(' ?\\([^\\(\\)]*\\) ?', '', regex=True) #Removes parenthesis, removes more specific items\n",
    "    .str.replace('ingredients: ?', '', regex=True)\n",
    "    .str.replace('contains ?', '', regex=True) \n",
    "    .str.replace(' ?(less)? ?(than)?<? ?\\d*.?\\d*% ?(of)?:?', '', regex=True) # May be used to remove <2% ingredients\n",
    "    .str.split(' ?, ?', regex=True)\n",
    ")"
   ]
  },
  {
   "cell_type": "code",
   "execution_count": 115,
   "id": "bc685472",
   "metadata": {},
   "outputs": [
    {
     "data": {
      "text/html": [
       "<div>\n",
       "<style scoped>\n",
       "    .dataframe tbody tr th:only-of-type {\n",
       "        vertical-align: middle;\n",
       "    }\n",
       "\n",
       "    .dataframe tbody tr th {\n",
       "        vertical-align: top;\n",
       "    }\n",
       "\n",
       "    .dataframe thead th {\n",
       "        text-align: right;\n",
       "    }\n",
       "</style>\n",
       "<table border=\"1\" class=\"dataframe\">\n",
       "  <thead>\n",
       "    <tr style=\"text-align: right;\">\n",
       "      <th></th>\n",
       "      <th>ingredient</th>\n",
       "    </tr>\n",
       "  </thead>\n",
       "  <tbody>\n",
       "    <tr>\n",
       "      <th>0</th>\n",
       "      <td>vegetable oil</td>\n",
       "    </tr>\n",
       "    <tr>\n",
       "      <th>1</th>\n",
       "      <td>canola oil</td>\n",
       "    </tr>\n",
       "    <tr>\n",
       "      <th>2</th>\n",
       "      <td>palm oil</td>\n",
       "    </tr>\n",
       "    <tr>\n",
       "      <th>3</th>\n",
       "      <td>coconut oil</td>\n",
       "    </tr>\n",
       "    <tr>\n",
       "      <th>4</th>\n",
       "      <td>lecithin from soybeans</td>\n",
       "    </tr>\n",
       "    <tr>\n",
       "      <th>...</th>\n",
       "      <td>...</td>\n",
       "    </tr>\n",
       "    <tr>\n",
       "      <th>230659</th>\n",
       "      <td>herb)</td>\n",
       "    </tr>\n",
       "    <tr>\n",
       "      <th>230660</th>\n",
       "      <td>new zealand fish</td>\n",
       "    </tr>\n",
       "    <tr>\n",
       "      <th>230661</th>\n",
       "      <td>seasoning (soy</td>\n",
       "    </tr>\n",
       "    <tr>\n",
       "      <th>230662</th>\n",
       "      <td>enhancers</td>\n",
       "    </tr>\n",
       "    <tr>\n",
       "      <th>230663</th>\n",
       "      <td>shrimp powder)</td>\n",
       "    </tr>\n",
       "  </tbody>\n",
       "</table>\n",
       "<p>230664 rows × 1 columns</p>\n",
       "</div>"
      ],
      "text/plain": [
       "                    ingredient\n",
       "0                vegetable oil\n",
       "1                   canola oil\n",
       "2                     palm oil\n",
       "3                  coconut oil\n",
       "4       lecithin from soybeans\n",
       "...                        ...\n",
       "230659                   herb)\n",
       "230660        new zealand fish\n",
       "230661          seasoning (soy\n",
       "230662               enhancers\n",
       "230663          shrimp powder)\n",
       "\n",
       "[230664 rows x 1 columns]"
      ]
     },
     "execution_count": 115,
     "metadata": {},
     "output_type": "execute_result"
    }
   ],
   "source": [
    "# Create table with ingredients\n",
    "ingredients_df = pd.DataFrame(\n",
    "    data={\n",
    "        'ingredient':ingredients.explode().unique()\n",
    "    }\n",
    ")\n",
    "ingredients_df"
   ]
  },
  {
   "cell_type": "code",
   "execution_count": 91,
   "id": "b98fa58d",
   "metadata": {},
   "outputs": [
    {
     "data": {
      "text/html": [
       "<div>\n",
       "<style scoped>\n",
       "    .dataframe tbody tr th:only-of-type {\n",
       "        vertical-align: middle;\n",
       "    }\n",
       "\n",
       "    .dataframe tbody tr th {\n",
       "        vertical-align: top;\n",
       "    }\n",
       "\n",
       "    .dataframe thead th {\n",
       "        text-align: right;\n",
       "    }\n",
       "</style>\n",
       "<table border=\"1\" class=\"dataframe\">\n",
       "  <thead>\n",
       "    <tr style=\"text-align: right;\">\n",
       "      <th></th>\n",
       "      <th>fdc_id</th>\n",
       "      <th>ingredient_id</th>\n",
       "    </tr>\n",
       "  </thead>\n",
       "  <tbody>\n",
       "    <tr>\n",
       "      <th>0</th>\n",
       "      <td>0</td>\n",
       "      <td>0</td>\n",
       "    </tr>\n",
       "    <tr>\n",
       "      <th>1</th>\n",
       "      <td>11</td>\n",
       "      <td>0</td>\n",
       "    </tr>\n",
       "    <tr>\n",
       "      <th>2</th>\n",
       "      <td>12</td>\n",
       "      <td>0</td>\n",
       "    </tr>\n",
       "    <tr>\n",
       "      <th>3</th>\n",
       "      <td>13</td>\n",
       "      <td>0</td>\n",
       "    </tr>\n",
       "    <tr>\n",
       "      <th>4</th>\n",
       "      <td>15</td>\n",
       "      <td>0</td>\n",
       "    </tr>\n",
       "    <tr>\n",
       "      <th>...</th>\n",
       "      <td>...</td>\n",
       "      <td>...</td>\n",
       "    </tr>\n",
       "    <tr>\n",
       "      <th>18684478</th>\n",
       "      <td>1830903</td>\n",
       "      <td>255184</td>\n",
       "    </tr>\n",
       "    <tr>\n",
       "      <th>18684479</th>\n",
       "      <td>1830905</td>\n",
       "      <td>255185</td>\n",
       "    </tr>\n",
       "    <tr>\n",
       "      <th>18684480</th>\n",
       "      <td>1830906</td>\n",
       "      <td>255188</td>\n",
       "    </tr>\n",
       "    <tr>\n",
       "      <th>18684481</th>\n",
       "      <td>1830908</td>\n",
       "      <td>255189</td>\n",
       "    </tr>\n",
       "    <tr>\n",
       "      <th>18684482</th>\n",
       "      <td>1830908</td>\n",
       "      <td>255190</td>\n",
       "    </tr>\n",
       "  </tbody>\n",
       "</table>\n",
       "<p>18684483 rows × 2 columns</p>\n",
       "</div>"
      ],
      "text/plain": [
       "           fdc_id  ingredient_id\n",
       "0               0              0\n",
       "1              11              0\n",
       "2              12              0\n",
       "3              13              0\n",
       "4              15              0\n",
       "...           ...            ...\n",
       "18684478  1830903         255184\n",
       "18684479  1830905         255185\n",
       "18684480  1830906         255188\n",
       "18684481  1830908         255189\n",
       "18684482  1830908         255190\n",
       "\n",
       "[18684483 rows x 2 columns]"
      ]
     },
     "execution_count": 91,
     "metadata": {},
     "output_type": "execute_result"
    }
   ],
   "source": [
    "# Create a normalization table indicating what ingredients are in each food\n",
    "food_ingredients = (\n",
    "    ingredients\n",
    "    .explode()\n",
    "    .reset_index()\n",
    "    .rename(columns={'index':'fdc_id', 'ingredients':'ingredient'})\n",
    "    .merge(ingredients_df)\n",
    "    .rename(columns={'ingredientId':'ingredient_id'})\n",
    "    .drop(columns=['ingredient'])\n",
    ")\n",
    "food_ingredients"
   ]
  },
  {
   "cell_type": "code",
   "execution_count": 117,
   "id": "73fd3a64",
   "metadata": {},
   "outputs": [],
   "source": [
    "write_df_to_csv(food_ingredients, os.path.join('cleaned', 'food_to_id.csv'))\n",
    "del food_ingredients"
   ]
  },
  {
   "cell_type": "code",
   "execution_count": 116,
   "id": "d16fb0dd",
   "metadata": {},
   "outputs": [
    {
     "data": {
      "text/html": [
       "<div>\n",
       "<style scoped>\n",
       "    .dataframe tbody tr th:only-of-type {\n",
       "        vertical-align: middle;\n",
       "    }\n",
       "\n",
       "    .dataframe tbody tr th {\n",
       "        vertical-align: top;\n",
       "    }\n",
       "\n",
       "    .dataframe thead th {\n",
       "        text-align: right;\n",
       "    }\n",
       "</style>\n",
       "<table border=\"1\" class=\"dataframe\">\n",
       "  <thead>\n",
       "    <tr style=\"text-align: right;\">\n",
       "      <th></th>\n",
       "      <th>brand_owner</th>\n",
       "      <th>brand_name</th>\n",
       "      <th>subbrand_name</th>\n",
       "      <th>gtin_upc</th>\n",
       "      <th>ingredients</th>\n",
       "      <th>not_a_significant_source_of</th>\n",
       "      <th>serving_size</th>\n",
       "      <th>serving_size_unit</th>\n",
       "      <th>household_serving_fulltext</th>\n",
       "      <th>data_source</th>\n",
       "      <th>...</th>\n",
       "      <th>insig_vitamin_c</th>\n",
       "      <th>insig_added_sugars</th>\n",
       "      <th>insig_total_sugars</th>\n",
       "      <th>insig_calories_from_fat</th>\n",
       "      <th>insig_sugars</th>\n",
       "      <th>insig_fiber</th>\n",
       "      <th>insig_other_nutrients</th>\n",
       "      <th>household_serving_amount</th>\n",
       "      <th>household_serving_unit</th>\n",
       "      <th>category_id</th>\n",
       "    </tr>\n",
       "  </thead>\n",
       "  <tbody>\n",
       "    <tr>\n",
       "      <th>0</th>\n",
       "      <td>Richardson Oilseed Products (US) Limited</td>\n",
       "      <td>NaN</td>\n",
       "      <td>NaN</td>\n",
       "      <td>00027000612323</td>\n",
       "      <td>Vegetable Oil</td>\n",
       "      <td>NaN</td>\n",
       "      <td>15.00</td>\n",
       "      <td>ml</td>\n",
       "      <td>NaN</td>\n",
       "      <td>GDSN</td>\n",
       "      <td>...</td>\n",
       "      <td>0</td>\n",
       "      <td>0</td>\n",
       "      <td>0</td>\n",
       "      <td>0</td>\n",
       "      <td>0</td>\n",
       "      <td>0</td>\n",
       "      <td>0</td>\n",
       "      <td>NaN</td>\n",
       "      <td>NaN</td>\n",
       "      <td>164</td>\n",
       "    </tr>\n",
       "    <tr>\n",
       "      <th>1</th>\n",
       "      <td>Conagra Brands</td>\n",
       "      <td>NaN</td>\n",
       "      <td>NaN</td>\n",
       "      <td>00027000690260</td>\n",
       "      <td>Canola Oil</td>\n",
       "      <td>NaN</td>\n",
       "      <td>15.00</td>\n",
       "      <td>ml</td>\n",
       "      <td>1 tbsp (15ml)</td>\n",
       "      <td>GDSN</td>\n",
       "      <td>...</td>\n",
       "      <td>0</td>\n",
       "      <td>0</td>\n",
       "      <td>0</td>\n",
       "      <td>0</td>\n",
       "      <td>0</td>\n",
       "      <td>0</td>\n",
       "      <td>0</td>\n",
       "      <td>1.00</td>\n",
       "      <td>tbsp</td>\n",
       "      <td>164</td>\n",
       "    </tr>\n",
       "    <tr>\n",
       "      <th>2</th>\n",
       "      <td>Conagra Brands</td>\n",
       "      <td>NaN</td>\n",
       "      <td>NaN</td>\n",
       "      <td>00064144555550</td>\n",
       "      <td>Canola Oil*, Palm Oil*, Coconut Oil*, Lecithin...</td>\n",
       "      <td>NaN</td>\n",
       "      <td>0.25</td>\n",
       "      <td>g</td>\n",
       "      <td>1/4 Second Spray (0.25g)</td>\n",
       "      <td>GDSN</td>\n",
       "      <td>...</td>\n",
       "      <td>0</td>\n",
       "      <td>0</td>\n",
       "      <td>0</td>\n",
       "      <td>0</td>\n",
       "      <td>0</td>\n",
       "      <td>0</td>\n",
       "      <td>0</td>\n",
       "      <td>0.25</td>\n",
       "      <td>second spray</td>\n",
       "      <td>164</td>\n",
       "    </tr>\n",
       "    <tr>\n",
       "      <th>3</th>\n",
       "      <td>Conagra Brands</td>\n",
       "      <td>NaN</td>\n",
       "      <td>NaN</td>\n",
       "      <td>00064144033164</td>\n",
       "      <td>Canola Oil*, Coconut Oil*, Palm Oil*, Soy Leci...</td>\n",
       "      <td>NaN</td>\n",
       "      <td>0.25</td>\n",
       "      <td>g</td>\n",
       "      <td>1/4 second spray (0.25g)</td>\n",
       "      <td>GDSN</td>\n",
       "      <td>...</td>\n",
       "      <td>0</td>\n",
       "      <td>0</td>\n",
       "      <td>0</td>\n",
       "      <td>0</td>\n",
       "      <td>0</td>\n",
       "      <td>0</td>\n",
       "      <td>0</td>\n",
       "      <td>0.25</td>\n",
       "      <td>second spray</td>\n",
       "      <td>164</td>\n",
       "    </tr>\n",
       "    <tr>\n",
       "      <th>4</th>\n",
       "      <td>Conagra Brands</td>\n",
       "      <td>NaN</td>\n",
       "      <td>NaN</td>\n",
       "      <td>00064144048502</td>\n",
       "      <td>Extra Virgin Olive Oil*, Lecithin from Soybean...</td>\n",
       "      <td>NaN</td>\n",
       "      <td>0.25</td>\n",
       "      <td>g</td>\n",
       "      <td>1/4 Second Spray (.25g)</td>\n",
       "      <td>GDSN</td>\n",
       "      <td>...</td>\n",
       "      <td>0</td>\n",
       "      <td>0</td>\n",
       "      <td>0</td>\n",
       "      <td>0</td>\n",
       "      <td>0</td>\n",
       "      <td>0</td>\n",
       "      <td>0</td>\n",
       "      <td>0.25</td>\n",
       "      <td>second spray</td>\n",
       "      <td>164</td>\n",
       "    </tr>\n",
       "    <tr>\n",
       "      <th>...</th>\n",
       "      <td>...</td>\n",
       "      <td>...</td>\n",
       "      <td>...</td>\n",
       "      <td>...</td>\n",
       "      <td>...</td>\n",
       "      <td>...</td>\n",
       "      <td>...</td>\n",
       "      <td>...</td>\n",
       "      <td>...</td>\n",
       "      <td>...</td>\n",
       "      <td>...</td>\n",
       "      <td>...</td>\n",
       "      <td>...</td>\n",
       "      <td>...</td>\n",
       "      <td>...</td>\n",
       "      <td>...</td>\n",
       "      <td>...</td>\n",
       "      <td>...</td>\n",
       "      <td>...</td>\n",
       "      <td>...</td>\n",
       "      <td>...</td>\n",
       "    </tr>\n",
       "    <tr>\n",
       "      <th>1831233</th>\n",
       "      <td>Brakebush Brothers</td>\n",
       "      <td>Brakebush</td>\n",
       "      <td>NaN</td>\n",
       "      <td>10038034520604</td>\n",
       "      <td>INGREDIENTS: SKINLESS BONELESS CHICKEN BREAST ...</td>\n",
       "      <td>NaN</td>\n",
       "      <td>113.00</td>\n",
       "      <td>GRM</td>\n",
       "      <td>4 Ounce</td>\n",
       "      <td>GDSN</td>\n",
       "      <td>...</td>\n",
       "      <td>0</td>\n",
       "      <td>0</td>\n",
       "      <td>0</td>\n",
       "      <td>0</td>\n",
       "      <td>0</td>\n",
       "      <td>0</td>\n",
       "      <td>0</td>\n",
       "      <td>4.00</td>\n",
       "      <td>ounce</td>\n",
       "      <td>179</td>\n",
       "    </tr>\n",
       "    <tr>\n",
       "      <th>1831234</th>\n",
       "      <td>Brakebush Brothers</td>\n",
       "      <td>Brakebush</td>\n",
       "      <td>NaN</td>\n",
       "      <td>10038034556702</td>\n",
       "      <td>UNCOOKED Boneless Chicken Breast TENDER FRITTE...</td>\n",
       "      <td>NaN</td>\n",
       "      <td>76.00</td>\n",
       "      <td>GRM</td>\n",
       "      <td>1 Piece</td>\n",
       "      <td>GDSN</td>\n",
       "      <td>...</td>\n",
       "      <td>0</td>\n",
       "      <td>0</td>\n",
       "      <td>0</td>\n",
       "      <td>0</td>\n",
       "      <td>0</td>\n",
       "      <td>0</td>\n",
       "      <td>0</td>\n",
       "      <td>1.00</td>\n",
       "      <td>piece</td>\n",
       "      <td>179</td>\n",
       "    </tr>\n",
       "    <tr>\n",
       "      <th>1831235</th>\n",
       "      <td>Brakebush Brothers</td>\n",
       "      <td>Brakebush</td>\n",
       "      <td>NaN</td>\n",
       "      <td>10038034460108</td>\n",
       "      <td>INGREDIENTS: CHICKEN 1ST AND 2ND WING PORTIONS...</td>\n",
       "      <td>NaN</td>\n",
       "      <td>117.00</td>\n",
       "      <td>GRM</td>\n",
       "      <td>3 Piece</td>\n",
       "      <td>GDSN</td>\n",
       "      <td>...</td>\n",
       "      <td>0</td>\n",
       "      <td>0</td>\n",
       "      <td>0</td>\n",
       "      <td>0</td>\n",
       "      <td>0</td>\n",
       "      <td>0</td>\n",
       "      <td>0</td>\n",
       "      <td>3.00</td>\n",
       "      <td>piece</td>\n",
       "      <td>179</td>\n",
       "    </tr>\n",
       "    <tr>\n",
       "      <th>1831236</th>\n",
       "      <td>Brakebush Brothers</td>\n",
       "      <td>Brakebush Brothers, Inc.</td>\n",
       "      <td>NaN</td>\n",
       "      <td>10038034522301</td>\n",
       "      <td>INGREDIENTS: SKINLESS BONELESS CHICKEN BREAST ...</td>\n",
       "      <td>NaN</td>\n",
       "      <td>85.00</td>\n",
       "      <td>GRM</td>\n",
       "      <td>3 ounces</td>\n",
       "      <td>GDSN</td>\n",
       "      <td>...</td>\n",
       "      <td>0</td>\n",
       "      <td>0</td>\n",
       "      <td>0</td>\n",
       "      <td>0</td>\n",
       "      <td>0</td>\n",
       "      <td>0</td>\n",
       "      <td>0</td>\n",
       "      <td>3.00</td>\n",
       "      <td>ounces</td>\n",
       "      <td>179</td>\n",
       "    </tr>\n",
       "    <tr>\n",
       "      <th>1831237</th>\n",
       "      <td>Brakebush Brothers</td>\n",
       "      <td>Brakebush</td>\n",
       "      <td>NaN</td>\n",
       "      <td>10038034583302</td>\n",
       "      <td>INGREDIENTS: BONELESS CHICKEN BREAST WITH RIB ...</td>\n",
       "      <td>NaN</td>\n",
       "      <td>159.00</td>\n",
       "      <td>GRM</td>\n",
       "      <td>1 Piece</td>\n",
       "      <td>GDSN</td>\n",
       "      <td>...</td>\n",
       "      <td>0</td>\n",
       "      <td>0</td>\n",
       "      <td>0</td>\n",
       "      <td>0</td>\n",
       "      <td>0</td>\n",
       "      <td>0</td>\n",
       "      <td>0</td>\n",
       "      <td>1.00</td>\n",
       "      <td>piece</td>\n",
       "      <td>179</td>\n",
       "    </tr>\n",
       "  </tbody>\n",
       "</table>\n",
       "<p>1831238 rows × 37 columns</p>\n",
       "</div>"
      ],
      "text/plain": [
       "                                      brand_owner                brand_name  \\\n",
       "0        Richardson Oilseed Products (US) Limited                       NaN   \n",
       "1                                  Conagra Brands                       NaN   \n",
       "2                                  Conagra Brands                       NaN   \n",
       "3                                  Conagra Brands                       NaN   \n",
       "4                                  Conagra Brands                       NaN   \n",
       "...                                           ...                       ...   \n",
       "1831233                        Brakebush Brothers                 Brakebush   \n",
       "1831234                        Brakebush Brothers                 Brakebush   \n",
       "1831235                        Brakebush Brothers                 Brakebush   \n",
       "1831236                        Brakebush Brothers  Brakebush Brothers, Inc.   \n",
       "1831237                        Brakebush Brothers                 Brakebush   \n",
       "\n",
       "        subbrand_name        gtin_upc  \\\n",
       "0                 NaN  00027000612323   \n",
       "1                 NaN  00027000690260   \n",
       "2                 NaN  00064144555550   \n",
       "3                 NaN  00064144033164   \n",
       "4                 NaN  00064144048502   \n",
       "...               ...             ...   \n",
       "1831233           NaN  10038034520604   \n",
       "1831234           NaN  10038034556702   \n",
       "1831235           NaN  10038034460108   \n",
       "1831236           NaN  10038034522301   \n",
       "1831237           NaN  10038034583302   \n",
       "\n",
       "                                               ingredients  \\\n",
       "0                                            Vegetable Oil   \n",
       "1                                               Canola Oil   \n",
       "2        Canola Oil*, Palm Oil*, Coconut Oil*, Lecithin...   \n",
       "3        Canola Oil*, Coconut Oil*, Palm Oil*, Soy Leci...   \n",
       "4        Extra Virgin Olive Oil*, Lecithin from Soybean...   \n",
       "...                                                    ...   \n",
       "1831233  INGREDIENTS: SKINLESS BONELESS CHICKEN BREAST ...   \n",
       "1831234  UNCOOKED Boneless Chicken Breast TENDER FRITTE...   \n",
       "1831235  INGREDIENTS: CHICKEN 1ST AND 2ND WING PORTIONS...   \n",
       "1831236  INGREDIENTS: SKINLESS BONELESS CHICKEN BREAST ...   \n",
       "1831237  INGREDIENTS: BONELESS CHICKEN BREAST WITH RIB ...   \n",
       "\n",
       "        not_a_significant_source_of  serving_size serving_size_unit  \\\n",
       "0                               NaN         15.00                ml   \n",
       "1                               NaN         15.00                ml   \n",
       "2                               NaN          0.25                 g   \n",
       "3                               NaN          0.25                 g   \n",
       "4                               NaN          0.25                 g   \n",
       "...                             ...           ...               ...   \n",
       "1831233                         NaN        113.00               GRM   \n",
       "1831234                         NaN         76.00               GRM   \n",
       "1831235                         NaN        117.00               GRM   \n",
       "1831236                         NaN         85.00               GRM   \n",
       "1831237                         NaN        159.00               GRM   \n",
       "\n",
       "        household_serving_fulltext data_source  ... insig_vitamin_c  \\\n",
       "0                              NaN        GDSN  ...               0   \n",
       "1                    1 tbsp (15ml)        GDSN  ...               0   \n",
       "2         1/4 Second Spray (0.25g)        GDSN  ...               0   \n",
       "3         1/4 second spray (0.25g)        GDSN  ...               0   \n",
       "4          1/4 Second Spray (.25g)        GDSN  ...               0   \n",
       "...                            ...         ...  ...             ...   \n",
       "1831233                    4 Ounce        GDSN  ...               0   \n",
       "1831234                    1 Piece        GDSN  ...               0   \n",
       "1831235                    3 Piece        GDSN  ...               0   \n",
       "1831236                   3 ounces        GDSN  ...               0   \n",
       "1831237                    1 Piece        GDSN  ...               0   \n",
       "\n",
       "        insig_added_sugars insig_total_sugars  insig_calories_from_fat  \\\n",
       "0                        0                  0                        0   \n",
       "1                        0                  0                        0   \n",
       "2                        0                  0                        0   \n",
       "3                        0                  0                        0   \n",
       "4                        0                  0                        0   \n",
       "...                    ...                ...                      ...   \n",
       "1831233                  0                  0                        0   \n",
       "1831234                  0                  0                        0   \n",
       "1831235                  0                  0                        0   \n",
       "1831236                  0                  0                        0   \n",
       "1831237                  0                  0                        0   \n",
       "\n",
       "        insig_sugars  insig_fiber  insig_other_nutrients  \\\n",
       "0                  0            0                      0   \n",
       "1                  0            0                      0   \n",
       "2                  0            0                      0   \n",
       "3                  0            0                      0   \n",
       "4                  0            0                      0   \n",
       "...              ...          ...                    ...   \n",
       "1831233            0            0                      0   \n",
       "1831234            0            0                      0   \n",
       "1831235            0            0                      0   \n",
       "1831236            0            0                      0   \n",
       "1831237            0            0                      0   \n",
       "\n",
       "         household_serving_amount  household_serving_unit  category_id  \n",
       "0                             NaN                     NaN          164  \n",
       "1                            1.00                   tbsp           164  \n",
       "2                            0.25           second spray           164  \n",
       "3                            0.25           second spray           164  \n",
       "4                            0.25           second spray           164  \n",
       "...                           ...                     ...          ...  \n",
       "1831233                      4.00                   ounce          179  \n",
       "1831234                      1.00                   piece          179  \n",
       "1831235                      3.00                   piece          179  \n",
       "1831236                      3.00                  ounces          179  \n",
       "1831237                      1.00                   piece          179  \n",
       "\n",
       "[1831238 rows x 37 columns]"
      ]
     },
     "execution_count": 116,
     "metadata": {},
     "output_type": "execute_result"
    }
   ],
   "source": [
    "branded_food"
   ]
  },
  {
   "cell_type": "code",
   "execution_count": 59,
   "id": "984ea2e1",
   "metadata": {},
   "outputs": [
    {
     "data": {
      "text/html": [
       "<div>\n",
       "<style scoped>\n",
       "    .dataframe tbody tr th:only-of-type {\n",
       "        vertical-align: middle;\n",
       "    }\n",
       "\n",
       "    .dataframe tbody tr th {\n",
       "        vertical-align: top;\n",
       "    }\n",
       "\n",
       "    .dataframe thead th {\n",
       "        text-align: right;\n",
       "    }\n",
       "</style>\n",
       "<table border=\"1\" class=\"dataframe\">\n",
       "  <thead>\n",
       "    <tr style=\"text-align: right;\">\n",
       "      <th></th>\n",
       "      <th>gtin_upc</th>\n",
       "      <th>ingredients</th>\n",
       "      <th>not_a_significant_source_of</th>\n",
       "      <th>serving_size</th>\n",
       "      <th>serving_size_unit</th>\n",
       "      <th>household_serving_fulltext</th>\n",
       "      <th>data_source</th>\n",
       "      <th>package_weight</th>\n",
       "      <th>modified_date</th>\n",
       "      <th>available_date</th>\n",
       "      <th>...</th>\n",
       "      <th>insig_total_sugars</th>\n",
       "      <th>insig_calories_from_fat</th>\n",
       "      <th>insig_sugars</th>\n",
       "      <th>insig_fiber</th>\n",
       "      <th>insig_other_nutrients</th>\n",
       "      <th>household_serving_amount</th>\n",
       "      <th>household_serving_unit</th>\n",
       "      <th>category_id</th>\n",
       "      <th>brand_owner_id</th>\n",
       "      <th>brand_name_id</th>\n",
       "    </tr>\n",
       "  </thead>\n",
       "  <tbody>\n",
       "    <tr>\n",
       "      <th>0</th>\n",
       "      <td>00027000612323</td>\n",
       "      <td>Vegetable Oil</td>\n",
       "      <td>NaN</td>\n",
       "      <td>15.00</td>\n",
       "      <td>ml</td>\n",
       "      <td>NaN</td>\n",
       "      <td>GDSN</td>\n",
       "      <td>NaN</td>\n",
       "      <td>2020-10-02</td>\n",
       "      <td>2020-11-13</td>\n",
       "      <td>...</td>\n",
       "      <td>0</td>\n",
       "      <td>0</td>\n",
       "      <td>0</td>\n",
       "      <td>0</td>\n",
       "      <td>0</td>\n",
       "      <td>NaN</td>\n",
       "      <td>NaN</td>\n",
       "      <td>164</td>\n",
       "      <td>0.0</td>\n",
       "      <td>NaN</td>\n",
       "    </tr>\n",
       "    <tr>\n",
       "      <th>1</th>\n",
       "      <td>00027000690260</td>\n",
       "      <td>Canola Oil</td>\n",
       "      <td>NaN</td>\n",
       "      <td>15.00</td>\n",
       "      <td>ml</td>\n",
       "      <td>1 tbsp (15ml)</td>\n",
       "      <td>GDSN</td>\n",
       "      <td>NaN</td>\n",
       "      <td>2019-03-25</td>\n",
       "      <td>2019-12-06</td>\n",
       "      <td>...</td>\n",
       "      <td>0</td>\n",
       "      <td>0</td>\n",
       "      <td>0</td>\n",
       "      <td>0</td>\n",
       "      <td>0</td>\n",
       "      <td>1.00</td>\n",
       "      <td>tbsp</td>\n",
       "      <td>164</td>\n",
       "      <td>1.0</td>\n",
       "      <td>NaN</td>\n",
       "    </tr>\n",
       "    <tr>\n",
       "      <th>2</th>\n",
       "      <td>00064144555550</td>\n",
       "      <td>Canola Oil*, Palm Oil*, Coconut Oil*, Lecithin...</td>\n",
       "      <td>NaN</td>\n",
       "      <td>0.25</td>\n",
       "      <td>g</td>\n",
       "      <td>1/4 Second Spray (0.25g)</td>\n",
       "      <td>GDSN</td>\n",
       "      <td>NaN</td>\n",
       "      <td>2019-03-17</td>\n",
       "      <td>2019-12-06</td>\n",
       "      <td>...</td>\n",
       "      <td>0</td>\n",
       "      <td>0</td>\n",
       "      <td>0</td>\n",
       "      <td>0</td>\n",
       "      <td>0</td>\n",
       "      <td>0.25</td>\n",
       "      <td>second spray</td>\n",
       "      <td>164</td>\n",
       "      <td>1.0</td>\n",
       "      <td>NaN</td>\n",
       "    </tr>\n",
       "    <tr>\n",
       "      <th>3</th>\n",
       "      <td>00064144033164</td>\n",
       "      <td>Canola Oil*, Coconut Oil*, Palm Oil*, Soy Leci...</td>\n",
       "      <td>NaN</td>\n",
       "      <td>0.25</td>\n",
       "      <td>g</td>\n",
       "      <td>1/4 second spray (0.25g)</td>\n",
       "      <td>GDSN</td>\n",
       "      <td>NaN</td>\n",
       "      <td>2019-03-25</td>\n",
       "      <td>2019-12-06</td>\n",
       "      <td>...</td>\n",
       "      <td>0</td>\n",
       "      <td>0</td>\n",
       "      <td>0</td>\n",
       "      <td>0</td>\n",
       "      <td>0</td>\n",
       "      <td>0.25</td>\n",
       "      <td>second spray</td>\n",
       "      <td>164</td>\n",
       "      <td>1.0</td>\n",
       "      <td>NaN</td>\n",
       "    </tr>\n",
       "    <tr>\n",
       "      <th>4</th>\n",
       "      <td>00064144048502</td>\n",
       "      <td>Extra Virgin Olive Oil*, Lecithin from Soybean...</td>\n",
       "      <td>NaN</td>\n",
       "      <td>0.25</td>\n",
       "      <td>g</td>\n",
       "      <td>1/4 Second Spray (.25g)</td>\n",
       "      <td>GDSN</td>\n",
       "      <td>NaN</td>\n",
       "      <td>2018-10-21</td>\n",
       "      <td>2019-12-06</td>\n",
       "      <td>...</td>\n",
       "      <td>0</td>\n",
       "      <td>0</td>\n",
       "      <td>0</td>\n",
       "      <td>0</td>\n",
       "      <td>0</td>\n",
       "      <td>0.25</td>\n",
       "      <td>second spray</td>\n",
       "      <td>164</td>\n",
       "      <td>1.0</td>\n",
       "      <td>NaN</td>\n",
       "    </tr>\n",
       "  </tbody>\n",
       "</table>\n",
       "<p>5 rows × 36 columns</p>\n",
       "</div>"
      ],
      "text/plain": [
       "         gtin_upc                                        ingredients  \\\n",
       "0  00027000612323                                      Vegetable Oil   \n",
       "1  00027000690260                                         Canola Oil   \n",
       "2  00064144555550  Canola Oil*, Palm Oil*, Coconut Oil*, Lecithin...   \n",
       "3  00064144033164  Canola Oil*, Coconut Oil*, Palm Oil*, Soy Leci...   \n",
       "4  00064144048502  Extra Virgin Olive Oil*, Lecithin from Soybean...   \n",
       "\n",
       "  not_a_significant_source_of  serving_size serving_size_unit  \\\n",
       "0                         NaN         15.00                ml   \n",
       "1                         NaN         15.00                ml   \n",
       "2                         NaN          0.25                 g   \n",
       "3                         NaN          0.25                 g   \n",
       "4                         NaN          0.25                 g   \n",
       "\n",
       "  household_serving_fulltext data_source package_weight modified_date  \\\n",
       "0                        NaN        GDSN            NaN    2020-10-02   \n",
       "1              1 tbsp (15ml)        GDSN            NaN    2019-03-25   \n",
       "2   1/4 Second Spray (0.25g)        GDSN            NaN    2019-03-17   \n",
       "3   1/4 second spray (0.25g)        GDSN            NaN    2019-03-25   \n",
       "4    1/4 Second Spray (.25g)        GDSN            NaN    2018-10-21   \n",
       "\n",
       "  available_date  ...  insig_total_sugars insig_calories_from_fat  \\\n",
       "0     2020-11-13  ...                   0                       0   \n",
       "1     2019-12-06  ...                   0                       0   \n",
       "2     2019-12-06  ...                   0                       0   \n",
       "3     2019-12-06  ...                   0                       0   \n",
       "4     2019-12-06  ...                   0                       0   \n",
       "\n",
       "   insig_sugars  insig_fiber  insig_other_nutrients  household_serving_amount  \\\n",
       "0             0            0                      0                       NaN   \n",
       "1             0            0                      0                      1.00   \n",
       "2             0            0                      0                      0.25   \n",
       "3             0            0                      0                      0.25   \n",
       "4             0            0                      0                      0.25   \n",
       "\n",
       "   household_serving_unit  category_id  brand_owner_id  brand_name_id  \n",
       "0                     NaN          164             0.0            NaN  \n",
       "1                   tbsp           164             1.0            NaN  \n",
       "2           second spray           164             1.0            NaN  \n",
       "3           second spray           164             1.0            NaN  \n",
       "4           second spray           164             1.0            NaN  \n",
       "\n",
       "[5 rows x 36 columns]"
      ]
     },
     "execution_count": 59,
     "metadata": {},
     "output_type": "execute_result"
    }
   ],
   "source": [
    "# Replace brands with brand id for memory preservation\n",
    "branded_food_minimal = (\n",
    "    branded_food\n",
    "    .merge(brand_owners, left_on='brand_owner', right_on='brand_owner', how='left')\n",
    "    .merge(brand_name, left_on='brand_name', right_on='brand_name', how='left')\n",
    "    .drop(columns=['brand_owner', 'brand_name', 'subbrand_name'])\n",
    ")\n",
    "branded_food_minimal.head()"
   ]
  },
  {
   "cell_type": "code",
   "execution_count": 60,
   "id": "1f1bc6be",
   "metadata": {},
   "outputs": [
    {
     "data": {
      "text/plain": [
       "0.5098430679136191"
      ]
     },
     "execution_count": 60,
     "metadata": {},
     "output_type": "execute_result"
    }
   ],
   "source": [
    "branded_food_minimal.brand_name_id.isna().mean()"
   ]
  },
  {
   "cell_type": "code",
   "execution_count": 61,
   "id": "95148f0a",
   "metadata": {},
   "outputs": [
    {
     "data": {
      "text/plain": [
       "119483176"
      ]
     },
     "execution_count": 61,
     "metadata": {},
     "output_type": "execute_result"
    }
   ],
   "source": [
    "branded_food.brand_name.memory_usage(deep=True)"
   ]
  },
  {
   "cell_type": "code",
   "execution_count": 62,
   "id": "853bf3e1",
   "metadata": {
    "scrolled": true
   },
   "outputs": [
    {
     "data": {
      "text/plain": [
       "gtin_upc                       0.000000\n",
       "ingredients                    0.002941\n",
       "not_a_significant_source_of    0.959907\n",
       "serving_size                   0.005887\n",
       "serving_size_unit              0.010390\n",
       "household_serving_fulltext     0.588292\n",
       "data_source                    0.000000\n",
       "package_weight                 0.615807\n",
       "modified_date                  0.000004\n",
       "available_date                 0.000000\n",
       "market_country                 0.000000\n",
       "preparation_state_code         0.979301\n",
       "GDSN                           0.000000\n",
       "LI                             0.000000\n",
       "NZGDSN                         0.000000\n",
       "insig_iron                     0.000000\n",
       "insig_calcium                  0.000000\n",
       "insig_cholesterol              0.000000\n",
       "insig_dietary_fiber            0.000000\n",
       "insig_trans_fat                0.000000\n",
       "insig_satured_fat              0.000000\n",
       "insig_vitamin_d                0.000000\n",
       "insig_potassium                0.000000\n",
       "insig_vitamin_a                0.000000\n",
       "insig_vitamin_c                0.000000\n",
       "insig_added_sugars             0.000000\n",
       "insig_total_sugars             0.000000\n",
       "insig_calories_from_fat        0.000000\n",
       "insig_sugars                   0.000000\n",
       "insig_fiber                    0.000000\n",
       "insig_other_nutrients          0.000000\n",
       "household_serving_amount       0.593906\n",
       "household_serving_unit         0.593906\n",
       "category_id                    0.000000\n",
       "brand_owner_id                 0.007426\n",
       "brand_name_id                  0.509843\n",
       "dtype: float64"
      ]
     },
     "execution_count": 62,
     "metadata": {},
     "output_type": "execute_result"
    }
   ],
   "source": [
    "branded_food_minimal.isna().mean()"
   ]
  },
  {
   "cell_type": "code",
   "execution_count": null,
   "id": "e8edbdf2",
   "metadata": {},
   "outputs": [],
   "source": []
  },
  {
   "cell_type": "code",
   "execution_count": 63,
   "id": "619da2af",
   "metadata": {},
   "outputs": [
    {
     "data": {
      "text/html": [
       "<div>\n",
       "<style scoped>\n",
       "    .dataframe tbody tr th:only-of-type {\n",
       "        vertical-align: middle;\n",
       "    }\n",
       "\n",
       "    .dataframe tbody tr th {\n",
       "        vertical-align: top;\n",
       "    }\n",
       "\n",
       "    .dataframe thead th {\n",
       "        text-align: right;\n",
       "    }\n",
       "</style>\n",
       "<table border=\"1\" class=\"dataframe\">\n",
       "  <thead>\n",
       "    <tr style=\"text-align: right;\">\n",
       "      <th></th>\n",
       "      <th>gtin_upc</th>\n",
       "      <th>ingredients</th>\n",
       "      <th>not_a_significant_source_of</th>\n",
       "      <th>serving_size</th>\n",
       "      <th>serving_size_unit</th>\n",
       "      <th>household_serving_fulltext</th>\n",
       "      <th>data_source</th>\n",
       "      <th>package_weight</th>\n",
       "      <th>modified_date</th>\n",
       "      <th>available_date</th>\n",
       "      <th>...</th>\n",
       "      <th>insig_total_sugars</th>\n",
       "      <th>insig_calories_from_fat</th>\n",
       "      <th>insig_sugars</th>\n",
       "      <th>insig_fiber</th>\n",
       "      <th>insig_other_nutrients</th>\n",
       "      <th>household_serving_amount</th>\n",
       "      <th>household_serving_unit</th>\n",
       "      <th>category_id</th>\n",
       "      <th>brand_owner_id</th>\n",
       "      <th>brand_name_id</th>\n",
       "    </tr>\n",
       "  </thead>\n",
       "  <tbody>\n",
       "    <tr>\n",
       "      <th>272486</th>\n",
       "      <td>000000000000</td>\n",
       "      <td>ORGANIC BLUE CORN, ORGANIC SUNFLOWER OIL, SEA ...</td>\n",
       "      <td>NaN</td>\n",
       "      <td>28.0</td>\n",
       "      <td>g</td>\n",
       "      <td>1 ONZ</td>\n",
       "      <td>LI</td>\n",
       "      <td>NaN</td>\n",
       "      <td>2018-04-16</td>\n",
       "      <td>2019-04-01</td>\n",
       "      <td>...</td>\n",
       "      <td>0</td>\n",
       "      <td>0</td>\n",
       "      <td>0</td>\n",
       "      <td>0</td>\n",
       "      <td>0</td>\n",
       "      <td>1.0</td>\n",
       "      <td>onz</td>\n",
       "      <td>5</td>\n",
       "      <td>7538.0</td>\n",
       "      <td>NaN</td>\n",
       "    </tr>\n",
       "    <tr>\n",
       "      <th>1561786</th>\n",
       "      <td>000000016872</td>\n",
       "      <td>ROASTED PEANUTS (PEANUTS, PEANUT OR CANOLA OIL...</td>\n",
       "      <td>NaN</td>\n",
       "      <td>30.0</td>\n",
       "      <td>g</td>\n",
       "      <td>NaN</td>\n",
       "      <td>LI</td>\n",
       "      <td>25 lbs</td>\n",
       "      <td>2020-06-02</td>\n",
       "      <td>2021-10-28</td>\n",
       "      <td>...</td>\n",
       "      <td>0</td>\n",
       "      <td>0</td>\n",
       "      <td>0</td>\n",
       "      <td>0</td>\n",
       "      <td>0</td>\n",
       "      <td>NaN</td>\n",
       "      <td>NaN</td>\n",
       "      <td>16</td>\n",
       "      <td>4300.0</td>\n",
       "      <td>NaN</td>\n",
       "    </tr>\n",
       "    <tr>\n",
       "      <th>175575</th>\n",
       "      <td>000000018265</td>\n",
       "      <td>YOGURT RAISINS, TAMARI ROASTED ALMONDS, ORGANI...</td>\n",
       "      <td>NaN</td>\n",
       "      <td>40.0</td>\n",
       "      <td>g</td>\n",
       "      <td>NaN</td>\n",
       "      <td>LI</td>\n",
       "      <td>NaN</td>\n",
       "      <td>2021-03-11</td>\n",
       "      <td>2021-10-28</td>\n",
       "      <td>...</td>\n",
       "      <td>0</td>\n",
       "      <td>0</td>\n",
       "      <td>0</td>\n",
       "      <td>0</td>\n",
       "      <td>0</td>\n",
       "      <td>NaN</td>\n",
       "      <td>NaN</td>\n",
       "      <td>0</td>\n",
       "      <td>4300.0</td>\n",
       "      <td>NaN</td>\n",
       "    </tr>\n",
       "    <tr>\n",
       "      <th>844346</th>\n",
       "      <td>000000018319</td>\n",
       "      <td>ORGANIC ROLLED OATS, ORGANIC EVAPORATED CANE J...</td>\n",
       "      <td>NaN</td>\n",
       "      <td>55.0</td>\n",
       "      <td>g</td>\n",
       "      <td>NaN</td>\n",
       "      <td>LI</td>\n",
       "      <td>NaN</td>\n",
       "      <td>2021-03-11</td>\n",
       "      <td>2021-10-28</td>\n",
       "      <td>...</td>\n",
       "      <td>0</td>\n",
       "      <td>0</td>\n",
       "      <td>0</td>\n",
       "      <td>0</td>\n",
       "      <td>0</td>\n",
       "      <td>NaN</td>\n",
       "      <td>NaN</td>\n",
       "      <td>12</td>\n",
       "      <td>4300.0</td>\n",
       "      <td>NaN</td>\n",
       "    </tr>\n",
       "    <tr>\n",
       "      <th>175577</th>\n",
       "      <td>000000018340</td>\n",
       "      <td>DRY ROASTED ALMONDS, HATCH GREEN CHILE SEASONI...</td>\n",
       "      <td>NaN</td>\n",
       "      <td>30.0</td>\n",
       "      <td>g</td>\n",
       "      <td>NaN</td>\n",
       "      <td>LI</td>\n",
       "      <td>NaN</td>\n",
       "      <td>2020-06-03</td>\n",
       "      <td>2021-10-28</td>\n",
       "      <td>...</td>\n",
       "      <td>0</td>\n",
       "      <td>0</td>\n",
       "      <td>0</td>\n",
       "      <td>0</td>\n",
       "      <td>0</td>\n",
       "      <td>NaN</td>\n",
       "      <td>NaN</td>\n",
       "      <td>0</td>\n",
       "      <td>4300.0</td>\n",
       "      <td>NaN</td>\n",
       "    </tr>\n",
       "    <tr>\n",
       "      <th>...</th>\n",
       "      <td>...</td>\n",
       "      <td>...</td>\n",
       "      <td>...</td>\n",
       "      <td>...</td>\n",
       "      <td>...</td>\n",
       "      <td>...</td>\n",
       "      <td>...</td>\n",
       "      <td>...</td>\n",
       "      <td>...</td>\n",
       "      <td>...</td>\n",
       "      <td>...</td>\n",
       "      <td>...</td>\n",
       "      <td>...</td>\n",
       "      <td>...</td>\n",
       "      <td>...</td>\n",
       "      <td>...</td>\n",
       "      <td>...</td>\n",
       "      <td>...</td>\n",
       "      <td>...</td>\n",
       "      <td>...</td>\n",
       "      <td>...</td>\n",
       "    </tr>\n",
       "    <tr>\n",
       "      <th>1691547</th>\n",
       "      <td>BOOST</td>\n",
       "      <td>WATER, GLUCOSE SYRUP, SUGAR, MILK PROTEIN CONC...</td>\n",
       "      <td>NaN</td>\n",
       "      <td>237.0</td>\n",
       "      <td>ml</td>\n",
       "      <td>1 bottle</td>\n",
       "      <td>LI</td>\n",
       "      <td>NaN</td>\n",
       "      <td>2020-06-16</td>\n",
       "      <td>2020-07-30</td>\n",
       "      <td>...</td>\n",
       "      <td>0</td>\n",
       "      <td>0</td>\n",
       "      <td>0</td>\n",
       "      <td>0</td>\n",
       "      <td>0</td>\n",
       "      <td>1.0</td>\n",
       "      <td>bottle</td>\n",
       "      <td>51</td>\n",
       "      <td>256.0</td>\n",
       "      <td>NaN</td>\n",
       "    </tr>\n",
       "    <tr>\n",
       "      <th>906256</th>\n",
       "      <td>HAPPYKIDORGANICS</td>\n",
       "      <td>CULTURED GRADE A ORGANIC MILK, WATER, ORGANIC ...</td>\n",
       "      <td>NaN</td>\n",
       "      <td>99.0</td>\n",
       "      <td>g</td>\n",
       "      <td>1 pouch</td>\n",
       "      <td>LI</td>\n",
       "      <td>NaN</td>\n",
       "      <td>2020-07-24</td>\n",
       "      <td>2020-08-27</td>\n",
       "      <td>...</td>\n",
       "      <td>0</td>\n",
       "      <td>0</td>\n",
       "      <td>0</td>\n",
       "      <td>0</td>\n",
       "      <td>0</td>\n",
       "      <td>1.0</td>\n",
       "      <td>pouch</td>\n",
       "      <td>13</td>\n",
       "      <td>256.0</td>\n",
       "      <td>NaN</td>\n",
       "    </tr>\n",
       "    <tr>\n",
       "      <th>334297</th>\n",
       "      <td>JARLSBERG</td>\n",
       "      <td>INGREDIENTS: PASTEURIZED PART-SKIM MILK, CULTU...</td>\n",
       "      <td>NaN</td>\n",
       "      <td>28.0</td>\n",
       "      <td>g</td>\n",
       "      <td>1 ONZ</td>\n",
       "      <td>LI</td>\n",
       "      <td>NaN</td>\n",
       "      <td>2020-06-16</td>\n",
       "      <td>2020-07-30</td>\n",
       "      <td>...</td>\n",
       "      <td>0</td>\n",
       "      <td>0</td>\n",
       "      <td>0</td>\n",
       "      <td>0</td>\n",
       "      <td>0</td>\n",
       "      <td>1.0</td>\n",
       "      <td>onz</td>\n",
       "      <td>2</td>\n",
       "      <td>9234.0</td>\n",
       "      <td>NaN</td>\n",
       "    </tr>\n",
       "    <tr>\n",
       "      <th>1732384</th>\n",
       "      <td>NIELSENUK0002</td>\n",
       "      <td>CARBONATED WATER, ACIDS (CITRIC ACID, MALIC AC...</td>\n",
       "      <td>NaN</td>\n",
       "      <td>100.0</td>\n",
       "      <td>ml</td>\n",
       "      <td>100 MLT</td>\n",
       "      <td>LI</td>\n",
       "      <td>NaN</td>\n",
       "      <td>2017-07-14</td>\n",
       "      <td>2019-04-01</td>\n",
       "      <td>...</td>\n",
       "      <td>0</td>\n",
       "      <td>0</td>\n",
       "      <td>0</td>\n",
       "      <td>0</td>\n",
       "      <td>0</td>\n",
       "      <td>100.0</td>\n",
       "      <td>mlt</td>\n",
       "      <td>15</td>\n",
       "      <td>15231.0</td>\n",
       "      <td>NaN</td>\n",
       "    </tr>\n",
       "    <tr>\n",
       "      <th>1486665</th>\n",
       "      <td>OldCountryStore</td>\n",
       "      <td>CURED WITH WATER, SALT, SUGAR, SODIUM PHOSPHAT...</td>\n",
       "      <td>NaN</td>\n",
       "      <td>13.0</td>\n",
       "      <td>g</td>\n",
       "      <td>1 Fried **</td>\n",
       "      <td>LI</td>\n",
       "      <td>NaN</td>\n",
       "      <td>2020-05-06</td>\n",
       "      <td>2020-06-26</td>\n",
       "      <td>...</td>\n",
       "      <td>0</td>\n",
       "      <td>0</td>\n",
       "      <td>0</td>\n",
       "      <td>0</td>\n",
       "      <td>0</td>\n",
       "      <td>1.0</td>\n",
       "      <td>fried **</td>\n",
       "      <td>71</td>\n",
       "      <td>256.0</td>\n",
       "      <td>NaN</td>\n",
       "    </tr>\n",
       "  </tbody>\n",
       "</table>\n",
       "<p>428043 rows × 36 columns</p>\n",
       "</div>"
      ],
      "text/plain": [
       "                 gtin_upc                                        ingredients  \\\n",
       "272486       000000000000  ORGANIC BLUE CORN, ORGANIC SUNFLOWER OIL, SEA ...   \n",
       "1561786      000000016872  ROASTED PEANUTS (PEANUTS, PEANUT OR CANOLA OIL...   \n",
       "175575       000000018265  YOGURT RAISINS, TAMARI ROASTED ALMONDS, ORGANI...   \n",
       "844346       000000018319  ORGANIC ROLLED OATS, ORGANIC EVAPORATED CANE J...   \n",
       "175577       000000018340  DRY ROASTED ALMONDS, HATCH GREEN CHILE SEASONI...   \n",
       "...                   ...                                                ...   \n",
       "1691547             BOOST  WATER, GLUCOSE SYRUP, SUGAR, MILK PROTEIN CONC...   \n",
       "906256   HAPPYKIDORGANICS  CULTURED GRADE A ORGANIC MILK, WATER, ORGANIC ...   \n",
       "334297          JARLSBERG  INGREDIENTS: PASTEURIZED PART-SKIM MILK, CULTU...   \n",
       "1732384     NIELSENUK0002  CARBONATED WATER, ACIDS (CITRIC ACID, MALIC AC...   \n",
       "1486665   OldCountryStore  CURED WITH WATER, SALT, SUGAR, SODIUM PHOSPHAT...   \n",
       "\n",
       "        not_a_significant_source_of  serving_size serving_size_unit  \\\n",
       "272486                          NaN          28.0                 g   \n",
       "1561786                         NaN          30.0                 g   \n",
       "175575                          NaN          40.0                 g   \n",
       "844346                          NaN          55.0                 g   \n",
       "175577                          NaN          30.0                 g   \n",
       "...                             ...           ...               ...   \n",
       "1691547                         NaN         237.0                ml   \n",
       "906256                          NaN          99.0                 g   \n",
       "334297                          NaN          28.0                 g   \n",
       "1732384                         NaN         100.0                ml   \n",
       "1486665                         NaN          13.0                 g   \n",
       "\n",
       "        household_serving_fulltext data_source package_weight modified_date  \\\n",
       "272486                       1 ONZ          LI            NaN    2018-04-16   \n",
       "1561786                        NaN          LI         25 lbs    2020-06-02   \n",
       "175575                         NaN          LI            NaN    2021-03-11   \n",
       "844346                         NaN          LI            NaN    2021-03-11   \n",
       "175577                         NaN          LI            NaN    2020-06-03   \n",
       "...                            ...         ...            ...           ...   \n",
       "1691547                   1 bottle          LI            NaN    2020-06-16   \n",
       "906256                     1 pouch          LI            NaN    2020-07-24   \n",
       "334297                       1 ONZ          LI            NaN    2020-06-16   \n",
       "1732384                    100 MLT          LI            NaN    2017-07-14   \n",
       "1486665                 1 Fried **          LI            NaN    2020-05-06   \n",
       "\n",
       "        available_date  ...  insig_total_sugars insig_calories_from_fat  \\\n",
       "272486      2019-04-01  ...                   0                       0   \n",
       "1561786     2021-10-28  ...                   0                       0   \n",
       "175575      2021-10-28  ...                   0                       0   \n",
       "844346      2021-10-28  ...                   0                       0   \n",
       "175577      2021-10-28  ...                   0                       0   \n",
       "...                ...  ...                 ...                     ...   \n",
       "1691547     2020-07-30  ...                   0                       0   \n",
       "906256      2020-08-27  ...                   0                       0   \n",
       "334297      2020-07-30  ...                   0                       0   \n",
       "1732384     2019-04-01  ...                   0                       0   \n",
       "1486665     2020-06-26  ...                   0                       0   \n",
       "\n",
       "         insig_sugars  insig_fiber  insig_other_nutrients  \\\n",
       "272486              0            0                      0   \n",
       "1561786             0            0                      0   \n",
       "175575              0            0                      0   \n",
       "844346              0            0                      0   \n",
       "175577              0            0                      0   \n",
       "...               ...          ...                    ...   \n",
       "1691547             0            0                      0   \n",
       "906256              0            0                      0   \n",
       "334297              0            0                      0   \n",
       "1732384             0            0                      0   \n",
       "1486665             0            0                      0   \n",
       "\n",
       "         household_serving_amount  household_serving_unit  category_id  \\\n",
       "272486                        1.0                     onz            5   \n",
       "1561786                       NaN                     NaN           16   \n",
       "175575                        NaN                     NaN            0   \n",
       "844346                        NaN                     NaN           12   \n",
       "175577                        NaN                     NaN            0   \n",
       "...                           ...                     ...          ...   \n",
       "1691547                       1.0                  bottle           51   \n",
       "906256                        1.0                   pouch           13   \n",
       "334297                        1.0                     onz            2   \n",
       "1732384                     100.0                     mlt           15   \n",
       "1486665                       1.0                fried **           71   \n",
       "\n",
       "         brand_owner_id  brand_name_id  \n",
       "272486           7538.0            NaN  \n",
       "1561786          4300.0            NaN  \n",
       "175575           4300.0            NaN  \n",
       "844346           4300.0            NaN  \n",
       "175577           4300.0            NaN  \n",
       "...                 ...            ...  \n",
       "1691547           256.0            NaN  \n",
       "906256            256.0            NaN  \n",
       "334297           9234.0            NaN  \n",
       "1732384         15231.0            NaN  \n",
       "1486665           256.0            NaN  \n",
       "\n",
       "[428043 rows x 36 columns]"
      ]
     },
     "execution_count": 63,
     "metadata": {},
     "output_type": "execute_result"
    }
   ],
   "source": [
    "# Also replace brand name, subbrand is most likely alright\n",
    "branded_food_minimal.sort_values(['gtin_upc', 'available_date']).drop_duplicates(subset='gtin_upc', keep='last')"
   ]
  },
  {
   "cell_type": "code",
   "execution_count": 65,
   "id": "2f4ec799",
   "metadata": {
    "scrolled": true
   },
   "outputs": [
    {
     "data": {
      "text/html": [
       "<div>\n",
       "<style scoped>\n",
       "    .dataframe tbody tr th:only-of-type {\n",
       "        vertical-align: middle;\n",
       "    }\n",
       "\n",
       "    .dataframe tbody tr th {\n",
       "        vertical-align: top;\n",
       "    }\n",
       "\n",
       "    .dataframe thead th {\n",
       "        text-align: right;\n",
       "    }\n",
       "</style>\n",
       "<table border=\"1\" class=\"dataframe\">\n",
       "  <thead>\n",
       "    <tr style=\"text-align: right;\">\n",
       "      <th></th>\n",
       "      <th>brand_owner</th>\n",
       "      <th>brand_name</th>\n",
       "      <th>subbrand_name</th>\n",
       "      <th>gtin_upc</th>\n",
       "      <th>ingredients</th>\n",
       "      <th>not_a_significant_source_of</th>\n",
       "      <th>serving_size</th>\n",
       "      <th>serving_size_unit</th>\n",
       "      <th>household_serving_fulltext</th>\n",
       "      <th>data_source</th>\n",
       "      <th>...</th>\n",
       "      <th>insig_vitamin_c</th>\n",
       "      <th>insig_added_sugars</th>\n",
       "      <th>insig_total_sugars</th>\n",
       "      <th>insig_calories_from_fat</th>\n",
       "      <th>insig_sugars</th>\n",
       "      <th>insig_fiber</th>\n",
       "      <th>insig_other_nutrients</th>\n",
       "      <th>household_serving_amount</th>\n",
       "      <th>household_serving_unit</th>\n",
       "      <th>category_id</th>\n",
       "    </tr>\n",
       "  </thead>\n",
       "  <tbody>\n",
       "    <tr>\n",
       "      <th>1561786</th>\n",
       "      <td>Edward Leeds &amp; Company</td>\n",
       "      <td>SUNRIDGE</td>\n",
       "      <td>NaN</td>\n",
       "      <td>000000016872</td>\n",
       "      <td>ROASTED PEANUTS (PEANUTS, PEANUT OR CANOLA OIL...</td>\n",
       "      <td>NaN</td>\n",
       "      <td>30.0</td>\n",
       "      <td>g</td>\n",
       "      <td>NaN</td>\n",
       "      <td>LI</td>\n",
       "      <td>...</td>\n",
       "      <td>0</td>\n",
       "      <td>0</td>\n",
       "      <td>0</td>\n",
       "      <td>0</td>\n",
       "      <td>0</td>\n",
       "      <td>0</td>\n",
       "      <td>0</td>\n",
       "      <td>NaN</td>\n",
       "      <td>NaN</td>\n",
       "      <td>16</td>\n",
       "    </tr>\n",
       "    <tr>\n",
       "      <th>1553484</th>\n",
       "      <td>Edward Leeds &amp; Company</td>\n",
       "      <td>SUNRIDGE</td>\n",
       "      <td>NaN</td>\n",
       "      <td>000000016872</td>\n",
       "      <td>ROASTED PEANUTS (PEANUTS, PEANUT OR CANOLA OIL...</td>\n",
       "      <td>NaN</td>\n",
       "      <td>30.0</td>\n",
       "      <td>g</td>\n",
       "      <td>NaN</td>\n",
       "      <td>LI</td>\n",
       "      <td>...</td>\n",
       "      <td>0</td>\n",
       "      <td>0</td>\n",
       "      <td>0</td>\n",
       "      <td>0</td>\n",
       "      <td>0</td>\n",
       "      <td>0</td>\n",
       "      <td>0</td>\n",
       "      <td>NaN</td>\n",
       "      <td>NaN</td>\n",
       "      <td>16</td>\n",
       "    </tr>\n",
       "    <tr>\n",
       "      <th>1547353</th>\n",
       "      <td>Edward Leeds &amp; Company</td>\n",
       "      <td>NaN</td>\n",
       "      <td>NaN</td>\n",
       "      <td>000000016872</td>\n",
       "      <td>ROASTED PEANUTS (PEANUTS, PEANUT OR CANOLA OIL...</td>\n",
       "      <td>NaN</td>\n",
       "      <td>30.0</td>\n",
       "      <td>g</td>\n",
       "      <td>0.25 cup</td>\n",
       "      <td>LI</td>\n",
       "      <td>...</td>\n",
       "      <td>0</td>\n",
       "      <td>0</td>\n",
       "      <td>0</td>\n",
       "      <td>0</td>\n",
       "      <td>0</td>\n",
       "      <td>0</td>\n",
       "      <td>0</td>\n",
       "      <td>0.25</td>\n",
       "      <td>cup</td>\n",
       "      <td>16</td>\n",
       "    </tr>\n",
       "    <tr>\n",
       "      <th>1548733</th>\n",
       "      <td>Edward Leeds &amp; Company</td>\n",
       "      <td>SUNRIDGE</td>\n",
       "      <td>NaN</td>\n",
       "      <td>000000016872</td>\n",
       "      <td>ROASTED PEANUTS (PEANUTS, PEANUT OR CANOLA OIL...</td>\n",
       "      <td>NaN</td>\n",
       "      <td>30.0</td>\n",
       "      <td>g</td>\n",
       "      <td>NaN</td>\n",
       "      <td>LI</td>\n",
       "      <td>...</td>\n",
       "      <td>0</td>\n",
       "      <td>0</td>\n",
       "      <td>0</td>\n",
       "      <td>0</td>\n",
       "      <td>0</td>\n",
       "      <td>0</td>\n",
       "      <td>0</td>\n",
       "      <td>NaN</td>\n",
       "      <td>NaN</td>\n",
       "      <td>16</td>\n",
       "    </tr>\n",
       "    <tr>\n",
       "      <th>150787</th>\n",
       "      <td>Edward Leeds &amp; Company</td>\n",
       "      <td>SUNRIDGE</td>\n",
       "      <td>NaN</td>\n",
       "      <td>000000018265</td>\n",
       "      <td>YOGURT RAISINS, TAMARI ROASTED ALMONDS, ORGANI...</td>\n",
       "      <td>NaN</td>\n",
       "      <td>40.0</td>\n",
       "      <td>g</td>\n",
       "      <td>NaN</td>\n",
       "      <td>LI</td>\n",
       "      <td>...</td>\n",
       "      <td>0</td>\n",
       "      <td>0</td>\n",
       "      <td>0</td>\n",
       "      <td>0</td>\n",
       "      <td>0</td>\n",
       "      <td>0</td>\n",
       "      <td>0</td>\n",
       "      <td>NaN</td>\n",
       "      <td>NaN</td>\n",
       "      <td>0</td>\n",
       "    </tr>\n",
       "    <tr>\n",
       "      <th>...</th>\n",
       "      <td>...</td>\n",
       "      <td>...</td>\n",
       "      <td>...</td>\n",
       "      <td>...</td>\n",
       "      <td>...</td>\n",
       "      <td>...</td>\n",
       "      <td>...</td>\n",
       "      <td>...</td>\n",
       "      <td>...</td>\n",
       "      <td>...</td>\n",
       "      <td>...</td>\n",
       "      <td>...</td>\n",
       "      <td>...</td>\n",
       "      <td>...</td>\n",
       "      <td>...</td>\n",
       "      <td>...</td>\n",
       "      <td>...</td>\n",
       "      <td>...</td>\n",
       "      <td>...</td>\n",
       "      <td>...</td>\n",
       "      <td>...</td>\n",
       "    </tr>\n",
       "    <tr>\n",
       "      <th>1151146</th>\n",
       "      <td>WHOLE FOODS MARKET</td>\n",
       "      <td>NaN</td>\n",
       "      <td>NaN</td>\n",
       "      <td>999482001585</td>\n",
       "      <td>TAPIOCA SYRUP, CANE SUGAR, CORN STARCH - MODIF...</td>\n",
       "      <td>NaN</td>\n",
       "      <td>30.0</td>\n",
       "      <td>g</td>\n",
       "      <td>6 PIECES</td>\n",
       "      <td>LI</td>\n",
       "      <td>...</td>\n",
       "      <td>0</td>\n",
       "      <td>0</td>\n",
       "      <td>0</td>\n",
       "      <td>0</td>\n",
       "      <td>0</td>\n",
       "      <td>0</td>\n",
       "      <td>0</td>\n",
       "      <td>6.00</td>\n",
       "      <td>pieces</td>\n",
       "      <td>1</td>\n",
       "    </tr>\n",
       "    <tr>\n",
       "      <th>48837</th>\n",
       "      <td>CIRCLE K</td>\n",
       "      <td>NaN</td>\n",
       "      <td>NaN</td>\n",
       "      <td>999995377214</td>\n",
       "      <td>SUGAR, BUTTER(MILK), WHEAT FLOUR(WHEAT FLOUR, ...</td>\n",
       "      <td>NaN</td>\n",
       "      <td>33.0</td>\n",
       "      <td>g</td>\n",
       "      <td>NaN</td>\n",
       "      <td>LI</td>\n",
       "      <td>...</td>\n",
       "      <td>0</td>\n",
       "      <td>0</td>\n",
       "      <td>0</td>\n",
       "      <td>0</td>\n",
       "      <td>0</td>\n",
       "      <td>0</td>\n",
       "      <td>0</td>\n",
       "      <td>NaN</td>\n",
       "      <td>NaN</td>\n",
       "      <td>4</td>\n",
       "    </tr>\n",
       "    <tr>\n",
       "      <th>60137</th>\n",
       "      <td>CIRCLE K</td>\n",
       "      <td>NaN</td>\n",
       "      <td>NaN</td>\n",
       "      <td>999995377214</td>\n",
       "      <td>SUGAR, BUTTER(MILK), WHEAT FLOUR(WHEAT FLOUR, ...</td>\n",
       "      <td>NaN</td>\n",
       "      <td>33.0</td>\n",
       "      <td>g</td>\n",
       "      <td>1.16 ONZ</td>\n",
       "      <td>LI</td>\n",
       "      <td>...</td>\n",
       "      <td>0</td>\n",
       "      <td>0</td>\n",
       "      <td>0</td>\n",
       "      <td>0</td>\n",
       "      <td>0</td>\n",
       "      <td>0</td>\n",
       "      <td>0</td>\n",
       "      <td>1.16</td>\n",
       "      <td>onz</td>\n",
       "      <td>4</td>\n",
       "    </tr>\n",
       "    <tr>\n",
       "      <th>1486665</th>\n",
       "      <td>NOT A BRANDED ITEM</td>\n",
       "      <td>NaN</td>\n",
       "      <td>NaN</td>\n",
       "      <td>OldCountryStore</td>\n",
       "      <td>CURED WITH WATER, SALT, SUGAR, SODIUM PHOSPHAT...</td>\n",
       "      <td>NaN</td>\n",
       "      <td>13.0</td>\n",
       "      <td>g</td>\n",
       "      <td>1 Fried **</td>\n",
       "      <td>LI</td>\n",
       "      <td>...</td>\n",
       "      <td>0</td>\n",
       "      <td>0</td>\n",
       "      <td>0</td>\n",
       "      <td>0</td>\n",
       "      <td>0</td>\n",
       "      <td>0</td>\n",
       "      <td>0</td>\n",
       "      <td>1.00</td>\n",
       "      <td>fried **</td>\n",
       "      <td>71</td>\n",
       "    </tr>\n",
       "    <tr>\n",
       "      <th>1486436</th>\n",
       "      <td>NOT A BRANDED ITEM</td>\n",
       "      <td>NaN</td>\n",
       "      <td>NaN</td>\n",
       "      <td>OldCountryStore</td>\n",
       "      <td>CURED WITH WATER, SALT, SUGAR, SODIUM PHOSPHAT...</td>\n",
       "      <td>NaN</td>\n",
       "      <td>13.0</td>\n",
       "      <td>g</td>\n",
       "      <td>1 Fried **</td>\n",
       "      <td>LI</td>\n",
       "      <td>...</td>\n",
       "      <td>0</td>\n",
       "      <td>0</td>\n",
       "      <td>0</td>\n",
       "      <td>0</td>\n",
       "      <td>0</td>\n",
       "      <td>0</td>\n",
       "      <td>0</td>\n",
       "      <td>1.00</td>\n",
       "      <td>fried **</td>\n",
       "      <td>71</td>\n",
       "    </tr>\n",
       "  </tbody>\n",
       "</table>\n",
       "<p>1772327 rows × 37 columns</p>\n",
       "</div>"
      ],
      "text/plain": [
       "                    brand_owner brand_name subbrand_name         gtin_upc  \\\n",
       "1561786  Edward Leeds & Company   SUNRIDGE           NaN     000000016872   \n",
       "1553484  Edward Leeds & Company   SUNRIDGE           NaN     000000016872   \n",
       "1547353  Edward Leeds & Company        NaN           NaN     000000016872   \n",
       "1548733  Edward Leeds & Company   SUNRIDGE           NaN     000000016872   \n",
       "150787   Edward Leeds & Company   SUNRIDGE           NaN     000000018265   \n",
       "...                         ...        ...           ...              ...   \n",
       "1151146      WHOLE FOODS MARKET        NaN           NaN     999482001585   \n",
       "48837                  CIRCLE K        NaN           NaN     999995377214   \n",
       "60137                  CIRCLE K        NaN           NaN     999995377214   \n",
       "1486665      NOT A BRANDED ITEM        NaN           NaN  OldCountryStore   \n",
       "1486436      NOT A BRANDED ITEM        NaN           NaN  OldCountryStore   \n",
       "\n",
       "                                               ingredients  \\\n",
       "1561786  ROASTED PEANUTS (PEANUTS, PEANUT OR CANOLA OIL...   \n",
       "1553484  ROASTED PEANUTS (PEANUTS, PEANUT OR CANOLA OIL...   \n",
       "1547353  ROASTED PEANUTS (PEANUTS, PEANUT OR CANOLA OIL...   \n",
       "1548733  ROASTED PEANUTS (PEANUTS, PEANUT OR CANOLA OIL...   \n",
       "150787   YOGURT RAISINS, TAMARI ROASTED ALMONDS, ORGANI...   \n",
       "...                                                    ...   \n",
       "1151146  TAPIOCA SYRUP, CANE SUGAR, CORN STARCH - MODIF...   \n",
       "48837    SUGAR, BUTTER(MILK), WHEAT FLOUR(WHEAT FLOUR, ...   \n",
       "60137    SUGAR, BUTTER(MILK), WHEAT FLOUR(WHEAT FLOUR, ...   \n",
       "1486665  CURED WITH WATER, SALT, SUGAR, SODIUM PHOSPHAT...   \n",
       "1486436  CURED WITH WATER, SALT, SUGAR, SODIUM PHOSPHAT...   \n",
       "\n",
       "        not_a_significant_source_of  serving_size serving_size_unit  \\\n",
       "1561786                         NaN          30.0                 g   \n",
       "1553484                         NaN          30.0                 g   \n",
       "1547353                         NaN          30.0                 g   \n",
       "1548733                         NaN          30.0                 g   \n",
       "150787                          NaN          40.0                 g   \n",
       "...                             ...           ...               ...   \n",
       "1151146                         NaN          30.0                 g   \n",
       "48837                           NaN          33.0                 g   \n",
       "60137                           NaN          33.0                 g   \n",
       "1486665                         NaN          13.0                 g   \n",
       "1486436                         NaN          13.0                 g   \n",
       "\n",
       "        household_serving_fulltext data_source  ... insig_vitamin_c  \\\n",
       "1561786                        NaN          LI  ...               0   \n",
       "1553484                        NaN          LI  ...               0   \n",
       "1547353                   0.25 cup          LI  ...               0   \n",
       "1548733                        NaN          LI  ...               0   \n",
       "150787                         NaN          LI  ...               0   \n",
       "...                            ...         ...  ...             ...   \n",
       "1151146                   6 PIECES          LI  ...               0   \n",
       "48837                          NaN          LI  ...               0   \n",
       "60137                     1.16 ONZ          LI  ...               0   \n",
       "1486665                 1 Fried **          LI  ...               0   \n",
       "1486436                 1 Fried **          LI  ...               0   \n",
       "\n",
       "        insig_added_sugars insig_total_sugars  insig_calories_from_fat  \\\n",
       "1561786                  0                  0                        0   \n",
       "1553484                  0                  0                        0   \n",
       "1547353                  0                  0                        0   \n",
       "1548733                  0                  0                        0   \n",
       "150787                   0                  0                        0   \n",
       "...                    ...                ...                      ...   \n",
       "1151146                  0                  0                        0   \n",
       "48837                    0                  0                        0   \n",
       "60137                    0                  0                        0   \n",
       "1486665                  0                  0                        0   \n",
       "1486436                  0                  0                        0   \n",
       "\n",
       "        insig_sugars  insig_fiber  insig_other_nutrients  \\\n",
       "1561786            0            0                      0   \n",
       "1553484            0            0                      0   \n",
       "1547353            0            0                      0   \n",
       "1548733            0            0                      0   \n",
       "150787             0            0                      0   \n",
       "...              ...          ...                    ...   \n",
       "1151146            0            0                      0   \n",
       "48837              0            0                      0   \n",
       "60137              0            0                      0   \n",
       "1486665            0            0                      0   \n",
       "1486436            0            0                      0   \n",
       "\n",
       "         household_serving_amount  household_serving_unit  category_id  \n",
       "1561786                       NaN                     NaN           16  \n",
       "1553484                       NaN                     NaN           16  \n",
       "1547353                      0.25                     cup           16  \n",
       "1548733                       NaN                     NaN           16  \n",
       "150787                        NaN                     NaN            0  \n",
       "...                           ...                     ...          ...  \n",
       "1151146                      6.00                  pieces            1  \n",
       "48837                         NaN                     NaN            4  \n",
       "60137                        1.16                     onz            4  \n",
       "1486665                      1.00                fried **           71  \n",
       "1486436                      1.00                fried **           71  \n",
       "\n",
       "[1772327 rows x 37 columns]"
      ]
     },
     "execution_count": 65,
     "metadata": {},
     "output_type": "execute_result"
    }
   ],
   "source": [
    "# Many have duplicate entries, possibly either due to updates in ingredients or change in packaging?\n",
    "branded_food[branded_food.gtin_upc.isin(only_true(branded_food_minimal.gtin_upc.value_counts() > 1))].sort_values('gtin_upc')"
   ]
  },
  {
   "cell_type": "code",
   "execution_count": 77,
   "id": "6a67e2be",
   "metadata": {
    "scrolled": true
   },
   "outputs": [],
   "source": [
    "#branded_food_minimal.sort_values(['gtin_upc', 'available_date']).drop_duplicates(subset='gtin_upc', keep='last')"
   ]
  },
  {
   "cell_type": "code",
   "execution_count": 68,
   "id": "698647fd",
   "metadata": {},
   "outputs": [
    {
     "data": {
      "text/plain": [
       "1488143307"
      ]
     },
     "execution_count": 68,
     "metadata": {},
     "output_type": "execute_result"
    }
   ],
   "source": [
    "branded_food_minimal.memory_usage(deep=True).sum() # About 862 megabytes"
   ]
  },
  {
   "cell_type": "code",
   "execution_count": 69,
   "id": "3c6fee1e",
   "metadata": {},
   "outputs": [
    {
     "data": {
      "text/plain": [
       "16700"
      ]
     },
     "execution_count": 69,
     "metadata": {},
     "output_type": "execute_result"
    }
   ],
   "source": [
    "cat_df.memory_usage(deep=True).sum()"
   ]
  },
  {
   "cell_type": "markdown",
   "id": "613f3b01",
   "metadata": {},
   "source": [
    "Finally, we have done multiple normalizations and reductions in memory, and are now ready to write it to disk. "
   ]
  },
  {
   "cell_type": "code",
   "execution_count": null,
   "id": "cc3685ee",
   "metadata": {},
   "outputs": [],
   "source": [
    "branded_food.to_csv('data/branded_food_reduced.csv')"
   ]
  },
  {
   "cell_type": "code",
   "execution_count": null,
   "id": "5ba1d26d",
   "metadata": {},
   "outputs": [],
   "source": [
    "cat_df.to_csv('data/branded_food_categories.csv')"
   ]
  },
  {
   "cell_type": "code",
   "execution_count": null,
   "id": "4ae59fd4",
   "metadata": {},
   "outputs": [],
   "source": [
    "brand_owners_df.to_csv('data/brand_owners.csv')"
   ]
  },
  {
   "cell_type": "code",
   "execution_count": null,
   "id": "5ae27112",
   "metadata": {},
   "outputs": [],
   "source": [
    "food_to_ingredient_df.to_csv('data/food_to_ingredient.csv')"
   ]
  },
  {
   "cell_type": "code",
   "execution_count": null,
   "id": "59e38ede",
   "metadata": {},
   "outputs": [],
   "source": [
    "ingredients_df.to_csv('data/ingredients.csv')"
   ]
  },
  {
   "cell_type": "markdown",
   "id": "555834cb",
   "metadata": {},
   "source": [
    "## Webapp specific changes\n",
    "\n",
    "In order to make the dataset as small as possible, we will drop additional columns that most likely cannot be fully made use of."
   ]
  },
  {
   "cell_type": "code",
   "execution_count": null,
   "id": "bdf0e91d",
   "metadata": {},
   "outputs": [],
   "source": [
    "branded_food.drop(columns='ingredients')"
   ]
  },
  {
   "cell_type": "code",
   "execution_count": null,
   "id": "c884510e",
   "metadata": {},
   "outputs": [],
   "source": []
  },
  {
   "cell_type": "code",
   "execution_count": null,
   "id": "60b54b2c",
   "metadata": {},
   "outputs": [],
   "source": []
  }
 ],
 "metadata": {
  "kernelspec": {
   "display_name": "Python 3 (ipykernel)",
   "language": "python",
   "name": "python3"
  },
  "language_info": {
   "codemirror_mode": {
    "name": "ipython",
    "version": 3
   },
   "file_extension": ".py",
   "mimetype": "text/x-python",
   "name": "python",
   "nbconvert_exporter": "python",
   "pygments_lexer": "ipython3",
   "version": "3.9.13"
  }
 },
 "nbformat": 4,
 "nbformat_minor": 5
}
