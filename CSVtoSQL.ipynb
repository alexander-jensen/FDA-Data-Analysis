{
 "cells": [
  {
   "cell_type": "markdown",
   "id": "260a3b24",
   "metadata": {},
   "source": [
    "# Run the other two notebooks first before running this!\n",
    "\n",
    "This notebook assumes that you've 1) downloaded the initial dataset, and 2) ran the Branded Food Initial Data Cleaning notebook. Running this with pgadmin will populate the dataset with the cleaned datafiles."
   ]
  },
  {
   "cell_type": "markdown",
   "id": "8686ec08",
   "metadata": {},
   "source": [
    "### Tables to create:\n",
    "- branded_food_reduced -> branded_foods table (main food data file) (done)\n",
    "- brand_names -> brand_names table (normalization for brand names)\n",
    "- brand_owners -> brand_owners table\n",
    "- food_categories -> food_categories table\n",
    "- ingredients -> ingredients table\n",
    "- food_to_id -> f_to_ing table (food to ingredient for ingredients, should be made after ingredients)"
   ]
  },
  {
   "cell_type": "code",
   "execution_count": 48,
   "id": "9f8a32aa",
   "metadata": {},
   "outputs": [],
   "source": [
    "import os\n",
    "import psycopg2\n",
    "import pandas as pd\n",
    "import psycopg2.extras as extras \n",
    "from sql_creation import run_command, connect, create_insert_branded_foods\n",
    "import numpy as np"
   ]
  },
  {
   "cell_type": "code",
   "execution_count": 38,
   "id": "6b94a257",
   "metadata": {},
   "outputs": [
    {
     "name": "stdout",
     "output_type": "stream",
     "text": [
      "Attempting to connect to postgreSQL database...\n",
      "Connected\n",
      "postgreSQL db version: ('PostgreSQL 16.2, compiled by Visual C++ build 1937, 64-bit',)\n"
     ]
    },
    {
     "data": {
      "text/plain": [
       "(<connection object at 0x0000025983352E10; dsn: 'user=postgres password=xxx dbname=food_db host=localhost', closed: 0>,\n",
       " <cursor object at 0x000002599B0A2F20; closed: 0>)"
      ]
     },
     "execution_count": 38,
     "metadata": {},
     "output_type": "execute_result"
    }
   ],
   "source": [
    "# Create initial connection to the database\n",
    "conn, cursor = connect()\n",
    "conn, cursor"
   ]
  },
  {
   "cell_type": "code",
   "execution_count": 39,
   "id": "523a8667-e604-4edf-b8a0-ee76ebf5ccfd",
   "metadata": {},
   "outputs": [
    {
     "name": "stderr",
     "output_type": "stream",
     "text": [
      "C:\\Users\\Alexander\\Desktop\\FDA-Data-Analysis\\sql_creation.py:57: DtypeWarning: Columns (2,5,9,10,31) have mixed types. Specify dtype option on import or set low_memory=False.\n",
      "  reduced_food = pd.read_csv(os.path.join('cleaned', 'branded_food_reduced.csv'))#.drop(columns='Unnamed: 0')\n"
     ]
    },
    {
     "name": "stdout",
     "output_type": "stream",
     "text": [
      "<class 'psycopg2.errors.DuplicateTable'> relation \"branded_foods\" already exists\n",
      "\n"
     ]
    }
   ],
   "source": [
    "create_insert_branded_foods(conn, clear_table=True)"
   ]
  },
  {
   "cell_type": "code",
   "execution_count": 58,
   "id": "ade2fb04",
   "metadata": {},
   "outputs": [],
   "source": [
    "def create_brand_names(clear_table=True):\n",
    "    brand_names = pd.read_csv(os.path.join('cleaned', 'brand_names.csv'))[['brand_name_id', 'brand_name']]\n",
    "    brand_names.head()\n",
    "    \n",
    "    # Create table\n",
    "    brand_names_schema = \"\"\"\n",
    "        CREATE TABLE brand_names (\n",
    "            brand_id INTEGER PRIMARY KEY NOT NULL,\n",
    "            brand_name VARCHAR(64) NOT NULL\n",
    "        )\n",
    "    \"\"\"\n",
    "\n",
    "    run_command(conn, brand_names_schema)\n",
    "    \n",
    "    # Clear table if needed\n",
    "    if clear_table:\n",
    "        run_command(conn, 'DELETE FROM brand_names')\n",
    "    \n",
    "    # Insert values into table\n",
    "    insert_command = \"INSERT INTO brand_names VALUES (%s, %s)\"\n",
    "    \n",
    "    for row in brand_names.to_numpy():\n",
    "        run_command(conn, insert_command, row)"
   ]
  },
  {
   "cell_type": "code",
   "execution_count": 67,
   "id": "bf38d7d6",
   "metadata": {},
   "outputs": [],
   "source": [
    "clear_table = True\n",
    "brand_owners = pd.read_csv(os.path.join('cleaned', 'brand_owners.csv'))[['brand_owner_id', 'brand_owner']]\n",
    "brand_owners.head()\n",
    "\n",
    "# Create table\n",
    "brand_owners_schema = \"\"\"\n",
    "    CREATE TABLE brand_owners (\n",
    "        brand_id INTEGER PRIMARY KEY NOT NULL,\n",
    "        brand_name VARCHAR(128) NOT NULL\n",
    "    )\n",
    "\"\"\"\n",
    "\n",
    "run_command(conn, brand_owners_schema)\n",
    "\n",
    "# Clear table if needed\n",
    "if clear_table:\n",
    "    run_command(conn, 'DELETE FROM brand_owners')\n",
    "\n",
    "# Insert values into table\n",
    "insert_command = \"INSERT INTO brand_owners VALUES (%s, %s)\"\n",
    "\n",
    "for row in brand_names.to_numpy():\n",
    "    run_command(conn, insert_command, row)"
   ]
  },
  {
   "cell_type": "code",
   "execution_count": 68,
   "id": "cb24b973",
   "metadata": {},
   "outputs": [],
   "source": []
  },
  {
   "cell_type": "code",
   "execution_count": null,
   "id": "8253e1cf",
   "metadata": {},
   "outputs": [],
   "source": []
  }
 ],
 "metadata": {
  "kernelspec": {
   "display_name": "Python 3 (ipykernel)",
   "language": "python",
   "name": "python3"
  },
  "language_info": {
   "codemirror_mode": {
    "name": "ipython",
    "version": 3
   },
   "file_extension": ".py",
   "mimetype": "text/x-python",
   "name": "python",
   "nbconvert_exporter": "python",
   "pygments_lexer": "ipython3",
   "version": "3.9.18"
  }
 },
 "nbformat": 4,
 "nbformat_minor": 5
}
