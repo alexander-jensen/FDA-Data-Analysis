{
 "cells": [
  {
   "cell_type": "markdown",
   "id": "260a3b24",
   "metadata": {},
   "source": [
    "# Run the other two notebooks first before running this!\n",
    "\n",
    "This notebook assumes that you've 1) downloaded the initial dataset, and 2) ran the Branded Food Initial Data Cleaning notebook. Running this with pgadmin will populate the dataset with the cleaned datafiles."
   ]
  },
  {
   "cell_type": "markdown",
   "id": "8686ec08",
   "metadata": {},
   "source": [
    "### Tables to create:\n",
    "- branded_food_reduced -> branded_foods table (main food data file) (done)\n",
    "- brand_names -> brand_names table (normalization for brand names) (done)\n",
    "- brand_owners -> brand_owners table (done)\n",
    "- food_categories -> food_categories table (done)\n",
    "- ingredients -> ingredients table\n",
    "- food_to_id -> f_to_ing table (food to ingredient for ingredients, should be made after ingredients)"
   ]
  },
  {
   "cell_type": "code",
   "execution_count": 1,
   "id": "9f8a32aa",
   "metadata": {},
   "outputs": [],
   "source": [
    "import os\n",
    "import psycopg2\n",
    "import pandas as pd\n",
    "import psycopg2.extras as extras \n",
    "from psycopg2.extensions import register_adapter, AsIs\n",
    "from sql_creation import (run_command, \n",
    "    connect, \n",
    "    create_insert_branded_foods,\n",
    "    create_brand_names,\n",
    "    create_brand_owners,\n",
    "    create_food_categories,\n",
    "    create_ingredients,\n",
    "    create_food_to_ing,\n",
    "    create_nutrients,\n",
    "    create_food_nutrients)\n",
    "import numpy as np"
   ]
  },
  {
   "cell_type": "code",
   "execution_count": 3,
   "id": "d6df5cd1",
   "metadata": {},
   "outputs": [],
   "source": [
    "# Data type handling for numpy numbers\n",
    "def addapt_numpy_float64(numpy_float64):\n",
    "    return AsIs(numpy_float64)\n",
    "def addapt_numpy_int64(numpy_int64):\n",
    "    return AsIs(numpy_int64)\n",
    "register_adapter(np.float64, addapt_numpy_float64)\n",
    "register_adapter(np.int64, addapt_numpy_int64)\n",
    "register_adapter(np.int32, addapt_numpy_int64)\n",
    "register_adapter(np.float32, addapt_numpy_float64)"
   ]
  },
  {
   "cell_type": "code",
   "execution_count": 4,
   "id": "6b94a257",
   "metadata": {},
   "outputs": [
    {
     "name": "stdout",
     "output_type": "stream",
     "text": [
      "Attempting to connect to postgreSQL database...\n",
      "Connected\n",
      "postgreSQL db version: ('PostgreSQL 16.2, compiled by Visual C++ build 1937, 64-bit',)\n"
     ]
    },
    {
     "data": {
      "text/plain": [
       "(<connection object at 0x000001E304D329D0; dsn: 'user=postgres password=xxx dbname=food_db host=localhost', closed: 0>,\n",
       " <cursor object at 0x000001E31D96D820; closed: 0>)"
      ]
     },
     "execution_count": 4,
     "metadata": {},
     "output_type": "execute_result"
    }
   ],
   "source": [
    "# Create initial connection to the database\n",
    "conn, cursor = connect()\n",
    "conn, cursor"
   ]
  },
  {
   "cell_type": "code",
   "execution_count": 4,
   "id": "523a8667-e604-4edf-b8a0-ee76ebf5ccfd",
   "metadata": {},
   "outputs": [
    {
     "name": "stderr",
     "output_type": "stream",
     "text": [
      "C:\\Users\\Alexander\\Desktop\\FDA-Data-Analysis\\sql_creation.py:57: DtypeWarning: Columns (2,5,9,10,31) have mixed types. Specify dtype option on import or set low_memory=False.\n",
      "  reduced_food = pd.read_csv(os.path.join('cleaned', 'branded_food_reduced.csv'))#.drop(columns='Unnamed: 0')\n"
     ]
    },
    {
     "name": "stdout",
     "output_type": "stream",
     "text": [
      "<class 'psycopg2.errors.DuplicateTable'> relation \"branded_foods\" already exists\n",
      "\n"
     ]
    }
   ],
   "source": [
    "create_insert_branded_foods(conn, clear_table=True)\n",
    "conn.commit()"
   ]
  },
  {
   "cell_type": "code",
   "execution_count": 16,
   "id": "df58c0b0",
   "metadata": {},
   "outputs": [],
   "source": [
    "create_brand_names(conn)\n",
    "conn.commit()"
   ]
  },
  {
   "cell_type": "code",
   "execution_count": 17,
   "id": "8c85bc1f",
   "metadata": {},
   "outputs": [],
   "source": [
    "create_brand_owners(conn)\n",
    "conn.commit()"
   ]
  },
  {
   "cell_type": "code",
   "execution_count": 18,
   "id": "193d8fec",
   "metadata": {},
   "outputs": [],
   "source": [
    "create_food_categories(conn)\n",
    "conn.commit()"
   ]
  },
  {
   "cell_type": "code",
   "execution_count": 19,
   "id": "4ec10eaa",
   "metadata": {},
   "outputs": [],
   "source": [
    "create_ingredients(conn)\n",
    "conn.commit()"
   ]
  },
  {
   "cell_type": "code",
   "execution_count": 57,
   "id": "0d798b66",
   "metadata": {
    "scrolled": true
   },
   "outputs": [],
   "source": [
    "create_food_to_ing(conn)"
   ]
  },
  {
   "cell_type": "code",
   "execution_count": 58,
   "id": "61e8dc8d",
   "metadata": {},
   "outputs": [],
   "source": [
    "conn.commit()"
   ]
  },
  {
   "cell_type": "code",
   "execution_count": 59,
   "id": "0b60d738",
   "metadata": {},
   "outputs": [],
   "source": [
    "create_nutrients(conn)"
   ]
  },
  {
   "cell_type": "code",
   "execution_count": 60,
   "id": "2d4a1aab",
   "metadata": {},
   "outputs": [],
   "source": [
    "conn.commit()"
   ]
  },
  {
   "cell_type": "code",
   "execution_count": 70,
   "id": "ce5826c9",
   "metadata": {},
   "outputs": [],
   "source": [
    "create_food_nutrients(conn)"
   ]
  },
  {
   "cell_type": "code",
   "execution_count": 71,
   "id": "45d3db16",
   "metadata": {},
   "outputs": [],
   "source": [
    "conn.commit()"
   ]
  },
  {
   "cell_type": "code",
   "execution_count": null,
   "id": "1ecaae8d",
   "metadata": {},
   "outputs": [],
   "source": []
  }
 ],
 "metadata": {
  "kernelspec": {
   "display_name": "Python 3 (ipykernel)",
   "language": "python",
   "name": "python3"
  },
  "language_info": {
   "codemirror_mode": {
    "name": "ipython",
    "version": 3
   },
   "file_extension": ".py",
   "mimetype": "text/x-python",
   "name": "python",
   "nbconvert_exporter": "python",
   "pygments_lexer": "ipython3",
   "version": "3.9.18"
  }
 },
 "nbformat": 4,
 "nbformat_minor": 5
}
