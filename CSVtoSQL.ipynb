{
 "cells": [
  {
   "cell_type": "markdown",
   "id": "260a3b24",
   "metadata": {},
   "source": [
    "# Run the other two notebooks first before running this!\n",
    "\n",
    "This notebook assumes that you've 1) downloaded the initial dataset, and 2) ran the Branded Food Initial Data Cleaning notebook."
   ]
  },
  {
   "cell_type": "code",
   "execution_count": 1,
   "id": "9f8a32aa",
   "metadata": {},
   "outputs": [],
   "source": [
    "import os\n",
    "import psycopg2\n",
    "import pandas as pd\n",
    "from config import config # This is a file to get params as a dict for the db login, make your own!"
   ]
  },
  {
   "cell_type": "code",
   "execution_count": 2,
   "id": "73d2c998",
   "metadata": {
    "scrolled": true
   },
   "outputs": [
    {
     "name": "stderr",
     "output_type": "stream",
     "text": [
      "C:\\Users\\Alexander\\AppData\\Local\\Temp\\ipykernel_15336\\388085391.py:1: DtypeWarning: Columns (2,5,9,10,31) have mixed types. Specify dtype option on import or set low_memory=False.\n",
      "  reduced_food = pd.read_csv(os.path.join('cleaned', 'branded_food_reduced.csv')).drop(columns='Unnamed: 0')\n"
     ]
    },
    {
     "data": {
      "text/html": [
       "<div>\n",
       "<style scoped>\n",
       "    .dataframe tbody tr th:only-of-type {\n",
       "        vertical-align: middle;\n",
       "    }\n",
       "\n",
       "    .dataframe tbody tr th {\n",
       "        vertical-align: top;\n",
       "    }\n",
       "\n",
       "    .dataframe thead th {\n",
       "        text-align: right;\n",
       "    }\n",
       "</style>\n",
       "<table border=\"1\" class=\"dataframe\">\n",
       "  <thead>\n",
       "    <tr style=\"text-align: right;\">\n",
       "      <th></th>\n",
       "      <th>fdc_id</th>\n",
       "      <th>gtin_upc</th>\n",
       "      <th>serving_size</th>\n",
       "      <th>serving_size_unit</th>\n",
       "      <th>household_serving_fulltext</th>\n",
       "      <th>package_weight</th>\n",
       "      <th>modified_date</th>\n",
       "      <th>available_date</th>\n",
       "      <th>preparation_state_code</th>\n",
       "      <th>short_description</th>\n",
       "      <th>...</th>\n",
       "      <th>insig_total_sugars</th>\n",
       "      <th>insig_calories_from_fat</th>\n",
       "      <th>insig_sugars</th>\n",
       "      <th>insig_fiber</th>\n",
       "      <th>insig_other_nutrients</th>\n",
       "      <th>household_serving_amount</th>\n",
       "      <th>household_serving_unit</th>\n",
       "      <th>category_id</th>\n",
       "      <th>brand_owner_id</th>\n",
       "      <th>brand_name_id</th>\n",
       "    </tr>\n",
       "  </thead>\n",
       "  <tbody>\n",
       "    <tr>\n",
       "      <th>0</th>\n",
       "      <td>1105904</td>\n",
       "      <td>27000612323</td>\n",
       "      <td>15.00</td>\n",
       "      <td>ml</td>\n",
       "      <td>NaN</td>\n",
       "      <td>NaN</td>\n",
       "      <td>2020-10-02</td>\n",
       "      <td>2020-11-13</td>\n",
       "      <td>NaN</td>\n",
       "      <td>NaN</td>\n",
       "      <td>...</td>\n",
       "      <td>0</td>\n",
       "      <td>0</td>\n",
       "      <td>0</td>\n",
       "      <td>0</td>\n",
       "      <td>0</td>\n",
       "      <td>NaN</td>\n",
       "      <td>NaN</td>\n",
       "      <td>164</td>\n",
       "      <td>0.0</td>\n",
       "      <td>NaN</td>\n",
       "    </tr>\n",
       "    <tr>\n",
       "      <th>1</th>\n",
       "      <td>605334</td>\n",
       "      <td>27000690260</td>\n",
       "      <td>15.00</td>\n",
       "      <td>ml</td>\n",
       "      <td>1 tbsp (15ml)</td>\n",
       "      <td>NaN</td>\n",
       "      <td>2019-03-25</td>\n",
       "      <td>2019-12-06</td>\n",
       "      <td>NaN</td>\n",
       "      <td>NaN</td>\n",
       "      <td>...</td>\n",
       "      <td>0</td>\n",
       "      <td>0</td>\n",
       "      <td>0</td>\n",
       "      <td>0</td>\n",
       "      <td>0</td>\n",
       "      <td>1.00</td>\n",
       "      <td>tbsp</td>\n",
       "      <td>164</td>\n",
       "      <td>1.0</td>\n",
       "      <td>NaN</td>\n",
       "    </tr>\n",
       "    <tr>\n",
       "      <th>2</th>\n",
       "      <td>606302</td>\n",
       "      <td>64144555550</td>\n",
       "      <td>0.25</td>\n",
       "      <td>g</td>\n",
       "      <td>1/4 Second Spray (0.25g)</td>\n",
       "      <td>NaN</td>\n",
       "      <td>2019-03-17</td>\n",
       "      <td>2019-12-06</td>\n",
       "      <td>NaN</td>\n",
       "      <td>NaN</td>\n",
       "      <td>...</td>\n",
       "      <td>0</td>\n",
       "      <td>0</td>\n",
       "      <td>0</td>\n",
       "      <td>0</td>\n",
       "      <td>0</td>\n",
       "      <td>0.25</td>\n",
       "      <td>second spray</td>\n",
       "      <td>164</td>\n",
       "      <td>1.0</td>\n",
       "      <td>NaN</td>\n",
       "    </tr>\n",
       "    <tr>\n",
       "      <th>3</th>\n",
       "      <td>606392</td>\n",
       "      <td>64144033164</td>\n",
       "      <td>0.25</td>\n",
       "      <td>g</td>\n",
       "      <td>1/4 second spray (0.25g)</td>\n",
       "      <td>NaN</td>\n",
       "      <td>2019-03-25</td>\n",
       "      <td>2019-12-06</td>\n",
       "      <td>NaN</td>\n",
       "      <td>NaN</td>\n",
       "      <td>...</td>\n",
       "      <td>0</td>\n",
       "      <td>0</td>\n",
       "      <td>0</td>\n",
       "      <td>0</td>\n",
       "      <td>0</td>\n",
       "      <td>0.25</td>\n",
       "      <td>second spray</td>\n",
       "      <td>164</td>\n",
       "      <td>1.0</td>\n",
       "      <td>NaN</td>\n",
       "    </tr>\n",
       "    <tr>\n",
       "      <th>4</th>\n",
       "      <td>607224</td>\n",
       "      <td>64144048502</td>\n",
       "      <td>0.25</td>\n",
       "      <td>g</td>\n",
       "      <td>1/4 Second Spray (.25g)</td>\n",
       "      <td>NaN</td>\n",
       "      <td>2018-10-21</td>\n",
       "      <td>2019-12-06</td>\n",
       "      <td>NaN</td>\n",
       "      <td>NaN</td>\n",
       "      <td>...</td>\n",
       "      <td>0</td>\n",
       "      <td>0</td>\n",
       "      <td>0</td>\n",
       "      <td>0</td>\n",
       "      <td>0</td>\n",
       "      <td>0.25</td>\n",
       "      <td>second spray</td>\n",
       "      <td>164</td>\n",
       "      <td>1.0</td>\n",
       "      <td>NaN</td>\n",
       "    </tr>\n",
       "  </tbody>\n",
       "</table>\n",
       "<p>5 rows × 34 columns</p>\n",
       "</div>"
      ],
      "text/plain": [
       "    fdc_id     gtin_upc  serving_size serving_size_unit  \\\n",
       "0  1105904  27000612323         15.00                ml   \n",
       "1   605334  27000690260         15.00                ml   \n",
       "2   606302  64144555550          0.25                 g   \n",
       "3   606392  64144033164          0.25                 g   \n",
       "4   607224  64144048502          0.25                 g   \n",
       "\n",
       "  household_serving_fulltext package_weight modified_date available_date  \\\n",
       "0                        NaN            NaN    2020-10-02     2020-11-13   \n",
       "1              1 tbsp (15ml)            NaN    2019-03-25     2019-12-06   \n",
       "2   1/4 Second Spray (0.25g)            NaN    2019-03-17     2019-12-06   \n",
       "3   1/4 second spray (0.25g)            NaN    2019-03-25     2019-12-06   \n",
       "4    1/4 Second Spray (.25g)            NaN    2018-10-21     2019-12-06   \n",
       "\n",
       "  preparation_state_code short_description  ...  insig_total_sugars  \\\n",
       "0                    NaN               NaN  ...                   0   \n",
       "1                    NaN               NaN  ...                   0   \n",
       "2                    NaN               NaN  ...                   0   \n",
       "3                    NaN               NaN  ...                   0   \n",
       "4                    NaN               NaN  ...                   0   \n",
       "\n",
       "   insig_calories_from_fat  insig_sugars  insig_fiber  insig_other_nutrients  \\\n",
       "0                        0             0            0                      0   \n",
       "1                        0             0            0                      0   \n",
       "2                        0             0            0                      0   \n",
       "3                        0             0            0                      0   \n",
       "4                        0             0            0                      0   \n",
       "\n",
       "   household_serving_amount  household_serving_unit  category_id  \\\n",
       "0                       NaN                     NaN          164   \n",
       "1                      1.00                   tbsp           164   \n",
       "2                      0.25           second spray           164   \n",
       "3                      0.25           second spray           164   \n",
       "4                      0.25           second spray           164   \n",
       "\n",
       "   brand_owner_id  brand_name_id  \n",
       "0             0.0            NaN  \n",
       "1             1.0            NaN  \n",
       "2             1.0            NaN  \n",
       "3             1.0            NaN  \n",
       "4             1.0            NaN  \n",
       "\n",
       "[5 rows x 34 columns]"
      ]
     },
     "execution_count": 2,
     "metadata": {},
     "output_type": "execute_result"
    }
   ],
   "source": [
    "reduced_food = pd.read_csv(os.path.join('cleaned', 'branded_food_reduced.csv')).drop(columns='Unnamed: 0')\n",
    "reduced_food.head()"
   ]
  },
  {
   "cell_type": "code",
   "execution_count": 11,
   "id": "b68f30e8",
   "metadata": {},
   "outputs": [
    {
     "data": {
      "text/plain": [
       "fdc_id                          int64\n",
       "gtin_upc                       object\n",
       "serving_size                  float64\n",
       "serving_size_unit              object\n",
       "household_serving_fulltext     object\n",
       "package_weight                 object\n",
       "modified_date                  object\n",
       "available_date                 object\n",
       "preparation_state_code         object\n",
       "short_description              object\n",
       "GDSN                             bool\n",
       "LI                               bool\n",
       "NZGDSN                           bool\n",
       "insig_iron                      int64\n",
       "insig_calcium                   int64\n",
       "insig_cholesterol               int64\n",
       "insig_dietary_fiber             int64\n",
       "insig_trans_fat                 int64\n",
       "insig_satured_fat               int64\n",
       "insig_vitamin_d                 int64\n",
       "insig_potassium                 int64\n",
       "insig_vitamin_a                 int64\n",
       "insig_vitamin_c                 int64\n",
       "insig_added_sugars              int64\n",
       "insig_total_sugars              int64\n",
       "insig_calories_from_fat         int64\n",
       "insig_sugars                    int64\n",
       "insig_fiber                     int64\n",
       "insig_other_nutrients           int64\n",
       "household_serving_amount      float64\n",
       "household_serving_unit         object\n",
       "category_id                     int64\n",
       "brand_owner_id                float64\n",
       "brand_name_id                 float64\n",
       "dtype: object"
      ]
     },
     "execution_count": 11,
     "metadata": {},
     "output_type": "execute_result"
    }
   ],
   "source": []
  },
  {
   "cell_type": "code",
   "execution_count": 7,
   "id": "aa7aa799",
   "metadata": {},
   "outputs": [],
   "source": []
  },
  {
   "cell_type": "code",
   "execution_count": null,
   "id": "3c8703cd",
   "metadata": {},
   "outputs": [],
   "source": []
  },
  {
   "cell_type": "code",
   "execution_count": 27,
   "id": "4ffe3ace",
   "metadata": {},
   "outputs": [],
   "source": [
    "def connect(command_text):\n",
    "    \"\"\"Connects to the database and returns an sql cursor.\"\"\"\n",
    "    print('Attempting to connect to postgreSQL database...')\n",
    "    connection = None\n",
    "    crsr = None\n",
    "    try:\n",
    "        # Connect to db\n",
    "        connection = psycopg2.connect(**config())\n",
    "        print('Connected')\n",
    "        # Get cursor and fetch version\n",
    "        crsr = connection.cursor()\n",
    "        crsr.execute('SELECT version()')\n",
    "        db_version = crsr.fetchone() # Fetch first row?\n",
    "        print('postgreSQL db version: {0}'.format(db_version))\n",
    "    except(Exception, psycopg2.DatabaseError) as error:\n",
    "        print(error)\n",
    "        \n",
    "    # Exit incase of error\n",
    "    if crsr is None:\n",
    "        return None, None\n",
    "    \n",
    "    try:\n",
    "        crsr.execute(command_text)\n",
    "    except(psycopg2.InternalError) as error:\n",
    "        print(error)\n",
    "        connection.rollback()\n",
    "    "
   ]
  },
  {
   "cell_type": "code",
   "execution_count": 4,
   "id": "6b94a257",
   "metadata": {},
   "outputs": [
    {
     "name": "stdout",
     "output_type": "stream",
     "text": [
      "Attempting to connect to postgreSQL database...\n",
      "Connected\n",
      "postgreSQL db version: ('PostgreSQL 16.2, compiled by Visual C++ build 1937, 64-bit',)\n"
     ]
    }
   ],
   "source": [
    "connection, cursor = connect()\n",
    "#connection, cursor"
   ]
  },
  {
   "cell_type": "code",
   "execution_count": 9,
   "id": "91f72591",
   "metadata": {},
   "outputs": [
    {
     "data": {
      "text/plain": [
       "256113168.0"
      ]
     },
     "execution_count": 9,
     "metadata": {},
     "output_type": "execute_result"
    }
   ],
   "source": [
    "reduced_food.serving_size.max()"
   ]
  },
  {
   "cell_type": "code",
   "execution_count": 14,
   "id": "88f8f713",
   "metadata": {},
   "outputs": [
    {
     "data": {
      "text/plain": [
       "False"
      ]
     },
     "execution_count": 14,
     "metadata": {},
     "output_type": "execute_result"
    }
   ],
   "source": [
    "reduced_food.available_date.isna().any()"
   ]
  },
  {
   "cell_type": "code",
   "execution_count": 25,
   "id": "d380fb52",
   "metadata": {},
   "outputs": [],
   "source": [
    "branded_food_schema = \"\"\"\n",
    "    CREATE TABLE branded_foods (\n",
    "        fdc_id INTEGER PRIMARY KEY NOT NULL,\n",
    "        gtin_upc VARCHAR(32),\n",
    "        serving_size DECIMAL,\n",
    "        serving_size_unit VARCHAR(4),\n",
    "        package_weight VARCHAR(32), \n",
    "        available_date TIMESTAMP NOT NULL,\n",
    "        insig_iron BOOLEAN,\n",
    "        insig_calcium BOOLEAN,\n",
    "        insig_cholesterol BOOLEAN,\n",
    "        insig_dietary_fiber BOOLEAN,\n",
    "        insig_trans_fat BOOLEAN, \n",
    "        insig_satured_fat BOOLEAN,\n",
    "        insig_vitamin_d BOOLEAN,\n",
    "        insig_potassium BOOLEAN, \n",
    "        insig_vitamin_a BOOLEAN,\n",
    "        insig_vitamin_c BOOLEAN,\n",
    "        insig_added_sugars BOOLEAN,\n",
    "        insig_total_sugars BOOLEAN,\n",
    "        insig_calories_from_fat BOOLEAN, \n",
    "        insig_sugars BOOLEAN, \n",
    "        insig_fiber BOOLEAN,\n",
    "        category_id INTEGER,\n",
    "        brand_owner_id INTEGER,\n",
    "        brand_name_id INTEGER\n",
    "    )\n",
    "\"\"\""
   ]
  },
  {
   "cell_type": "code",
   "execution_count": 26,
   "id": "861ead58",
   "metadata": {},
   "outputs": [],
   "source": [
    "cursor.execute(branded_food_schema)"
   ]
  },
  {
   "cell_type": "code",
   "execution_count": 24,
   "id": "31142229",
   "metadata": {},
   "outputs": [],
   "source": [
    "connection.rollback()"
   ]
  },
  {
   "cell_type": "code",
   "execution_count": null,
   "id": "ccef4485",
   "metadata": {},
   "outputs": [],
   "source": []
  }
 ],
 "metadata": {
  "kernelspec": {
   "display_name": "Python 3 (ipykernel)",
   "language": "python",
   "name": "python3"
  },
  "language_info": {
   "codemirror_mode": {
    "name": "ipython",
    "version": 3
   },
   "file_extension": ".py",
   "mimetype": "text/x-python",
   "name": "python",
   "nbconvert_exporter": "python",
   "pygments_lexer": "ipython3",
   "version": "3.9.18"
  }
 },
 "nbformat": 4,
 "nbformat_minor": 5
}
